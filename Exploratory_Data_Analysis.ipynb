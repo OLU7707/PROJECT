{
 "cells": [
  {
   "cell_type": "code",
   "execution_count": 1,
   "id": "a78a4a07",
   "metadata": {},
   "outputs": [],
   "source": [
    "import os\n",
    "import pandas as pd\n",
    "import datetime\n",
    "import matplotlib.pyplot as plt\n",
    "import seaborn as sns"
   ]
  },
  {
   "cell_type": "markdown",
   "id": "eb84cc3a",
   "metadata": {},
   "source": [
    "# Log Data Extraction"
   ]
  },
  {
   "cell_type": "markdown",
   "id": "d201d61a",
   "metadata": {},
   "source": [
    "## server_access log"
   ]
  },
  {
   "cell_type": "code",
   "execution_count": 2,
   "id": "63354816",
   "metadata": {},
   "outputs": [],
   "source": [
    "# Extract the IP address.\n",
    "def extract_ip_address(log_line):\n",
    "    if \"::1 - -\"  not in log_line:\n",
    "        ip_address = log_line.split(' - -')[0]\n",
    "        return ip_address\n",
    "    else:\n",
    "        return 'request was made from the same machine'"
   ]
  },
  {
   "cell_type": "code",
   "execution_count": 3,
   "id": "26dd509e",
   "metadata": {},
   "outputs": [],
   "source": [
    "# Extract date and time.\n",
    "def extract_date_time(log_line):\n",
    "    if \"::1 - -\"  not in log_line:\n",
    "        date_time = log_line.split(' - -')[1].split('\"')[0]\n",
    "        return date_time\n",
    "    else:\n",
    "        return 'request was made from the same machine'"
   ]
  },
  {
   "cell_type": "code",
   "execution_count": 4,
   "id": "a18109c0",
   "metadata": {},
   "outputs": [],
   "source": [
    "# Extract method of request.\n",
    "def extract_method_of_request(log_line):\n",
    "    if \"::1 - -\"  not in log_line:\n",
    "        method_of_request = log_line.split('\"')[1]\n",
    "        return method_of_request\n",
    "    else:\n",
    "        return 'request was made from the same machine'"
   ]
  },
  {
   "cell_type": "code",
   "execution_count": 5,
   "id": "94aff510",
   "metadata": {},
   "outputs": [],
   "source": [
    "# Extract url of request.\n",
    "def extract_url(log_line):\n",
    "    if \"::1 - -\"  not in log_line:\n",
    "        request_url = log_line.split('\"')[1].split(' ')[1]\n",
    "        return request_url\n",
    "    else:\n",
    "        return 'request was made from the same machine'"
   ]
  },
  {
   "cell_type": "code",
   "execution_count": 6,
   "id": "7f42a9c4",
   "metadata": {},
   "outputs": [],
   "source": [
    "# Extract http status code of request.\n",
    "def extract_http_status_code(log_line):\n",
    "    if \"::1 - -\"  not in log_line:\n",
    "        status_code = log_line.split('\"')[2]\n",
    "        return status_code\n",
    "    else:\n",
    "        return 'request was made from the same machine'"
   ]
  },
  {
   "cell_type": "code",
   "execution_count": 7,
   "id": "f7b7008a",
   "metadata": {},
   "outputs": [],
   "source": [
    "# Extract number of bytes send in response\n",
    "def extract_number_of_bytes_send_in_response(log_line):\n",
    "    if \"::1 - -\"  not in i:\n",
    "        number_of_bytes_send_in_respond = log_line.split(' - -')[1].split('\"')[2].split(' ')[2]\n",
    "        return number_of_bytes_send_in_respond\n",
    "    else:\n",
    "        return 'request was made from the same machine'"
   ]
  },
  {
   "cell_type": "code",
   "execution_count": 8,
   "id": "503b72f9",
   "metadata": {},
   "outputs": [],
   "source": [
    "# Extract referer header.\n",
    "def extract_referer_header(log_line):\n",
    "    if \"::1 - -\"  not in log_line:\n",
    "        referer_header = log_line.split(' - -')[1].split('\"')[3]\n",
    "        return referer_header\n",
    "    else:\n",
    "        return 'request was made from the same machine'"
   ]
  },
  {
   "cell_type": "code",
   "execution_count": 9,
   "id": "d8d7a393",
   "metadata": {},
   "outputs": [],
   "source": [
    "# Extract user agent header.\n",
    "def extract_user_agent_header(log_line):\n",
    "    if \"::1 - -\"  not in log_line:\n",
    "        user_agent_header = log_line.split(' - -')[1].split('\"')[-2]\n",
    "        return user_agent_header\n",
    "    else:\n",
    "        return 'request was made from the same machine'"
   ]
  },
  {
   "cell_type": "code",
   "execution_count": 10,
   "id": "46d5fd6a",
   "metadata": {},
   "outputs": [],
   "source": [
    "def get_access_log_data(data_dir):\n",
    "    sub_dir_list=[]\n",
    "    ip_address=[]\n",
    "    date_time = []\n",
    "    request_method=[]\n",
    "    #request_url = []\n",
    "    request_http_status_code = []\n",
    "    #num_of_bytes_in_response = []\n",
    "    referer_head=[]\n",
    "    user_head = []\n",
    "    for sub_dir in os.listdir(data_dir):\n",
    "        sub_dir_path = os.path.join(data_dir,sub_dir)\n",
    "        sub_dir_list.append(sub_dir_path)\n",
    "    for file_path in sub_dir_list:\n",
    "        with open(file_path, 'r') as f:\n",
    "            data= f.readlines()\n",
    "            ip_addrs=[extract_ip_address(i) for i in data]\n",
    "            date_list=[extract_date_time(i) for i in data]\n",
    "            request_methd=[extract_method_of_request(i) for i in data]\n",
    "            #request_url_list=[extract_url(i) for i in data]\n",
    "            request_status_code=[extract_http_status_code(i) for i in data ]\n",
    "            #num_of_bytes=[extract_number_of_bytes_send_in_response(i) for i in data]\n",
    "            referer=[extract_referer_header(i) for i in data]\n",
    "            user_header=[extract_user_agent_header(i) for i in data]\n",
    "            ip_address.append(ip_addrs)\n",
    "            date_time.append(date_list)\n",
    "            request_method.append(request_methd)\n",
    "            #request_url.append(request_url_list)\n",
    "            request_http_status_code.append(request_status_code)\n",
    "            #num_of_bytes_in_response.append(num_of_bytes)\n",
    "            referer_head.append(referer)\n",
    "            user_head.append(user_header)\n",
    "    ip=[ip for i in ip_address for ip in i]\n",
    "    dt = [date for i in date_time for date in i]\n",
    "    r_method=[rmethod for i in request_method for rmethod in i]\n",
    "    r_status=[status for i in request_http_status_code for status in i]\n",
    "    referer_agent=[refer for i in referer_head for refer in i ]\n",
    "    user_agent = [ user for i in user_head for user in i]\n",
    "    data= {'Ip_address':ip, 'Date_Time':dt,'Method_of_request':r_method,'Status_of_request': r_status, 'Referer_Header':referer_agent, 'User_Header':user_agent}\n",
    "    df=pd.DataFrame(data)\n",
    "    return df\n",
    "\n",
    "        \n",
    "            \n",
    "        "
   ]
  },
  {
   "cell_type": "code",
   "execution_count": 1,
   "id": "459631b0",
   "metadata": {},
   "outputs": [],
   "source": [
    "#\n",
    "access_data_dir='C:\\\\Users\\\\User\\\\Desktop\\\\cyber\\\\data\\\\access_log_data'"
   ]
  },
  {
   "cell_type": "code",
   "execution_count": 12,
   "id": "4ee283c1",
   "metadata": {},
   "outputs": [],
   "source": [
    "access_log_data=get_access_log_data(access_data_dir)"
   ]
  },
  {
   "cell_type": "code",
   "execution_count": 13,
   "id": "38b773f7",
   "metadata": {},
   "outputs": [
    {
     "data": {
      "text/html": [
       "<div>\n",
       "<style scoped>\n",
       "    .dataframe tbody tr th:only-of-type {\n",
       "        vertical-align: middle;\n",
       "    }\n",
       "\n",
       "    .dataframe tbody tr th {\n",
       "        vertical-align: top;\n",
       "    }\n",
       "\n",
       "    .dataframe thead th {\n",
       "        text-align: right;\n",
       "    }\n",
       "</style>\n",
       "<table border=\"1\" class=\"dataframe\">\n",
       "  <thead>\n",
       "    <tr style=\"text-align: right;\">\n",
       "      <th></th>\n",
       "      <th>Ip_address</th>\n",
       "      <th>Date_Time</th>\n",
       "      <th>Method_of_request</th>\n",
       "      <th>Status_of_request</th>\n",
       "      <th>Referer_Header</th>\n",
       "      <th>User_Header</th>\n",
       "    </tr>\n",
       "  </thead>\n",
       "  <tbody>\n",
       "    <tr>\n",
       "      <th>0</th>\n",
       "      <td>192.168.10.190</td>\n",
       "      <td>[29/Feb/2020:00:00:02 +0000]</td>\n",
       "      <td>GET /login.php HTTP/1.1</td>\n",
       "      <td>200 2532</td>\n",
       "      <td>-</td>\n",
       "      <td>Mozilla/5.0 (X11; Ubuntu; Linux x86_64; rv:73....</td>\n",
       "    </tr>\n",
       "    <tr>\n",
       "      <th>1</th>\n",
       "      <td>192.168.10.4</td>\n",
       "      <td>[29/Feb/2020:00:00:09 +0000]</td>\n",
       "      <td>POST /services/ajax.php/kronolith/listTopTags ...</td>\n",
       "      <td>200 402</td>\n",
       "      <td>http://mail.cup.com/kronolith/</td>\n",
       "      <td>Mozilla/5.0 (X11; Linux x86_64) AppleWebKit/53...</td>\n",
       "    </tr>\n",
       "    <tr>\n",
       "      <th>2</th>\n",
       "      <td>192.168.10.190</td>\n",
       "      <td>[29/Feb/2020:00:00:12 +0000]</td>\n",
       "      <td>POST /login.php HTTP/1.1</td>\n",
       "      <td>302 601</td>\n",
       "      <td>http://mail.cup.com/login.php</td>\n",
       "      <td>Mozilla/5.0 (X11; Ubuntu; Linux x86_64; rv:73....</td>\n",
       "    </tr>\n",
       "    <tr>\n",
       "      <th>3</th>\n",
       "      <td>192.168.10.190</td>\n",
       "      <td>[29/Feb/2020:00:00:13 +0000]</td>\n",
       "      <td>GET /services/portal/ HTTP/1.1</td>\n",
       "      <td>200 7696</td>\n",
       "      <td>http://mail.cup.com/login.php</td>\n",
       "      <td>Mozilla/5.0 (X11; Ubuntu; Linux x86_64; rv:73....</td>\n",
       "    </tr>\n",
       "    <tr>\n",
       "      <th>4</th>\n",
       "      <td>192.168.10.190</td>\n",
       "      <td>[29/Feb/2020:00:00:14 +0000]</td>\n",
       "      <td>GET /themes/default/graphics/head-bg.png HTTP/1.1</td>\n",
       "      <td>200 380</td>\n",
       "      <td>http://mail.cup.com/themes/default/screen.css</td>\n",
       "      <td>Mozilla/5.0 (X11; Ubuntu; Linux x86_64; rv:73....</td>\n",
       "    </tr>\n",
       "  </tbody>\n",
       "</table>\n",
       "</div>"
      ],
      "text/plain": [
       "       Ip_address                       Date_Time  \\\n",
       "0  192.168.10.190   [29/Feb/2020:00:00:02 +0000]    \n",
       "1    192.168.10.4   [29/Feb/2020:00:00:09 +0000]    \n",
       "2  192.168.10.190   [29/Feb/2020:00:00:12 +0000]    \n",
       "3  192.168.10.190   [29/Feb/2020:00:00:13 +0000]    \n",
       "4  192.168.10.190   [29/Feb/2020:00:00:14 +0000]    \n",
       "\n",
       "                                   Method_of_request Status_of_request  \\\n",
       "0                            GET /login.php HTTP/1.1         200 2532    \n",
       "1  POST /services/ajax.php/kronolith/listTopTags ...          200 402    \n",
       "2                           POST /login.php HTTP/1.1          302 601    \n",
       "3                     GET /services/portal/ HTTP/1.1         200 7696    \n",
       "4  GET /themes/default/graphics/head-bg.png HTTP/1.1          200 380    \n",
       "\n",
       "                                  Referer_Header  \\\n",
       "0                                              -   \n",
       "1                 http://mail.cup.com/kronolith/   \n",
       "2                  http://mail.cup.com/login.php   \n",
       "3                  http://mail.cup.com/login.php   \n",
       "4  http://mail.cup.com/themes/default/screen.css   \n",
       "\n",
       "                                         User_Header  \n",
       "0  Mozilla/5.0 (X11; Ubuntu; Linux x86_64; rv:73....  \n",
       "1  Mozilla/5.0 (X11; Linux x86_64) AppleWebKit/53...  \n",
       "2  Mozilla/5.0 (X11; Ubuntu; Linux x86_64; rv:73....  \n",
       "3  Mozilla/5.0 (X11; Ubuntu; Linux x86_64; rv:73....  \n",
       "4  Mozilla/5.0 (X11; Ubuntu; Linux x86_64; rv:73....  "
      ]
     },
     "execution_count": 13,
     "metadata": {},
     "output_type": "execute_result"
    }
   ],
   "source": [
    "access_log_data.head()"
   ]
  },
  {
   "cell_type": "markdown",
   "id": "79be1ea7",
   "metadata": {},
   "source": [
    "## Error log"
   ]
  },
  {
   "cell_type": "code",
   "execution_count": 14,
   "id": "b6395b4e",
   "metadata": {},
   "outputs": [],
   "source": [
    " # Get the timestamp.\n",
    "def get_time_stamp(log_line):\n",
    "    time_stamp = log_line.split('[:error]')[0]\n",
    "    return time_stamp"
   ]
  },
  {
   "cell_type": "code",
   "execution_count": 15,
   "id": "8e896053",
   "metadata": {},
   "outputs": [],
   "source": [
    " # Get the ip_address.\n",
    "def get_ip_address(log_line):\n",
    "    ip_address = log_line.split(' ')[9]\n",
    "    return ip_address"
   ]
  },
  {
   "cell_type": "code",
   "execution_count": 16,
   "id": "f1f195e1",
   "metadata": {},
   "outputs": [],
   "source": [
    " # Get the Process ID.\n",
    "def get_PID(log_line):\n",
    "    pid = log_line.split(' ')[7]\n",
    "    return pid"
   ]
  },
  {
   "cell_type": "code",
   "execution_count": 17,
   "id": "ad5b1c4a",
   "metadata": {},
   "outputs": [],
   "source": [
    " # Get the referer.\n",
    "def get_referer(log_line):\n",
    "    referer = log_line.split(' ')[-1]\n",
    "    return referer"
   ]
  },
  {
   "cell_type": "code",
   "execution_count": 18,
   "id": "5d34a638",
   "metadata": {},
   "outputs": [],
   "source": [
    "def get_error_log_data(data_dir):\n",
    "    sub_dir_list=[]\n",
    "    ip_address=[]\n",
    "    date_time = []\n",
    "    progress_id=[]\n",
    "    referer_head=[]\n",
    "    for sub_dir in os.listdir(data_dir):\n",
    "        sub_dir_path = os.path.join(data_dir,sub_dir)\n",
    "        sub_dir_list.append(sub_dir_path)\n",
    "    for file_path in sub_dir_list:\n",
    "        with open(file_path, 'r') as f:\n",
    "            data= f.readlines()\n",
    "            ip_addrs=[get_ip_address(i) for i in data]\n",
    "            date_list=[get_time_stamp(i) for i in data]\n",
    "            pid=[get_PID(i) for i in data]\n",
    "            referer=[get_referer(i) for i in data]\n",
    "            ip_address.append(ip_addrs)\n",
    "            date_time.append(date_list)\n",
    "            progress_id.append(pid)\n",
    "            referer_head.append(referer)\n",
    "    ip=[ip for i in ip_address for ip in i]\n",
    "    dt = [date for i in date_time for date in i]\n",
    "    p_id=[pi_d for i in progress_id for pi_d in i]\n",
    "    referer_agent=[refer for i in referer_head for refer in i ]\n",
    "    data= {'Ip_address':ip, 'Date_Time':dt,'PID':p_id,'Referer_Header':referer_agent}\n",
    "    df=pd.DataFrame(data)\n",
    "    return df\n",
    "\n",
    "        \n",
    "            \n",
    "        "
   ]
  },
  {
   "cell_type": "code",
   "execution_count": 2,
   "id": "fc1f7f3f",
   "metadata": {},
   "outputs": [],
   "source": [
    "# \n",
    "error_data_dir='C:\\\\Users\\\\User\\\\Desktop\\\\cyber\\\\data\\\\error_log_data'"
   ]
  },
  {
   "cell_type": "code",
   "execution_count": 20,
   "id": "96a4d717",
   "metadata": {},
   "outputs": [],
   "source": [
    "error_log_data=get_error_log_data(error_data_dir)"
   ]
  },
  {
   "cell_type": "code",
   "execution_count": 21,
   "id": "eefff8f3",
   "metadata": {},
   "outputs": [
    {
     "data": {
      "text/html": [
       "<div>\n",
       "<style scoped>\n",
       "    .dataframe tbody tr th:only-of-type {\n",
       "        vertical-align: middle;\n",
       "    }\n",
       "\n",
       "    .dataframe tbody tr th {\n",
       "        vertical-align: top;\n",
       "    }\n",
       "\n",
       "    .dataframe thead th {\n",
       "        text-align: right;\n",
       "    }\n",
       "</style>\n",
       "<table border=\"1\" class=\"dataframe\">\n",
       "  <thead>\n",
       "    <tr style=\"text-align: right;\">\n",
       "      <th></th>\n",
       "      <th>Ip_address</th>\n",
       "      <th>Date_Time</th>\n",
       "      <th>PID</th>\n",
       "      <th>Referer_Header</th>\n",
       "    </tr>\n",
       "  </thead>\n",
       "  <tbody>\n",
       "    <tr>\n",
       "      <th>0</th>\n",
       "      <td>192.168.10.4:55308]</td>\n",
       "      <td>[Sun Mar 01 06:28:15.983231 2020]</td>\n",
       "      <td>32548]</td>\n",
       "      <td>http://mail.cup.com/nag/\\n</td>\n",
       "    </tr>\n",
       "    <tr>\n",
       "      <th>1</th>\n",
       "      <td>192.168.10.4:55308]</td>\n",
       "      <td>[Sun Mar 01 06:28:15.984200 2020]</td>\n",
       "      <td>32548]</td>\n",
       "      <td>http://mail.cup.com/nag/\\n</td>\n",
       "    </tr>\n",
       "    <tr>\n",
       "      <th>2</th>\n",
       "      <td>192.168.10.4:55308]</td>\n",
       "      <td>[Sun Mar 01 06:28:15.984863 2020]</td>\n",
       "      <td>32548]</td>\n",
       "      <td>http://mail.cup.com/nag/\\n</td>\n",
       "    </tr>\n",
       "    <tr>\n",
       "      <th>3</th>\n",
       "      <td>192.168.10.4:55308]</td>\n",
       "      <td>[Sun Mar 01 06:28:15.985763 2020]</td>\n",
       "      <td>32548]</td>\n",
       "      <td>http://mail.cup.com/nag/\\n</td>\n",
       "    </tr>\n",
       "    <tr>\n",
       "      <th>4</th>\n",
       "      <td>192.168.10.4:55308]</td>\n",
       "      <td>[Sun Mar 01 06:28:15.986326 2020]</td>\n",
       "      <td>32548]</td>\n",
       "      <td>http://mail.cup.com/nag/\\n</td>\n",
       "    </tr>\n",
       "  </tbody>\n",
       "</table>\n",
       "</div>"
      ],
      "text/plain": [
       "            Ip_address                           Date_Time     PID  \\\n",
       "0  192.168.10.4:55308]  [Sun Mar 01 06:28:15.983231 2020]   32548]   \n",
       "1  192.168.10.4:55308]  [Sun Mar 01 06:28:15.984200 2020]   32548]   \n",
       "2  192.168.10.4:55308]  [Sun Mar 01 06:28:15.984863 2020]   32548]   \n",
       "3  192.168.10.4:55308]  [Sun Mar 01 06:28:15.985763 2020]   32548]   \n",
       "4  192.168.10.4:55308]  [Sun Mar 01 06:28:15.986326 2020]   32548]   \n",
       "\n",
       "               Referer_Header  \n",
       "0  http://mail.cup.com/nag/\\n  \n",
       "1  http://mail.cup.com/nag/\\n  \n",
       "2  http://mail.cup.com/nag/\\n  \n",
       "3  http://mail.cup.com/nag/\\n  \n",
       "4  http://mail.cup.com/nag/\\n  "
      ]
     },
     "execution_count": 21,
     "metadata": {},
     "output_type": "execute_result"
    }
   ],
   "source": [
    "error_log_data.head()"
   ]
  },
  {
   "cell_type": "markdown",
   "id": "ad40629e",
   "metadata": {},
   "source": [
    "## User log"
   ]
  },
  {
   "cell_type": "code",
   "execution_count": 22,
   "id": "5bc8b4aa",
   "metadata": {},
   "outputs": [],
   "source": [
    "def extract_date(log_line):\n",
    "    if not log_line.startswith(tuple([' <_','Message:'])):\n",
    "        if 'Next state:' in log_line:\n",
    "            date=log_line.split('.')[0]\n",
    "            return date\n",
    "        else:\n",
    "            pass\n",
    "    else:\n",
    "        pass"
   ]
  },
  {
   "cell_type": "code",
   "execution_count": 23,
   "id": "780a806e",
   "metadata": {},
   "outputs": [],
   "source": [
    "def extract_id(log_line):\n",
    "    if not log_line.startswith(tuple([' <_','Message:'])):\n",
    "        if 'Next state:' in log_line:\n",
    "            time_id=log_line.split('.')[1].split(' ')[0]\n",
    "            return time_id\n",
    "        else:\n",
    "            pass\n",
    "    else:\n",
    "        pass"
   ]
  },
  {
   "cell_type": "code",
   "execution_count": 24,
   "id": "089e3326",
   "metadata": {},
   "outputs": [],
   "source": [
    "def extract_next_state(log_line):\n",
    "    if not log_line.startswith(tuple([' <_','Message:'])):\n",
    "         if 'Next state:' in log_line:\n",
    "            nt_state=log_line.split('Next state:')[-1]\n",
    "            return nt_state\n",
    "         else:\n",
    "            pass\n",
    "    else:\n",
    "        pass"
   ]
  },
  {
   "cell_type": "code",
   "execution_count": 25,
   "id": "94bd5b16",
   "metadata": {},
   "outputs": [],
   "source": [
    "def extract_user(sub_dir,log_line):\n",
    "    if not log_line.startswith(tuple([' <_','Message:'])):\n",
    "        if 'Next state:' in log_line:\n",
    "            user=sub_dir\n",
    "            return user\n",
    "        else:\n",
    "            pass\n",
    "    else:\n",
    "        pass\n",
    "    "
   ]
  },
  {
   "cell_type": "code",
   "execution_count": 26,
   "id": "5f5bfbb1",
   "metadata": {},
   "outputs": [],
   "source": [
    "def get_user_data(data_dir):\n",
    "    date_lg= []\n",
    "    timeid = []\n",
    "    nxt_state = []\n",
    "    user_list = []\n",
    "    for sub_dir in os.listdir(data_dir):\n",
    "        date_log= []\n",
    "        time_id = []\n",
    "        nxt_stage = []\n",
    "        us_er=[]\n",
    "        user=sub_dir\n",
    "        sub_dir_path = os.path.join(data_dir,sub_dir)\n",
    "        for file in os.listdir(sub_dir_path):\n",
    "            file_path = os.path.join(sub_dir_path,file)\n",
    "            with open(file_path, 'r') as f:\n",
    "                data= f.readlines()\n",
    "                date=[extract_date(i) for i in data]\n",
    "                date_id=[extract_id(i) for i in data]\n",
    "                next_state=[extract_next_state(i) for i in data]\n",
    "                userlist=[extract_user(sub_dir,i) for i in data]\n",
    "                date_log.append(date)\n",
    "                time_id.append(date_id)\n",
    "                nxt_stage.append(next_state)\n",
    "                us_er.append(userlist)\n",
    "\n",
    "        dt = [d for i in date_log for d in i]\n",
    "        dt_id=[d_id for i in time_id for d_id in i]\n",
    "        nx_state=[ns for i in nxt_stage for ns in i]\n",
    "        web_user=[us for i in us_er for us in i]\n",
    "        date_lg.append(dt)\n",
    "        timeid.append(dt_id)\n",
    "        nxt_state.append(nx_state)\n",
    "        user_list.append(web_user)\n",
    "    date_lg = [d for i in date_lg for d in i]\n",
    "    timeid=[d_id for i in timeid for d_id in i]\n",
    "    nxt_state=[ns for i in nxt_state for ns in i]\n",
    "    user_list=[u for i in user_list for u in i]\n",
    "\n",
    "    user_data= {'Date_Time':date_lg,'Date_id':timeid,'Next_State': nxt_state,'User':user_list}\n",
    "    df=pd.DataFrame(user_data)\n",
    "    return df\n",
    "    #len(date_lg),len(timeid),len(nxt_state)\n",
    "   "
   ]
  },
  {
   "cell_type": "code",
   "execution_count": 27,
   "id": "fd0dac23",
   "metadata": {},
   "outputs": [],
   "source": [
    "# 'C:\\\\Users\\\\User\\\\Desktop\\\\cyber\\\\data\\\\user_data'\n",
    "user_data_dir='C:\\\\Users\\\\Hauwa Baba\\\\Desktop\\\\cyber\\\\data\\\\user_data'"
   ]
  },
  {
   "cell_type": "code",
   "execution_count": 28,
   "id": "ae9dcad5",
   "metadata": {},
   "outputs": [],
   "source": [
    "user_data = get_user_data(user_data_dir)"
   ]
  },
  {
   "cell_type": "code",
   "execution_count": 29,
   "id": "bfac25c3",
   "metadata": {},
   "outputs": [
    {
     "data": {
      "text/html": [
       "<div>\n",
       "<style scoped>\n",
       "    .dataframe tbody tr th:only-of-type {\n",
       "        vertical-align: middle;\n",
       "    }\n",
       "\n",
       "    .dataframe tbody tr th {\n",
       "        vertical-align: top;\n",
       "    }\n",
       "\n",
       "    .dataframe thead th {\n",
       "        text-align: right;\n",
       "    }\n",
       "</style>\n",
       "<table border=\"1\" class=\"dataframe\">\n",
       "  <thead>\n",
       "    <tr style=\"text-align: right;\">\n",
       "      <th></th>\n",
       "      <th>Date_Time</th>\n",
       "      <th>Date_id</th>\n",
       "      <th>Next_State</th>\n",
       "      <th>User</th>\n",
       "    </tr>\n",
       "  </thead>\n",
       "  <tbody>\n",
       "    <tr>\n",
       "      <th>0</th>\n",
       "      <td>None</td>\n",
       "      <td>None</td>\n",
       "      <td>None</td>\n",
       "      <td>None</td>\n",
       "    </tr>\n",
       "    <tr>\n",
       "      <th>1</th>\n",
       "      <td>2020-02-28 19:14:41</td>\n",
       "      <td>123111</td>\n",
       "      <td>Login\\n</td>\n",
       "      <td>user-0</td>\n",
       "    </tr>\n",
       "    <tr>\n",
       "      <th>2</th>\n",
       "      <td>2020-02-28 19:14:57</td>\n",
       "      <td>244144</td>\n",
       "      <td>Personal Preferences\\n</td>\n",
       "      <td>user-0</td>\n",
       "    </tr>\n",
       "    <tr>\n",
       "      <th>3</th>\n",
       "      <td>2020-02-28 19:15:12</td>\n",
       "      <td>950956</td>\n",
       "      <td>Mail Delete Preferences\\n</td>\n",
       "      <td>user-0</td>\n",
       "    </tr>\n",
       "    <tr>\n",
       "      <th>4</th>\n",
       "      <td>2020-02-28 19:16:43</td>\n",
       "      <td>522902</td>\n",
       "      <td>Home\\n</td>\n",
       "      <td>user-0</td>\n",
       "    </tr>\n",
       "  </tbody>\n",
       "</table>\n",
       "</div>"
      ],
      "text/plain": [
       "             Date_Time Date_id                  Next_State    User\n",
       "0                 None    None                        None    None\n",
       "1  2020-02-28 19:14:41  123111                     Login\\n  user-0\n",
       "2  2020-02-28 19:14:57  244144      Personal Preferences\\n  user-0\n",
       "3  2020-02-28 19:15:12  950956   Mail Delete Preferences\\n  user-0\n",
       "4  2020-02-28 19:16:43  522902                      Home\\n  user-0"
      ]
     },
     "execution_count": 29,
     "metadata": {},
     "output_type": "execute_result"
    }
   ],
   "source": [
    "user_data.head()"
   ]
  },
  {
   "cell_type": "markdown",
   "id": "a3e9872d",
   "metadata": {},
   "source": [
    "## Attack log"
   ]
  },
  {
   "cell_type": "code",
   "execution_count": 30,
   "id": "7684327b",
   "metadata": {},
   "outputs": [],
   "source": [
    "def extract_attack_date(log_line):\n",
    "    date=log_line.split('UTC 2020')[0]\n",
    "    return date"
   ]
  },
  {
   "cell_type": "code",
   "execution_count": 31,
   "id": "4a47f51c",
   "metadata": {},
   "outputs": [],
   "source": [
    "def extract_attack_status(log_line):\n",
    "    status=log_line.split('UTC 2020')[1]\n",
    "    return status"
   ]
  },
  {
   "cell_type": "code",
   "execution_count": 32,
   "id": "4fddab49",
   "metadata": {},
   "outputs": [],
   "source": [
    "def extract_attack_user(sub_dir,log_line):\n",
    "    user=sub_dir\n",
    "    return user"
   ]
  },
  {
   "cell_type": "code",
   "execution_count": 33,
   "id": "22644885",
   "metadata": {},
   "outputs": [],
   "source": [
    "def get_attack_data(data_dir):\n",
    "    date_lg= []\n",
    "    status = []\n",
    "    user_list = []\n",
    "    for sub_dir in os.listdir(data_dir):\n",
    "        date_log= []\n",
    "        stat = []\n",
    "        us_er=[]\n",
    "        user=sub_dir\n",
    "        sub_dir_path = os.path.join(data_dir,sub_dir)\n",
    "        for file in os.listdir(sub_dir_path):\n",
    "            file_path = os.path.join(sub_dir_path,file)\n",
    "            with open(file_path, 'r') as f:\n",
    "                data= f.readlines()\n",
    "                date=[extract_attack_date(i) for i in data]\n",
    "                attack_stat=[extract_attack_status(i) for i in data]\n",
    "                userlist=[extract_attack_user(sub_dir,i) for i in data]\n",
    "                date_log.append(date)\n",
    "                stat.append(attack_stat)\n",
    "                us_er.append(userlist)\n",
    "\n",
    "        dt = [d for i in date_log for d in i]\n",
    "        attk_stat=[s for i in stat for s in i]\n",
    "        web_user=[us for i in us_er for us in i]\n",
    "        date_lg.append(dt)\n",
    "        status.append(attk_stat)\n",
    "        user_list.append(web_user)\n",
    "    date_lg = [d for i in date_lg for d in i]\n",
    "    status=[s for i in status for s in i]\n",
    "    user_list=[u for i in user_list for u in i]\n",
    "    user_data= {'Date_Time':date_lg,'Status':status,'User':user_list}\n",
    "    df=pd.DataFrame(user_data)\n",
    "    return df\n",
    "    #len(date_lg),len(timeid),len(nxt_state)\n",
    "   "
   ]
  },
  {
   "cell_type": "code",
   "execution_count": 34,
   "id": "a33ad5c1",
   "metadata": {},
   "outputs": [],
   "source": [
    "# 'C:\\\\Users\\\\User\\\\Desktop\\\\cyber\\\\data\\\\attack_data'\n",
    "attack_data_dir= 'C:\\\\Users\\\\Hauwa Baba\\\\Desktop\\\\cyber\\\\data\\\\attack_data'"
   ]
  },
  {
   "cell_type": "code",
   "execution_count": 35,
   "id": "058f26b4",
   "metadata": {},
   "outputs": [],
   "source": [
    "attack_data=get_attack_data(attack_data_dir)"
   ]
  },
  {
   "cell_type": "code",
   "execution_count": 36,
   "id": "c25341af",
   "metadata": {},
   "outputs": [
    {
     "data": {
      "text/html": [
       "<div>\n",
       "<style scoped>\n",
       "    .dataframe tbody tr th:only-of-type {\n",
       "        vertical-align: middle;\n",
       "    }\n",
       "\n",
       "    .dataframe tbody tr th {\n",
       "        vertical-align: top;\n",
       "    }\n",
       "\n",
       "    .dataframe thead th {\n",
       "        text-align: right;\n",
       "    }\n",
       "</style>\n",
       "<table border=\"1\" class=\"dataframe\">\n",
       "  <thead>\n",
       "    <tr style=\"text-align: right;\">\n",
       "      <th></th>\n",
       "      <th>Date_Time</th>\n",
       "      <th>Status</th>\n",
       "      <th>User</th>\n",
       "    </tr>\n",
       "  </thead>\n",
       "  <tbody>\n",
       "    <tr>\n",
       "      <th>0</th>\n",
       "      <td>Wed Mar 4 12:37:51</td>\n",
       "      <td>okay-upload-webshell\\n</td>\n",
       "      <td>user-4</td>\n",
       "    </tr>\n",
       "    <tr>\n",
       "      <th>1</th>\n",
       "      <td>Wed Mar 4 12:37:51</td>\n",
       "      <td>success\\n</td>\n",
       "      <td>user-4</td>\n",
       "    </tr>\n",
       "    <tr>\n",
       "      <th>2</th>\n",
       "      <td>Wed Mar 4 12:38:05</td>\n",
       "      <td>okay-curl\\n</td>\n",
       "      <td>user-4</td>\n",
       "    </tr>\n",
       "    <tr>\n",
       "      <th>3</th>\n",
       "      <td>Wed Mar 4 12:38:05</td>\n",
       "      <td>success\\n</td>\n",
       "      <td>user-4</td>\n",
       "    </tr>\n",
       "    <tr>\n",
       "      <th>4</th>\n",
       "      <td>Wed Mar 4 13:51:47</td>\n",
       "      <td>nmap\\n</td>\n",
       "      <td>user-4</td>\n",
       "    </tr>\n",
       "  </tbody>\n",
       "</table>\n",
       "</div>"
      ],
      "text/plain": [
       "             Date_Time                   Status    User\n",
       "0  Wed Mar 4 12:37:51    okay-upload-webshell\\n  user-4\n",
       "1  Wed Mar 4 12:37:51                 success\\n  user-4\n",
       "2  Wed Mar 4 12:38:05               okay-curl\\n  user-4\n",
       "3  Wed Mar 4 12:38:05                 success\\n  user-4\n",
       "4  Wed Mar 4 13:51:47                    nmap\\n  user-4"
      ]
     },
     "execution_count": 36,
     "metadata": {},
     "output_type": "execute_result"
    }
   ],
   "source": [
    "attack_data.head()"
   ]
  },
  {
   "cell_type": "markdown",
   "id": "b4eba5d5",
   "metadata": {},
   "source": [
    "# Log Data Cleaning and Preparation"
   ]
  },
  {
   "cell_type": "markdown",
   "id": "5aa594fe",
   "metadata": {},
   "source": [
    "## server_access log"
   ]
  },
  {
   "cell_type": "code",
   "execution_count": 37,
   "id": "b4c19b57",
   "metadata": {},
   "outputs": [
    {
     "data": {
      "text/html": [
       "<div>\n",
       "<style scoped>\n",
       "    .dataframe tbody tr th:only-of-type {\n",
       "        vertical-align: middle;\n",
       "    }\n",
       "\n",
       "    .dataframe tbody tr th {\n",
       "        vertical-align: top;\n",
       "    }\n",
       "\n",
       "    .dataframe thead th {\n",
       "        text-align: right;\n",
       "    }\n",
       "</style>\n",
       "<table border=\"1\" class=\"dataframe\">\n",
       "  <thead>\n",
       "    <tr style=\"text-align: right;\">\n",
       "      <th></th>\n",
       "      <th>Ip_address</th>\n",
       "      <th>Date_Time</th>\n",
       "      <th>Method_of_request</th>\n",
       "      <th>Status_of_request</th>\n",
       "      <th>Referer_Header</th>\n",
       "      <th>User_Header</th>\n",
       "    </tr>\n",
       "  </thead>\n",
       "  <tbody>\n",
       "    <tr>\n",
       "      <th>0</th>\n",
       "      <td>192.168.10.190</td>\n",
       "      <td>[29/Feb/2020:00:00:02 +0000]</td>\n",
       "      <td>GET /login.php HTTP/1.1</td>\n",
       "      <td>200 2532</td>\n",
       "      <td>-</td>\n",
       "      <td>Mozilla/5.0 (X11; Ubuntu; Linux x86_64; rv:73....</td>\n",
       "    </tr>\n",
       "    <tr>\n",
       "      <th>1</th>\n",
       "      <td>192.168.10.4</td>\n",
       "      <td>[29/Feb/2020:00:00:09 +0000]</td>\n",
       "      <td>POST /services/ajax.php/kronolith/listTopTags ...</td>\n",
       "      <td>200 402</td>\n",
       "      <td>http://mail.cup.com/kronolith/</td>\n",
       "      <td>Mozilla/5.0 (X11; Linux x86_64) AppleWebKit/53...</td>\n",
       "    </tr>\n",
       "    <tr>\n",
       "      <th>2</th>\n",
       "      <td>192.168.10.190</td>\n",
       "      <td>[29/Feb/2020:00:00:12 +0000]</td>\n",
       "      <td>POST /login.php HTTP/1.1</td>\n",
       "      <td>302 601</td>\n",
       "      <td>http://mail.cup.com/login.php</td>\n",
       "      <td>Mozilla/5.0 (X11; Ubuntu; Linux x86_64; rv:73....</td>\n",
       "    </tr>\n",
       "    <tr>\n",
       "      <th>3</th>\n",
       "      <td>192.168.10.190</td>\n",
       "      <td>[29/Feb/2020:00:00:13 +0000]</td>\n",
       "      <td>GET /services/portal/ HTTP/1.1</td>\n",
       "      <td>200 7696</td>\n",
       "      <td>http://mail.cup.com/login.php</td>\n",
       "      <td>Mozilla/5.0 (X11; Ubuntu; Linux x86_64; rv:73....</td>\n",
       "    </tr>\n",
       "    <tr>\n",
       "      <th>4</th>\n",
       "      <td>192.168.10.190</td>\n",
       "      <td>[29/Feb/2020:00:00:14 +0000]</td>\n",
       "      <td>GET /themes/default/graphics/head-bg.png HTTP/1.1</td>\n",
       "      <td>200 380</td>\n",
       "      <td>http://mail.cup.com/themes/default/screen.css</td>\n",
       "      <td>Mozilla/5.0 (X11; Ubuntu; Linux x86_64; rv:73....</td>\n",
       "    </tr>\n",
       "  </tbody>\n",
       "</table>\n",
       "</div>"
      ],
      "text/plain": [
       "       Ip_address                       Date_Time  \\\n",
       "0  192.168.10.190   [29/Feb/2020:00:00:02 +0000]    \n",
       "1    192.168.10.4   [29/Feb/2020:00:00:09 +0000]    \n",
       "2  192.168.10.190   [29/Feb/2020:00:00:12 +0000]    \n",
       "3  192.168.10.190   [29/Feb/2020:00:00:13 +0000]    \n",
       "4  192.168.10.190   [29/Feb/2020:00:00:14 +0000]    \n",
       "\n",
       "                                   Method_of_request Status_of_request  \\\n",
       "0                            GET /login.php HTTP/1.1         200 2532    \n",
       "1  POST /services/ajax.php/kronolith/listTopTags ...          200 402    \n",
       "2                           POST /login.php HTTP/1.1          302 601    \n",
       "3                     GET /services/portal/ HTTP/1.1         200 7696    \n",
       "4  GET /themes/default/graphics/head-bg.png HTTP/1.1          200 380    \n",
       "\n",
       "                                  Referer_Header  \\\n",
       "0                                              -   \n",
       "1                 http://mail.cup.com/kronolith/   \n",
       "2                  http://mail.cup.com/login.php   \n",
       "3                  http://mail.cup.com/login.php   \n",
       "4  http://mail.cup.com/themes/default/screen.css   \n",
       "\n",
       "                                         User_Header  \n",
       "0  Mozilla/5.0 (X11; Ubuntu; Linux x86_64; rv:73....  \n",
       "1  Mozilla/5.0 (X11; Linux x86_64) AppleWebKit/53...  \n",
       "2  Mozilla/5.0 (X11; Ubuntu; Linux x86_64; rv:73....  \n",
       "3  Mozilla/5.0 (X11; Ubuntu; Linux x86_64; rv:73....  \n",
       "4  Mozilla/5.0 (X11; Ubuntu; Linux x86_64; rv:73....  "
      ]
     },
     "execution_count": 37,
     "metadata": {},
     "output_type": "execute_result"
    }
   ],
   "source": [
    "access_log_data.head()"
   ]
  },
  {
   "cell_type": "code",
   "execution_count": 38,
   "id": "57ed125e",
   "metadata": {},
   "outputs": [
    {
     "data": {
      "text/plain": [
       "array(['192.168.10.190', '192.168.10.4',\n",
       "       'request was made from the same machine', '192.168.10.238',\n",
       "       '192.168.10.200', '192.168.10.18', '192.168.10.98',\n",
       "       '192.168.10.161', '192.168.10.185', '192.168.10.81',\n",
       "       '192.168.10.130', '192.168.10.194'], dtype=object)"
      ]
     },
     "execution_count": 38,
     "metadata": {},
     "output_type": "execute_result"
    }
   ],
   "source": [
    "access_log_data.Ip_address.unique()"
   ]
  },
  {
   "cell_type": "code",
   "execution_count": 39,
   "id": "c5b2fb73",
   "metadata": {},
   "outputs": [],
   "source": [
    "access_data=access_log_data[access_log_data.Ip_address!='request was made from the same machine'].reset_index(drop=True)"
   ]
  },
  {
   "cell_type": "code",
   "execution_count": 40,
   "id": "c74c6d13",
   "metadata": {},
   "outputs": [
    {
     "data": {
      "text/plain": [
       "['', '200', '8808', '']"
      ]
     },
     "execution_count": 40,
     "metadata": {},
     "output_type": "execute_result"
    }
   ],
   "source": [
    "access_data.Status_of_request[11].split(' ')\n"
   ]
  },
  {
   "cell_type": "code",
   "execution_count": 41,
   "id": "b79bb91c",
   "metadata": {},
   "outputs": [],
   "source": [
    "def status_code(data):\n",
    "    status=data[:3]\n",
    "    return status"
   ]
  },
  {
   "cell_type": "code",
   "execution_count": 42,
   "id": "20b2ae36",
   "metadata": {},
   "outputs": [],
   "source": [
    "def respond_byte(data):\n",
    "    res_byte=data[3:]\n",
    "    return res_byte"
   ]
  },
  {
   "cell_type": "code",
   "execution_count": 43,
   "id": "18fe6754",
   "metadata": {},
   "outputs": [],
   "source": [
    "def request_method(data):\n",
    "    request_method=data.split(' ')[0]\n",
    "    return request_method"
   ]
  },
  {
   "cell_type": "code",
   "execution_count": 44,
   "id": "19aa110e",
   "metadata": {},
   "outputs": [],
   "source": [
    "def request_url(data):\n",
    "    url=data.split(' ')[-2]\n",
    "    return url"
   ]
  },
  {
   "cell_type": "code",
   "execution_count": null,
   "id": "cbd5a8dc",
   "metadata": {},
   "outputs": [],
   "source": []
  },
  {
   "cell_type": "code",
   "execution_count": 45,
   "id": "f4eeafe9",
   "metadata": {},
   "outputs": [],
   "source": [
    "def remove_bracket(data):\n",
    "    data=data.replace('[',' ')\n",
    "    data=data.replace(']',' ')\n",
    "    return data\n",
    "    "
   ]
  },
  {
   "cell_type": "code",
   "execution_count": 46,
   "id": "42d49100",
   "metadata": {},
   "outputs": [
    {
     "data": {
      "text/plain": [
       "12737"
      ]
     },
     "execution_count": 46,
     "metadata": {},
     "output_type": "execute_result"
    }
   ],
   "source": [
    "access_data.Status_of_request.nunique()"
   ]
  },
  {
   "cell_type": "code",
   "execution_count": 47,
   "id": "a3b96985",
   "metadata": {},
   "outputs": [
    {
     "data": {
      "text/html": [
       "<div>\n",
       "<style scoped>\n",
       "    .dataframe tbody tr th:only-of-type {\n",
       "        vertical-align: middle;\n",
       "    }\n",
       "\n",
       "    .dataframe tbody tr th {\n",
       "        vertical-align: top;\n",
       "    }\n",
       "\n",
       "    .dataframe thead th {\n",
       "        text-align: right;\n",
       "    }\n",
       "</style>\n",
       "<table border=\"1\" class=\"dataframe\">\n",
       "  <thead>\n",
       "    <tr style=\"text-align: right;\">\n",
       "      <th></th>\n",
       "      <th>Ip_address</th>\n",
       "      <th>Date_Time</th>\n",
       "      <th>Method_of_request</th>\n",
       "      <th>Status_of_request</th>\n",
       "      <th>Referer_Header</th>\n",
       "      <th>User_Header</th>\n",
       "    </tr>\n",
       "  </thead>\n",
       "  <tbody>\n",
       "  </tbody>\n",
       "</table>\n",
       "</div>"
      ],
      "text/plain": [
       "Empty DataFrame\n",
       "Columns: [Ip_address, Date_Time, Method_of_request, Status_of_request, Referer_Header, User_Header]\n",
       "Index: []"
      ]
     },
     "execution_count": 47,
     "metadata": {},
     "output_type": "execute_result"
    }
   ],
   "source": [
    "access_data[access_data.Method_of_request=='<script>alert(1)</script>']"
   ]
  },
  {
   "cell_type": "code",
   "execution_count": 48,
   "id": "dd77f235",
   "metadata": {},
   "outputs": [
    {
     "data": {
      "text/plain": [
       "0           200 2532 \n",
       "1            200 402 \n",
       "2            302 601 \n",
       "3           200 7696 \n",
       "4            200 380 \n",
       "             ...     \n",
       "483827     200 19513 \n",
       "483828       302 492 \n",
       "483829     200 21290 \n",
       "483830     200 10442 \n",
       "483831      200 3843 \n",
       "Name: Status_of_request, Length: 483832, dtype: object"
      ]
     },
     "execution_count": 48,
     "metadata": {},
     "output_type": "execute_result"
    }
   ],
   "source": [
    "access_data.Status_of_request"
   ]
  },
  {
   "cell_type": "code",
   "execution_count": 49,
   "id": "03acf63e",
   "metadata": {},
   "outputs": [],
   "source": [
    "def remove_space(data):\n",
    "    data=data.replace('  ',\"\")\n",
    "    data=data.replace(' ',\"\")\n",
    "    return data"
   ]
  },
  {
   "cell_type": "code",
   "execution_count": 50,
   "id": "b680b1e7",
   "metadata": {},
   "outputs": [],
   "source": [
    "access_data.Date_Time=access_data.Date_Time.apply(lambda x:remove_bracket(x))\n",
    "access_data.Date_Time=access_data.Date_Time.apply(lambda x:remove_space(x))"
   ]
  },
  {
   "cell_type": "code",
   "execution_count": 51,
   "id": "d8492934",
   "metadata": {},
   "outputs": [],
   "source": [
    "access_data['Request_Method']=access_data.Method_of_request.apply(lambda x:request_method(x))\n",
    "access_data['Request_status']=access_data.Status_of_request.apply(lambda x:remove_space(x))\n",
    "access_data.Request_status=access_data.Request_status.apply(lambda x:status_code(x))\n",
    "access_data['Response_byte']=access_data.Status_of_request.apply(lambda x:remove_space(x))\n",
    "access_data.Response_byte=access_data.Response_byte.apply(lambda x:respond_byte(x))\n"
   ]
  },
  {
   "cell_type": "code",
   "execution_count": 52,
   "id": "6eed1303",
   "metadata": {},
   "outputs": [
    {
     "data": {
      "text/html": [
       "<div>\n",
       "<style scoped>\n",
       "    .dataframe tbody tr th:only-of-type {\n",
       "        vertical-align: middle;\n",
       "    }\n",
       "\n",
       "    .dataframe tbody tr th {\n",
       "        vertical-align: top;\n",
       "    }\n",
       "\n",
       "    .dataframe thead th {\n",
       "        text-align: right;\n",
       "    }\n",
       "</style>\n",
       "<table border=\"1\" class=\"dataframe\">\n",
       "  <thead>\n",
       "    <tr style=\"text-align: right;\">\n",
       "      <th></th>\n",
       "      <th>Ip_address</th>\n",
       "      <th>Date_Time</th>\n",
       "      <th>Method_of_request</th>\n",
       "      <th>Status_of_request</th>\n",
       "      <th>Referer_Header</th>\n",
       "      <th>User_Header</th>\n",
       "      <th>Request_Method</th>\n",
       "      <th>Request_status</th>\n",
       "      <th>Response_byte</th>\n",
       "    </tr>\n",
       "  </thead>\n",
       "  <tbody>\n",
       "    <tr>\n",
       "      <th>0</th>\n",
       "      <td>192.168.10.190</td>\n",
       "      <td>29/Feb/2020:00:00:02+0000</td>\n",
       "      <td>GET /login.php HTTP/1.1</td>\n",
       "      <td>200 2532</td>\n",
       "      <td>-</td>\n",
       "      <td>Mozilla/5.0 (X11; Ubuntu; Linux x86_64; rv:73....</td>\n",
       "      <td>GET</td>\n",
       "      <td>200</td>\n",
       "      <td>2532</td>\n",
       "    </tr>\n",
       "    <tr>\n",
       "      <th>1</th>\n",
       "      <td>192.168.10.4</td>\n",
       "      <td>29/Feb/2020:00:00:09+0000</td>\n",
       "      <td>POST /services/ajax.php/kronolith/listTopTags ...</td>\n",
       "      <td>200 402</td>\n",
       "      <td>http://mail.cup.com/kronolith/</td>\n",
       "      <td>Mozilla/5.0 (X11; Linux x86_64) AppleWebKit/53...</td>\n",
       "      <td>POST</td>\n",
       "      <td>200</td>\n",
       "      <td>402</td>\n",
       "    </tr>\n",
       "    <tr>\n",
       "      <th>2</th>\n",
       "      <td>192.168.10.190</td>\n",
       "      <td>29/Feb/2020:00:00:12+0000</td>\n",
       "      <td>POST /login.php HTTP/1.1</td>\n",
       "      <td>302 601</td>\n",
       "      <td>http://mail.cup.com/login.php</td>\n",
       "      <td>Mozilla/5.0 (X11; Ubuntu; Linux x86_64; rv:73....</td>\n",
       "      <td>POST</td>\n",
       "      <td>302</td>\n",
       "      <td>601</td>\n",
       "    </tr>\n",
       "    <tr>\n",
       "      <th>3</th>\n",
       "      <td>192.168.10.190</td>\n",
       "      <td>29/Feb/2020:00:00:13+0000</td>\n",
       "      <td>GET /services/portal/ HTTP/1.1</td>\n",
       "      <td>200 7696</td>\n",
       "      <td>http://mail.cup.com/login.php</td>\n",
       "      <td>Mozilla/5.0 (X11; Ubuntu; Linux x86_64; rv:73....</td>\n",
       "      <td>GET</td>\n",
       "      <td>200</td>\n",
       "      <td>7696</td>\n",
       "    </tr>\n",
       "    <tr>\n",
       "      <th>4</th>\n",
       "      <td>192.168.10.190</td>\n",
       "      <td>29/Feb/2020:00:00:14+0000</td>\n",
       "      <td>GET /themes/default/graphics/head-bg.png HTTP/1.1</td>\n",
       "      <td>200 380</td>\n",
       "      <td>http://mail.cup.com/themes/default/screen.css</td>\n",
       "      <td>Mozilla/5.0 (X11; Ubuntu; Linux x86_64; rv:73....</td>\n",
       "      <td>GET</td>\n",
       "      <td>200</td>\n",
       "      <td>380</td>\n",
       "    </tr>\n",
       "  </tbody>\n",
       "</table>\n",
       "</div>"
      ],
      "text/plain": [
       "       Ip_address                  Date_Time  \\\n",
       "0  192.168.10.190  29/Feb/2020:00:00:02+0000   \n",
       "1    192.168.10.4  29/Feb/2020:00:00:09+0000   \n",
       "2  192.168.10.190  29/Feb/2020:00:00:12+0000   \n",
       "3  192.168.10.190  29/Feb/2020:00:00:13+0000   \n",
       "4  192.168.10.190  29/Feb/2020:00:00:14+0000   \n",
       "\n",
       "                                   Method_of_request Status_of_request  \\\n",
       "0                            GET /login.php HTTP/1.1         200 2532    \n",
       "1  POST /services/ajax.php/kronolith/listTopTags ...          200 402    \n",
       "2                           POST /login.php HTTP/1.1          302 601    \n",
       "3                     GET /services/portal/ HTTP/1.1         200 7696    \n",
       "4  GET /themes/default/graphics/head-bg.png HTTP/1.1          200 380    \n",
       "\n",
       "                                  Referer_Header  \\\n",
       "0                                              -   \n",
       "1                 http://mail.cup.com/kronolith/   \n",
       "2                  http://mail.cup.com/login.php   \n",
       "3                  http://mail.cup.com/login.php   \n",
       "4  http://mail.cup.com/themes/default/screen.css   \n",
       "\n",
       "                                         User_Header Request_Method  \\\n",
       "0  Mozilla/5.0 (X11; Ubuntu; Linux x86_64; rv:73....            GET   \n",
       "1  Mozilla/5.0 (X11; Linux x86_64) AppleWebKit/53...           POST   \n",
       "2  Mozilla/5.0 (X11; Ubuntu; Linux x86_64; rv:73....           POST   \n",
       "3  Mozilla/5.0 (X11; Ubuntu; Linux x86_64; rv:73....            GET   \n",
       "4  Mozilla/5.0 (X11; Ubuntu; Linux x86_64; rv:73....            GET   \n",
       "\n",
       "  Request_status Response_byte  \n",
       "0            200          2532  \n",
       "1            200           402  \n",
       "2            302           601  \n",
       "3            200          7696  \n",
       "4            200           380  "
      ]
     },
     "execution_count": 52,
     "metadata": {},
     "output_type": "execute_result"
    }
   ],
   "source": [
    "access_data.head()"
   ]
  },
  {
   "cell_type": "code",
   "execution_count": 53,
   "id": "90fddef6",
   "metadata": {},
   "outputs": [
    {
     "data": {
      "text/plain": [
       "Index(['Ip_address', 'Date_Time', 'Method_of_request', 'Status_of_request',\n",
       "       'Referer_Header', 'User_Header', 'Request_Method', 'Request_status',\n",
       "       'Response_byte'],\n",
       "      dtype='object')"
      ]
     },
     "execution_count": 53,
     "metadata": {},
     "output_type": "execute_result"
    }
   ],
   "source": [
    "access_data.columns"
   ]
  },
  {
   "cell_type": "code",
   "execution_count": 54,
   "id": "50d74907",
   "metadata": {},
   "outputs": [],
   "source": [
    "access_data=access_data[['Ip_address', 'Date_Time', 'Method_of_request', 'Request_Method', 'Request_status','Referer_Header', 'User_Header']]"
   ]
  },
  {
   "cell_type": "code",
   "execution_count": 55,
   "id": "518193c4",
   "metadata": {},
   "outputs": [],
   "source": [
    "access_data.Date_Time=access_data.Date_Time.apply(lambda x:x.split(':')[0])"
   ]
  },
  {
   "cell_type": "code",
   "execution_count": null,
   "id": "0c365ef0",
   "metadata": {},
   "outputs": [],
   "source": []
  },
  {
   "cell_type": "code",
   "execution_count": 56,
   "id": "496945d9",
   "metadata": {},
   "outputs": [],
   "source": [
    "access_data['Date_Time']=pd.to_datetime(access_data['Date_Time'])"
   ]
  },
  {
   "cell_type": "code",
   "execution_count": 57,
   "id": "7bdc1cb9",
   "metadata": {},
   "outputs": [
    {
     "data": {
      "text/plain": [
       "array(['GET', 'POST', '-', 'HEAD', 'PUT', 'OPTIONS', 'DEBUG', 'PROPFIND',\n",
       "       'TRACE', 'TRACK', 'get', 'INDEX', 'SEARCH',\n",
       "       '<script>alert(1)</script>'], dtype=object)"
      ]
     },
     "execution_count": 57,
     "metadata": {},
     "output_type": "execute_result"
    }
   ],
   "source": [
    "access_data.Request_Method.unique()"
   ]
  },
  {
   "cell_type": "code",
   "execution_count": 58,
   "id": "d1a7cbd3",
   "metadata": {},
   "outputs": [],
   "source": [
    "access_data.Referer_Header.replace('-','Anonymous Referer', inplace = True)"
   ]
  },
  {
   "cell_type": "code",
   "execution_count": 59,
   "id": "13d80043",
   "metadata": {},
   "outputs": [],
   "source": [
    "access_data.Request_Method.replace('-','Anonymous Referer', inplace = True)"
   ]
  },
  {
   "cell_type": "code",
   "execution_count": 60,
   "id": "abc03078",
   "metadata": {},
   "outputs": [
    {
     "data": {
      "text/html": [
       "<div>\n",
       "<style scoped>\n",
       "    .dataframe tbody tr th:only-of-type {\n",
       "        vertical-align: middle;\n",
       "    }\n",
       "\n",
       "    .dataframe tbody tr th {\n",
       "        vertical-align: top;\n",
       "    }\n",
       "\n",
       "    .dataframe thead th {\n",
       "        text-align: right;\n",
       "    }\n",
       "</style>\n",
       "<table border=\"1\" class=\"dataframe\">\n",
       "  <thead>\n",
       "    <tr style=\"text-align: right;\">\n",
       "      <th></th>\n",
       "      <th>Ip_address</th>\n",
       "      <th>Date_Time</th>\n",
       "      <th>Method_of_request</th>\n",
       "      <th>Request_Method</th>\n",
       "      <th>Request_status</th>\n",
       "      <th>Referer_Header</th>\n",
       "      <th>User_Header</th>\n",
       "    </tr>\n",
       "  </thead>\n",
       "  <tbody>\n",
       "    <tr>\n",
       "      <th>0</th>\n",
       "      <td>192.168.10.190</td>\n",
       "      <td>2020-02-29</td>\n",
       "      <td>GET /login.php HTTP/1.1</td>\n",
       "      <td>GET</td>\n",
       "      <td>200</td>\n",
       "      <td>Anonymous Referer</td>\n",
       "      <td>Mozilla/5.0 (X11; Ubuntu; Linux x86_64; rv:73....</td>\n",
       "    </tr>\n",
       "    <tr>\n",
       "      <th>1</th>\n",
       "      <td>192.168.10.4</td>\n",
       "      <td>2020-02-29</td>\n",
       "      <td>POST /services/ajax.php/kronolith/listTopTags ...</td>\n",
       "      <td>POST</td>\n",
       "      <td>200</td>\n",
       "      <td>http://mail.cup.com/kronolith/</td>\n",
       "      <td>Mozilla/5.0 (X11; Linux x86_64) AppleWebKit/53...</td>\n",
       "    </tr>\n",
       "    <tr>\n",
       "      <th>2</th>\n",
       "      <td>192.168.10.190</td>\n",
       "      <td>2020-02-29</td>\n",
       "      <td>POST /login.php HTTP/1.1</td>\n",
       "      <td>POST</td>\n",
       "      <td>302</td>\n",
       "      <td>http://mail.cup.com/login.php</td>\n",
       "      <td>Mozilla/5.0 (X11; Ubuntu; Linux x86_64; rv:73....</td>\n",
       "    </tr>\n",
       "    <tr>\n",
       "      <th>3</th>\n",
       "      <td>192.168.10.190</td>\n",
       "      <td>2020-02-29</td>\n",
       "      <td>GET /services/portal/ HTTP/1.1</td>\n",
       "      <td>GET</td>\n",
       "      <td>200</td>\n",
       "      <td>http://mail.cup.com/login.php</td>\n",
       "      <td>Mozilla/5.0 (X11; Ubuntu; Linux x86_64; rv:73....</td>\n",
       "    </tr>\n",
       "    <tr>\n",
       "      <th>4</th>\n",
       "      <td>192.168.10.190</td>\n",
       "      <td>2020-02-29</td>\n",
       "      <td>GET /themes/default/graphics/head-bg.png HTTP/1.1</td>\n",
       "      <td>GET</td>\n",
       "      <td>200</td>\n",
       "      <td>http://mail.cup.com/themes/default/screen.css</td>\n",
       "      <td>Mozilla/5.0 (X11; Ubuntu; Linux x86_64; rv:73....</td>\n",
       "    </tr>\n",
       "  </tbody>\n",
       "</table>\n",
       "</div>"
      ],
      "text/plain": [
       "       Ip_address  Date_Time  \\\n",
       "0  192.168.10.190 2020-02-29   \n",
       "1    192.168.10.4 2020-02-29   \n",
       "2  192.168.10.190 2020-02-29   \n",
       "3  192.168.10.190 2020-02-29   \n",
       "4  192.168.10.190 2020-02-29   \n",
       "\n",
       "                                   Method_of_request Request_Method  \\\n",
       "0                            GET /login.php HTTP/1.1            GET   \n",
       "1  POST /services/ajax.php/kronolith/listTopTags ...           POST   \n",
       "2                           POST /login.php HTTP/1.1           POST   \n",
       "3                     GET /services/portal/ HTTP/1.1            GET   \n",
       "4  GET /themes/default/graphics/head-bg.png HTTP/1.1            GET   \n",
       "\n",
       "  Request_status                                 Referer_Header  \\\n",
       "0            200                              Anonymous Referer   \n",
       "1            200                 http://mail.cup.com/kronolith/   \n",
       "2            302                  http://mail.cup.com/login.php   \n",
       "3            200                  http://mail.cup.com/login.php   \n",
       "4            200  http://mail.cup.com/themes/default/screen.css   \n",
       "\n",
       "                                         User_Header  \n",
       "0  Mozilla/5.0 (X11; Ubuntu; Linux x86_64; rv:73....  \n",
       "1  Mozilla/5.0 (X11; Linux x86_64) AppleWebKit/53...  \n",
       "2  Mozilla/5.0 (X11; Ubuntu; Linux x86_64; rv:73....  \n",
       "3  Mozilla/5.0 (X11; Ubuntu; Linux x86_64; rv:73....  \n",
       "4  Mozilla/5.0 (X11; Ubuntu; Linux x86_64; rv:73....  "
      ]
     },
     "execution_count": 60,
     "metadata": {},
     "output_type": "execute_result"
    }
   ],
   "source": [
    "access_data.head()"
   ]
  },
  {
   "cell_type": "code",
   "execution_count": 61,
   "id": "221959bb",
   "metadata": {},
   "outputs": [],
   "source": [
    "access_data.Request_Method=access_data.Request_Method.apply(lambda x: x.upper())\n"
   ]
  },
  {
   "cell_type": "code",
   "execution_count": 62,
   "id": "3e410e9d",
   "metadata": {},
   "outputs": [],
   "source": [
    "request_dict={'GET':'Safe', 'POST':'Safe', 'ANONYMOUS REFERER':'Suspected attack', 'HEAD':'Safe', 'PUT':'Malicious', 'OPTIONS':'Safe', 'DEBUG':'Malicious', 'PROPFIND':'Suspected attack', 'TRACE':'Suspected attack', 'TRACK':'Suspected attack', 'INDEX':'Suspected attack', 'SEARCH':'Suspected attack','<SCRIPT>ALERT(1)</SCRIPT>':'Suspected attack'}\n",
    "\n",
    "access_data['Security_status']=access_data.Request_Method.map(request_dict)\n",
    "\n",
    "#access_data.Security_status.unique()\n"
   ]
  },
  {
   "cell_type": "code",
   "execution_count": 63,
   "id": "7ccf086e",
   "metadata": {},
   "outputs": [],
   "source": [
    "#Check IP distribution: Identify IPs with the highest access frequency and flag those with abnormal behavior\n",
    "\n",
    "unsafe_stat =['Suspected attack','Malicious']\n",
    "unsafe_access=access_data[access_data.Security_status.isin(unsafe_stat)].reset_index(drop=True)\n",
    "\n",
    "ip_with_unsafe_access=unsafe_access.groupby(['Ip_address','Security_status'])['Ip_address'].count().to_frame().rename(columns={'Ip_address':'Counts'}).reset_index()"
   ]
  },
  {
   "cell_type": "code",
   "execution_count": null,
   "id": "40b0a2c9",
   "metadata": {},
   "outputs": [],
   "source": []
  },
  {
   "cell_type": "markdown",
   "id": "4df7d71b",
   "metadata": {},
   "source": [
    "## Error data log"
   ]
  },
  {
   "cell_type": "code",
   "execution_count": 64,
   "id": "79d4dd3c",
   "metadata": {},
   "outputs": [
    {
     "data": {
      "text/html": [
       "<div>\n",
       "<style scoped>\n",
       "    .dataframe tbody tr th:only-of-type {\n",
       "        vertical-align: middle;\n",
       "    }\n",
       "\n",
       "    .dataframe tbody tr th {\n",
       "        vertical-align: top;\n",
       "    }\n",
       "\n",
       "    .dataframe thead th {\n",
       "        text-align: right;\n",
       "    }\n",
       "</style>\n",
       "<table border=\"1\" class=\"dataframe\">\n",
       "  <thead>\n",
       "    <tr style=\"text-align: right;\">\n",
       "      <th></th>\n",
       "      <th>Ip_address</th>\n",
       "      <th>Date_Time</th>\n",
       "      <th>PID</th>\n",
       "      <th>Referer_Header</th>\n",
       "    </tr>\n",
       "  </thead>\n",
       "  <tbody>\n",
       "    <tr>\n",
       "      <th>0</th>\n",
       "      <td>192.168.10.4:55308]</td>\n",
       "      <td>[Sun Mar 01 06:28:15.983231 2020]</td>\n",
       "      <td>32548]</td>\n",
       "      <td>http://mail.cup.com/nag/\\n</td>\n",
       "    </tr>\n",
       "    <tr>\n",
       "      <th>1</th>\n",
       "      <td>192.168.10.4:55308]</td>\n",
       "      <td>[Sun Mar 01 06:28:15.984200 2020]</td>\n",
       "      <td>32548]</td>\n",
       "      <td>http://mail.cup.com/nag/\\n</td>\n",
       "    </tr>\n",
       "    <tr>\n",
       "      <th>2</th>\n",
       "      <td>192.168.10.4:55308]</td>\n",
       "      <td>[Sun Mar 01 06:28:15.984863 2020]</td>\n",
       "      <td>32548]</td>\n",
       "      <td>http://mail.cup.com/nag/\\n</td>\n",
       "    </tr>\n",
       "    <tr>\n",
       "      <th>3</th>\n",
       "      <td>192.168.10.4:55308]</td>\n",
       "      <td>[Sun Mar 01 06:28:15.985763 2020]</td>\n",
       "      <td>32548]</td>\n",
       "      <td>http://mail.cup.com/nag/\\n</td>\n",
       "    </tr>\n",
       "    <tr>\n",
       "      <th>4</th>\n",
       "      <td>192.168.10.4:55308]</td>\n",
       "      <td>[Sun Mar 01 06:28:15.986326 2020]</td>\n",
       "      <td>32548]</td>\n",
       "      <td>http://mail.cup.com/nag/\\n</td>\n",
       "    </tr>\n",
       "  </tbody>\n",
       "</table>\n",
       "</div>"
      ],
      "text/plain": [
       "            Ip_address                           Date_Time     PID  \\\n",
       "0  192.168.10.4:55308]  [Sun Mar 01 06:28:15.983231 2020]   32548]   \n",
       "1  192.168.10.4:55308]  [Sun Mar 01 06:28:15.984200 2020]   32548]   \n",
       "2  192.168.10.4:55308]  [Sun Mar 01 06:28:15.984863 2020]   32548]   \n",
       "3  192.168.10.4:55308]  [Sun Mar 01 06:28:15.985763 2020]   32548]   \n",
       "4  192.168.10.4:55308]  [Sun Mar 01 06:28:15.986326 2020]   32548]   \n",
       "\n",
       "               Referer_Header  \n",
       "0  http://mail.cup.com/nag/\\n  \n",
       "1  http://mail.cup.com/nag/\\n  \n",
       "2  http://mail.cup.com/nag/\\n  \n",
       "3  http://mail.cup.com/nag/\\n  \n",
       "4  http://mail.cup.com/nag/\\n  "
      ]
     },
     "execution_count": 64,
     "metadata": {},
     "output_type": "execute_result"
    }
   ],
   "source": [
    "error_log_data.head()"
   ]
  },
  {
   "cell_type": "code",
   "execution_count": 65,
   "id": "fb860a86",
   "metadata": {},
   "outputs": [],
   "source": [
    "error_log_data.Ip_address=error_log_data.Ip_address.apply(lambda x:remove_bracket(x))\n",
    "error_log_data.Ip_address=error_log_data.Ip_address.apply(lambda x:x.split(':')[0])"
   ]
  },
  {
   "cell_type": "code",
   "execution_count": 66,
   "id": "514884ab",
   "metadata": {},
   "outputs": [],
   "source": [
    "error_log_data.Date_Time=error_log_data.Date_Time.apply(lambda x:remove_bracket(x))\n",
    "error_log_data.Date_Time=error_log_data.Date_Time.apply(lambda x:x.split('06:')[0])"
   ]
  },
  {
   "cell_type": "code",
   "execution_count": 67,
   "id": "8d10afb5",
   "metadata": {},
   "outputs": [],
   "source": [
    "error_log_data.PID=error_log_data.PID.apply(lambda x:remove_bracket(x))"
   ]
  },
  {
   "cell_type": "code",
   "execution_count": 68,
   "id": "dadc0195",
   "metadata": {},
   "outputs": [
    {
     "data": {
      "text/html": [
       "<div>\n",
       "<style scoped>\n",
       "    .dataframe tbody tr th:only-of-type {\n",
       "        vertical-align: middle;\n",
       "    }\n",
       "\n",
       "    .dataframe tbody tr th {\n",
       "        vertical-align: top;\n",
       "    }\n",
       "\n",
       "    .dataframe thead th {\n",
       "        text-align: right;\n",
       "    }\n",
       "</style>\n",
       "<table border=\"1\" class=\"dataframe\">\n",
       "  <thead>\n",
       "    <tr style=\"text-align: right;\">\n",
       "      <th></th>\n",
       "      <th>Ip_address</th>\n",
       "      <th>Date_Time</th>\n",
       "      <th>PID</th>\n",
       "      <th>Referer_Header</th>\n",
       "    </tr>\n",
       "  </thead>\n",
       "  <tbody>\n",
       "    <tr>\n",
       "      <th>0</th>\n",
       "      <td>192.168.10.4</td>\n",
       "      <td>Sun Mar 01</td>\n",
       "      <td>32548</td>\n",
       "      <td>http://mail.cup.com/nag/\\n</td>\n",
       "    </tr>\n",
       "    <tr>\n",
       "      <th>1</th>\n",
       "      <td>192.168.10.4</td>\n",
       "      <td>Sun Mar 01</td>\n",
       "      <td>32548</td>\n",
       "      <td>http://mail.cup.com/nag/\\n</td>\n",
       "    </tr>\n",
       "    <tr>\n",
       "      <th>2</th>\n",
       "      <td>192.168.10.4</td>\n",
       "      <td>Sun Mar 01</td>\n",
       "      <td>32548</td>\n",
       "      <td>http://mail.cup.com/nag/\\n</td>\n",
       "    </tr>\n",
       "    <tr>\n",
       "      <th>3</th>\n",
       "      <td>192.168.10.4</td>\n",
       "      <td>Sun Mar 01</td>\n",
       "      <td>32548</td>\n",
       "      <td>http://mail.cup.com/nag/\\n</td>\n",
       "    </tr>\n",
       "    <tr>\n",
       "      <th>4</th>\n",
       "      <td>192.168.10.4</td>\n",
       "      <td>Sun Mar 01</td>\n",
       "      <td>32548</td>\n",
       "      <td>http://mail.cup.com/nag/\\n</td>\n",
       "    </tr>\n",
       "    <tr>\n",
       "      <th>...</th>\n",
       "      <td>...</td>\n",
       "      <td>...</td>\n",
       "      <td>...</td>\n",
       "      <td>...</td>\n",
       "    </tr>\n",
       "    <tr>\n",
       "      <th>636</th>\n",
       "      <td>192.168.10.130</td>\n",
       "      <td>Thu Mar 05</td>\n",
       "      <td>14982</td>\n",
       "      <td>http://mail.spiral.com/turba/\\n</td>\n",
       "    </tr>\n",
       "    <tr>\n",
       "      <th>637</th>\n",
       "      <td>192.168.10.130</td>\n",
       "      <td>Thu Mar 05</td>\n",
       "      <td>14982</td>\n",
       "      <td>http://mail.spiral.com/turba/\\n</td>\n",
       "    </tr>\n",
       "    <tr>\n",
       "      <th>638</th>\n",
       "      <td>192.168.10.130</td>\n",
       "      <td>Thu Mar 05</td>\n",
       "      <td>14982</td>\n",
       "      <td>http://mail.spiral.com/turba/\\n</td>\n",
       "    </tr>\n",
       "    <tr>\n",
       "      <th>639</th>\n",
       "      <td>192.168.10.130</td>\n",
       "      <td>Thu Mar 05</td>\n",
       "      <td>14982</td>\n",
       "      <td>http://mail.spiral.com/turba/\\n</td>\n",
       "    </tr>\n",
       "    <tr>\n",
       "      <th>640</th>\n",
       "      <td>192.168.10.130</td>\n",
       "      <td>Thu Mar 05</td>\n",
       "      <td>14982</td>\n",
       "      <td>http://mail.spiral.com/turba/\\n</td>\n",
       "    </tr>\n",
       "  </tbody>\n",
       "</table>\n",
       "<p>641 rows × 4 columns</p>\n",
       "</div>"
      ],
      "text/plain": [
       "         Ip_address     Date_Time     PID                   Referer_Header\n",
       "0      192.168.10.4   Sun Mar 01   32548        http://mail.cup.com/nag/\\n\n",
       "1      192.168.10.4   Sun Mar 01   32548        http://mail.cup.com/nag/\\n\n",
       "2      192.168.10.4   Sun Mar 01   32548        http://mail.cup.com/nag/\\n\n",
       "3      192.168.10.4   Sun Mar 01   32548        http://mail.cup.com/nag/\\n\n",
       "4      192.168.10.4   Sun Mar 01   32548        http://mail.cup.com/nag/\\n\n",
       "..              ...           ...     ...                              ...\n",
       "636  192.168.10.130   Thu Mar 05   14982   http://mail.spiral.com/turba/\\n\n",
       "637  192.168.10.130   Thu Mar 05   14982   http://mail.spiral.com/turba/\\n\n",
       "638  192.168.10.130   Thu Mar 05   14982   http://mail.spiral.com/turba/\\n\n",
       "639  192.168.10.130   Thu Mar 05   14982   http://mail.spiral.com/turba/\\n\n",
       "640  192.168.10.130   Thu Mar 05   14982   http://mail.spiral.com/turba/\\n\n",
       "\n",
       "[641 rows x 4 columns]"
      ]
     },
     "execution_count": 68,
     "metadata": {},
     "output_type": "execute_result"
    }
   ],
   "source": [
    "error_log_data"
   ]
  },
  {
   "cell_type": "markdown",
   "id": "4d653533",
   "metadata": {},
   "source": [
    "## user_data "
   ]
  },
  {
   "cell_type": "code",
   "execution_count": 69,
   "id": "ddd8b8f2",
   "metadata": {},
   "outputs": [],
   "source": [
    "user_data.Date_Time[0]"
   ]
  },
  {
   "cell_type": "code",
   "execution_count": 70,
   "id": "d35213fe",
   "metadata": {},
   "outputs": [],
   "source": [
    "user_data=user_data.fillna(0)"
   ]
  },
  {
   "cell_type": "code",
   "execution_count": 71,
   "id": "3962b346",
   "metadata": {},
   "outputs": [],
   "source": [
    "user_data=user_data[user_data.Date_Time!=0].reset_index(drop=True)"
   ]
  },
  {
   "cell_type": "code",
   "execution_count": 72,
   "id": "195024e1",
   "metadata": {},
   "outputs": [
    {
     "data": {
      "text/plain": [
       "'2020-02-28 19:14:41'"
      ]
     },
     "execution_count": 72,
     "metadata": {},
     "output_type": "execute_result"
    }
   ],
   "source": [
    "user_data.Date_Time[0]"
   ]
  },
  {
   "cell_type": "code",
   "execution_count": 73,
   "id": "46796fd1",
   "metadata": {},
   "outputs": [],
   "source": [
    "user_data.Date_Time=user_data.Date_Time.apply(lambda x:x.split(' ')[0])"
   ]
  },
  {
   "cell_type": "code",
   "execution_count": 74,
   "id": "b7bb57ef",
   "metadata": {},
   "outputs": [
    {
     "data": {
      "text/html": [
       "<div>\n",
       "<style scoped>\n",
       "    .dataframe tbody tr th:only-of-type {\n",
       "        vertical-align: middle;\n",
       "    }\n",
       "\n",
       "    .dataframe tbody tr th {\n",
       "        vertical-align: top;\n",
       "    }\n",
       "\n",
       "    .dataframe thead th {\n",
       "        text-align: right;\n",
       "    }\n",
       "</style>\n",
       "<table border=\"1\" class=\"dataframe\">\n",
       "  <thead>\n",
       "    <tr style=\"text-align: right;\">\n",
       "      <th></th>\n",
       "      <th>Date_Time</th>\n",
       "      <th>Date_id</th>\n",
       "      <th>Next_State</th>\n",
       "      <th>User</th>\n",
       "    </tr>\n",
       "  </thead>\n",
       "  <tbody>\n",
       "    <tr>\n",
       "      <th>0</th>\n",
       "      <td>2020-02-28</td>\n",
       "      <td>123111</td>\n",
       "      <td>Login\\n</td>\n",
       "      <td>user-0</td>\n",
       "    </tr>\n",
       "    <tr>\n",
       "      <th>1</th>\n",
       "      <td>2020-02-28</td>\n",
       "      <td>244144</td>\n",
       "      <td>Personal Preferences\\n</td>\n",
       "      <td>user-0</td>\n",
       "    </tr>\n",
       "    <tr>\n",
       "      <th>2</th>\n",
       "      <td>2020-02-28</td>\n",
       "      <td>950956</td>\n",
       "      <td>Mail Delete Preferences\\n</td>\n",
       "      <td>user-0</td>\n",
       "    </tr>\n",
       "    <tr>\n",
       "      <th>3</th>\n",
       "      <td>2020-02-28</td>\n",
       "      <td>522902</td>\n",
       "      <td>Home\\n</td>\n",
       "      <td>user-0</td>\n",
       "    </tr>\n",
       "    <tr>\n",
       "      <th>4</th>\n",
       "      <td>2020-02-28</td>\n",
       "      <td>807088</td>\n",
       "      <td>MenuBarSelection\\n</td>\n",
       "      <td>user-0</td>\n",
       "    </tr>\n",
       "    <tr>\n",
       "      <th>...</th>\n",
       "      <td>...</td>\n",
       "      <td>...</td>\n",
       "      <td>...</td>\n",
       "      <td>...</td>\n",
       "    </tr>\n",
       "    <tr>\n",
       "      <th>476453</th>\n",
       "      <td>2020-03-06</td>\n",
       "      <td>632661</td>\n",
       "      <td>NewCalendarEvent\\n</td>\n",
       "      <td>user-9</td>\n",
       "    </tr>\n",
       "    <tr>\n",
       "      <th>476454</th>\n",
       "      <td>2020-03-06</td>\n",
       "      <td>658098</td>\n",
       "      <td>Home\\n</td>\n",
       "      <td>user-9</td>\n",
       "    </tr>\n",
       "    <tr>\n",
       "      <th>476455</th>\n",
       "      <td>2020-03-06</td>\n",
       "      <td>526480</td>\n",
       "      <td>MenuBarSelection\\n</td>\n",
       "      <td>user-9</td>\n",
       "    </tr>\n",
       "    <tr>\n",
       "      <th>476456</th>\n",
       "      <td>2020-03-06</td>\n",
       "      <td>526653</td>\n",
       "      <td>Logout\\n</td>\n",
       "      <td>user-9</td>\n",
       "    </tr>\n",
       "    <tr>\n",
       "      <th>476457</th>\n",
       "      <td>2020-03-06</td>\n",
       "      <td>773555</td>\n",
       "      <td>Idle\\n</td>\n",
       "      <td>user-9</td>\n",
       "    </tr>\n",
       "  </tbody>\n",
       "</table>\n",
       "<p>476458 rows × 4 columns</p>\n",
       "</div>"
      ],
      "text/plain": [
       "         Date_Time Date_id                  Next_State    User\n",
       "0       2020-02-28  123111                     Login\\n  user-0\n",
       "1       2020-02-28  244144      Personal Preferences\\n  user-0\n",
       "2       2020-02-28  950956   Mail Delete Preferences\\n  user-0\n",
       "3       2020-02-28  522902                      Home\\n  user-0\n",
       "4       2020-02-28  807088          MenuBarSelection\\n  user-0\n",
       "...            ...     ...                         ...     ...\n",
       "476453  2020-03-06  632661          NewCalendarEvent\\n  user-9\n",
       "476454  2020-03-06  658098                      Home\\n  user-9\n",
       "476455  2020-03-06  526480          MenuBarSelection\\n  user-9\n",
       "476456  2020-03-06  526653                    Logout\\n  user-9\n",
       "476457  2020-03-06  773555                      Idle\\n  user-9\n",
       "\n",
       "[476458 rows x 4 columns]"
      ]
     },
     "execution_count": 74,
     "metadata": {},
     "output_type": "execute_result"
    }
   ],
   "source": [
    "user_data"
   ]
  },
  {
   "cell_type": "code",
   "execution_count": 75,
   "id": "048d6f70",
   "metadata": {},
   "outputs": [],
   "source": [
    "user_data['Date_Time']=pd.to_datetime(user_data['Date_Time'])"
   ]
  },
  {
   "cell_type": "code",
   "execution_count": 76,
   "id": "7ff9bcfd",
   "metadata": {},
   "outputs": [
    {
     "data": {
      "text/html": [
       "<div>\n",
       "<style scoped>\n",
       "    .dataframe tbody tr th:only-of-type {\n",
       "        vertical-align: middle;\n",
       "    }\n",
       "\n",
       "    .dataframe tbody tr th {\n",
       "        vertical-align: top;\n",
       "    }\n",
       "\n",
       "    .dataframe thead th {\n",
       "        text-align: right;\n",
       "    }\n",
       "</style>\n",
       "<table border=\"1\" class=\"dataframe\">\n",
       "  <thead>\n",
       "    <tr style=\"text-align: right;\">\n",
       "      <th></th>\n",
       "      <th>Date_Time</th>\n",
       "      <th>Date_id</th>\n",
       "      <th>Next_State</th>\n",
       "      <th>User</th>\n",
       "    </tr>\n",
       "  </thead>\n",
       "  <tbody>\n",
       "    <tr>\n",
       "      <th>0</th>\n",
       "      <td>2020-02-28</td>\n",
       "      <td>123111</td>\n",
       "      <td>Login\\n</td>\n",
       "      <td>user-0</td>\n",
       "    </tr>\n",
       "    <tr>\n",
       "      <th>1</th>\n",
       "      <td>2020-02-28</td>\n",
       "      <td>244144</td>\n",
       "      <td>Personal Preferences\\n</td>\n",
       "      <td>user-0</td>\n",
       "    </tr>\n",
       "    <tr>\n",
       "      <th>2</th>\n",
       "      <td>2020-02-28</td>\n",
       "      <td>950956</td>\n",
       "      <td>Mail Delete Preferences\\n</td>\n",
       "      <td>user-0</td>\n",
       "    </tr>\n",
       "    <tr>\n",
       "      <th>3</th>\n",
       "      <td>2020-02-28</td>\n",
       "      <td>522902</td>\n",
       "      <td>Home\\n</td>\n",
       "      <td>user-0</td>\n",
       "    </tr>\n",
       "    <tr>\n",
       "      <th>4</th>\n",
       "      <td>2020-02-28</td>\n",
       "      <td>807088</td>\n",
       "      <td>MenuBarSelection\\n</td>\n",
       "      <td>user-0</td>\n",
       "    </tr>\n",
       "  </tbody>\n",
       "</table>\n",
       "</div>"
      ],
      "text/plain": [
       "   Date_Time Date_id                  Next_State    User\n",
       "0 2020-02-28  123111                     Login\\n  user-0\n",
       "1 2020-02-28  244144      Personal Preferences\\n  user-0\n",
       "2 2020-02-28  950956   Mail Delete Preferences\\n  user-0\n",
       "3 2020-02-28  522902                      Home\\n  user-0\n",
       "4 2020-02-28  807088          MenuBarSelection\\n  user-0"
      ]
     },
     "execution_count": 76,
     "metadata": {},
     "output_type": "execute_result"
    }
   ],
   "source": [
    "user_data.head()"
   ]
  },
  {
   "cell_type": "code",
   "execution_count": 77,
   "id": "b4bb2e09",
   "metadata": {},
   "outputs": [],
   "source": [
    "## Attack Data"
   ]
  },
  {
   "cell_type": "code",
   "execution_count": 78,
   "id": "66393c0a",
   "metadata": {},
   "outputs": [
    {
     "data": {
      "text/html": [
       "<div>\n",
       "<style scoped>\n",
       "    .dataframe tbody tr th:only-of-type {\n",
       "        vertical-align: middle;\n",
       "    }\n",
       "\n",
       "    .dataframe tbody tr th {\n",
       "        vertical-align: top;\n",
       "    }\n",
       "\n",
       "    .dataframe thead th {\n",
       "        text-align: right;\n",
       "    }\n",
       "</style>\n",
       "<table border=\"1\" class=\"dataframe\">\n",
       "  <thead>\n",
       "    <tr style=\"text-align: right;\">\n",
       "      <th></th>\n",
       "      <th>Date_Time</th>\n",
       "      <th>Status</th>\n",
       "      <th>User</th>\n",
       "    </tr>\n",
       "  </thead>\n",
       "  <tbody>\n",
       "    <tr>\n",
       "      <th>0</th>\n",
       "      <td>Wed Mar 4 12:37:51</td>\n",
       "      <td>okay-upload-webshell\\n</td>\n",
       "      <td>user-4</td>\n",
       "    </tr>\n",
       "    <tr>\n",
       "      <th>1</th>\n",
       "      <td>Wed Mar 4 12:37:51</td>\n",
       "      <td>success\\n</td>\n",
       "      <td>user-4</td>\n",
       "    </tr>\n",
       "    <tr>\n",
       "      <th>2</th>\n",
       "      <td>Wed Mar 4 12:38:05</td>\n",
       "      <td>okay-curl\\n</td>\n",
       "      <td>user-4</td>\n",
       "    </tr>\n",
       "    <tr>\n",
       "      <th>3</th>\n",
       "      <td>Wed Mar 4 12:38:05</td>\n",
       "      <td>success\\n</td>\n",
       "      <td>user-4</td>\n",
       "    </tr>\n",
       "    <tr>\n",
       "      <th>4</th>\n",
       "      <td>Wed Mar 4 13:51:47</td>\n",
       "      <td>nmap\\n</td>\n",
       "      <td>user-4</td>\n",
       "    </tr>\n",
       "  </tbody>\n",
       "</table>\n",
       "</div>"
      ],
      "text/plain": [
       "             Date_Time                   Status    User\n",
       "0  Wed Mar 4 12:37:51    okay-upload-webshell\\n  user-4\n",
       "1  Wed Mar 4 12:37:51                 success\\n  user-4\n",
       "2  Wed Mar 4 12:38:05               okay-curl\\n  user-4\n",
       "3  Wed Mar 4 12:38:05                 success\\n  user-4\n",
       "4  Wed Mar 4 13:51:47                    nmap\\n  user-4"
      ]
     },
     "execution_count": 78,
     "metadata": {},
     "output_type": "execute_result"
    }
   ],
   "source": [
    "attack_data.head()"
   ]
  },
  {
   "cell_type": "markdown",
   "id": "7eec1119",
   "metadata": {},
   "source": [
    "# Exploratory Data Analysis"
   ]
  },
  {
   "cell_type": "code",
   "execution_count": 79,
   "id": "84c85730",
   "metadata": {},
   "outputs": [
    {
     "data": {
      "text/plain": [
       "((483832, 8), (641, 4), (476458, 4), (443, 3))"
      ]
     },
     "execution_count": 79,
     "metadata": {},
     "output_type": "execute_result"
    }
   ],
   "source": [
    "access_data.shape, error_log_data.shape, user_data.shape, attack_data.shape"
   ]
  },
  {
   "cell_type": "markdown",
   "id": "ceef9c25",
   "metadata": {},
   "source": [
    "## access log data"
   ]
  },
  {
   "cell_type": "code",
   "execution_count": 80,
   "id": "0703f114",
   "metadata": {},
   "outputs": [
    {
     "data": {
      "text/html": [
       "<div>\n",
       "<style scoped>\n",
       "    .dataframe tbody tr th:only-of-type {\n",
       "        vertical-align: middle;\n",
       "    }\n",
       "\n",
       "    .dataframe tbody tr th {\n",
       "        vertical-align: top;\n",
       "    }\n",
       "\n",
       "    .dataframe thead th {\n",
       "        text-align: right;\n",
       "    }\n",
       "</style>\n",
       "<table border=\"1\" class=\"dataframe\">\n",
       "  <thead>\n",
       "    <tr style=\"text-align: right;\">\n",
       "      <th></th>\n",
       "      <th>Ip_address</th>\n",
       "      <th>Date_Time</th>\n",
       "      <th>Method_of_request</th>\n",
       "      <th>Request_Method</th>\n",
       "      <th>Request_status</th>\n",
       "      <th>Referer_Header</th>\n",
       "      <th>User_Header</th>\n",
       "      <th>Security_status</th>\n",
       "    </tr>\n",
       "  </thead>\n",
       "  <tbody>\n",
       "    <tr>\n",
       "      <th>0</th>\n",
       "      <td>192.168.10.190</td>\n",
       "      <td>2020-02-29</td>\n",
       "      <td>GET /login.php HTTP/1.1</td>\n",
       "      <td>GET</td>\n",
       "      <td>200</td>\n",
       "      <td>Anonymous Referer</td>\n",
       "      <td>Mozilla/5.0 (X11; Ubuntu; Linux x86_64; rv:73....</td>\n",
       "      <td>Safe</td>\n",
       "    </tr>\n",
       "    <tr>\n",
       "      <th>1</th>\n",
       "      <td>192.168.10.4</td>\n",
       "      <td>2020-02-29</td>\n",
       "      <td>POST /services/ajax.php/kronolith/listTopTags ...</td>\n",
       "      <td>POST</td>\n",
       "      <td>200</td>\n",
       "      <td>http://mail.cup.com/kronolith/</td>\n",
       "      <td>Mozilla/5.0 (X11; Linux x86_64) AppleWebKit/53...</td>\n",
       "      <td>Safe</td>\n",
       "    </tr>\n",
       "    <tr>\n",
       "      <th>2</th>\n",
       "      <td>192.168.10.190</td>\n",
       "      <td>2020-02-29</td>\n",
       "      <td>POST /login.php HTTP/1.1</td>\n",
       "      <td>POST</td>\n",
       "      <td>302</td>\n",
       "      <td>http://mail.cup.com/login.php</td>\n",
       "      <td>Mozilla/5.0 (X11; Ubuntu; Linux x86_64; rv:73....</td>\n",
       "      <td>Safe</td>\n",
       "    </tr>\n",
       "    <tr>\n",
       "      <th>3</th>\n",
       "      <td>192.168.10.190</td>\n",
       "      <td>2020-02-29</td>\n",
       "      <td>GET /services/portal/ HTTP/1.1</td>\n",
       "      <td>GET</td>\n",
       "      <td>200</td>\n",
       "      <td>http://mail.cup.com/login.php</td>\n",
       "      <td>Mozilla/5.0 (X11; Ubuntu; Linux x86_64; rv:73....</td>\n",
       "      <td>Safe</td>\n",
       "    </tr>\n",
       "    <tr>\n",
       "      <th>4</th>\n",
       "      <td>192.168.10.190</td>\n",
       "      <td>2020-02-29</td>\n",
       "      <td>GET /themes/default/graphics/head-bg.png HTTP/1.1</td>\n",
       "      <td>GET</td>\n",
       "      <td>200</td>\n",
       "      <td>http://mail.cup.com/themes/default/screen.css</td>\n",
       "      <td>Mozilla/5.0 (X11; Ubuntu; Linux x86_64; rv:73....</td>\n",
       "      <td>Safe</td>\n",
       "    </tr>\n",
       "  </tbody>\n",
       "</table>\n",
       "</div>"
      ],
      "text/plain": [
       "       Ip_address  Date_Time  \\\n",
       "0  192.168.10.190 2020-02-29   \n",
       "1    192.168.10.4 2020-02-29   \n",
       "2  192.168.10.190 2020-02-29   \n",
       "3  192.168.10.190 2020-02-29   \n",
       "4  192.168.10.190 2020-02-29   \n",
       "\n",
       "                                   Method_of_request Request_Method  \\\n",
       "0                            GET /login.php HTTP/1.1            GET   \n",
       "1  POST /services/ajax.php/kronolith/listTopTags ...           POST   \n",
       "2                           POST /login.php HTTP/1.1           POST   \n",
       "3                     GET /services/portal/ HTTP/1.1            GET   \n",
       "4  GET /themes/default/graphics/head-bg.png HTTP/1.1            GET   \n",
       "\n",
       "  Request_status                                 Referer_Header  \\\n",
       "0            200                              Anonymous Referer   \n",
       "1            200                 http://mail.cup.com/kronolith/   \n",
       "2            302                  http://mail.cup.com/login.php   \n",
       "3            200                  http://mail.cup.com/login.php   \n",
       "4            200  http://mail.cup.com/themes/default/screen.css   \n",
       "\n",
       "                                         User_Header Security_status  \n",
       "0  Mozilla/5.0 (X11; Ubuntu; Linux x86_64; rv:73....            Safe  \n",
       "1  Mozilla/5.0 (X11; Linux x86_64) AppleWebKit/53...            Safe  \n",
       "2  Mozilla/5.0 (X11; Ubuntu; Linux x86_64; rv:73....            Safe  \n",
       "3  Mozilla/5.0 (X11; Ubuntu; Linux x86_64; rv:73....            Safe  \n",
       "4  Mozilla/5.0 (X11; Ubuntu; Linux x86_64; rv:73....            Safe  "
      ]
     },
     "execution_count": 80,
     "metadata": {},
     "output_type": "execute_result"
    }
   ],
   "source": [
    "access_data.head()"
   ]
  },
  {
   "cell_type": "code",
   "execution_count": 81,
   "id": "f4237f43",
   "metadata": {},
   "outputs": [
    {
     "name": "stdout",
     "output_type": "stream",
     "text": [
      "<class 'pandas.core.frame.DataFrame'>\n",
      "RangeIndex: 483832 entries, 0 to 483831\n",
      "Data columns (total 8 columns):\n",
      " #   Column             Non-Null Count   Dtype         \n",
      "---  ------             --------------   -----         \n",
      " 0   Ip_address         483832 non-null  object        \n",
      " 1   Date_Time          483832 non-null  datetime64[ns]\n",
      " 2   Method_of_request  483832 non-null  object        \n",
      " 3   Request_Method     483832 non-null  object        \n",
      " 4   Request_status     483832 non-null  object        \n",
      " 5   Referer_Header     483832 non-null  object        \n",
      " 6   User_Header        483832 non-null  object        \n",
      " 7   Security_status    483832 non-null  object        \n",
      "dtypes: datetime64[ns](1), object(7)\n",
      "memory usage: 29.5+ MB\n"
     ]
    }
   ],
   "source": [
    "access_data.info()"
   ]
  },
  {
   "cell_type": "markdown",
   "id": "8224212b",
   "metadata": {},
   "source": [
    "## Exploring Access Patterns\n",
    "- Analyze request methods: Count the occurrences of different request methods (GET, POST, etc.).\n",
    "- Study request statuses: Investigate the distribution of response status codes (e.g., 200 OK, 404 Not Found).\n",
    "- Examine access over time: Plot the access frequency over time to identify spikes or anomalies"
   ]
  },
  {
   "cell_type": "code",
   "execution_count": 82,
   "id": "187fe5e5",
   "metadata": {},
   "outputs": [
    {
     "data": {
      "text/html": [
       "<div>\n",
       "<style scoped>\n",
       "    .dataframe tbody tr th:only-of-type {\n",
       "        vertical-align: middle;\n",
       "    }\n",
       "\n",
       "    .dataframe tbody tr th {\n",
       "        vertical-align: top;\n",
       "    }\n",
       "\n",
       "    .dataframe thead th {\n",
       "        text-align: right;\n",
       "    }\n",
       "</style>\n",
       "<table border=\"1\" class=\"dataframe\">\n",
       "  <thead>\n",
       "    <tr style=\"text-align: right;\">\n",
       "      <th></th>\n",
       "      <th>Ip_address</th>\n",
       "      <th>Date_Time</th>\n",
       "      <th>Method_of_request</th>\n",
       "      <th>Request_Method</th>\n",
       "      <th>Request_status</th>\n",
       "      <th>Referer_Header</th>\n",
       "      <th>User_Header</th>\n",
       "      <th>Security_status</th>\n",
       "    </tr>\n",
       "  </thead>\n",
       "  <tbody>\n",
       "    <tr>\n",
       "      <th>0</th>\n",
       "      <td>192.168.10.190</td>\n",
       "      <td>2020-02-29</td>\n",
       "      <td>GET /login.php HTTP/1.1</td>\n",
       "      <td>GET</td>\n",
       "      <td>200</td>\n",
       "      <td>Anonymous Referer</td>\n",
       "      <td>Mozilla/5.0 (X11; Ubuntu; Linux x86_64; rv:73....</td>\n",
       "      <td>Safe</td>\n",
       "    </tr>\n",
       "  </tbody>\n",
       "</table>\n",
       "</div>"
      ],
      "text/plain": [
       "       Ip_address  Date_Time        Method_of_request Request_Method  \\\n",
       "0  192.168.10.190 2020-02-29  GET /login.php HTTP/1.1            GET   \n",
       "\n",
       "  Request_status     Referer_Header  \\\n",
       "0            200  Anonymous Referer   \n",
       "\n",
       "                                         User_Header Security_status  \n",
       "0  Mozilla/5.0 (X11; Ubuntu; Linux x86_64; rv:73....            Safe  "
      ]
     },
     "execution_count": 82,
     "metadata": {},
     "output_type": "execute_result"
    }
   ],
   "source": [
    "access_data.head(1)"
   ]
  },
  {
   "cell_type": "code",
   "execution_count": 83,
   "id": "f4f50415",
   "metadata": {},
   "outputs": [],
   "source": [
    "log_acess_over_time = access_data.groupby('Date_Time')['Ip_address'].count().to_frame().rename(columns={'Ip_address':'Counts'}).reset_index()"
   ]
  },
  {
   "cell_type": "code",
   "execution_count": 84,
   "id": "a2bd3789",
   "metadata": {},
   "outputs": [
    {
     "data": {
      "text/html": [
       "<div>\n",
       "<style scoped>\n",
       "    .dataframe tbody tr th:only-of-type {\n",
       "        vertical-align: middle;\n",
       "    }\n",
       "\n",
       "    .dataframe tbody tr th {\n",
       "        vertical-align: top;\n",
       "    }\n",
       "\n",
       "    .dataframe thead th {\n",
       "        text-align: right;\n",
       "    }\n",
       "</style>\n",
       "<table border=\"1\" class=\"dataframe\">\n",
       "  <thead>\n",
       "    <tr style=\"text-align: right;\">\n",
       "      <th></th>\n",
       "      <th>Date_Time</th>\n",
       "      <th>Counts</th>\n",
       "    </tr>\n",
       "  </thead>\n",
       "  <tbody>\n",
       "    <tr>\n",
       "      <th>0</th>\n",
       "      <td>2020-02-29</td>\n",
       "      <td>67861</td>\n",
       "    </tr>\n",
       "    <tr>\n",
       "      <th>1</th>\n",
       "      <td>2020-03-01</td>\n",
       "      <td>70201</td>\n",
       "    </tr>\n",
       "    <tr>\n",
       "      <th>2</th>\n",
       "      <td>2020-03-02</td>\n",
       "      <td>78047</td>\n",
       "    </tr>\n",
       "    <tr>\n",
       "      <th>3</th>\n",
       "      <td>2020-03-03</td>\n",
       "      <td>76021</td>\n",
       "    </tr>\n",
       "    <tr>\n",
       "      <th>4</th>\n",
       "      <td>2020-03-04</td>\n",
       "      <td>103544</td>\n",
       "    </tr>\n",
       "    <tr>\n",
       "      <th>5</th>\n",
       "      <td>2020-03-05</td>\n",
       "      <td>82281</td>\n",
       "    </tr>\n",
       "    <tr>\n",
       "      <th>6</th>\n",
       "      <td>2020-03-06</td>\n",
       "      <td>5877</td>\n",
       "    </tr>\n",
       "  </tbody>\n",
       "</table>\n",
       "</div>"
      ],
      "text/plain": [
       "   Date_Time  Counts\n",
       "0 2020-02-29   67861\n",
       "1 2020-03-01   70201\n",
       "2 2020-03-02   78047\n",
       "3 2020-03-03   76021\n",
       "4 2020-03-04  103544\n",
       "5 2020-03-05   82281\n",
       "6 2020-03-06    5877"
      ]
     },
     "execution_count": 84,
     "metadata": {},
     "output_type": "execute_result"
    }
   ],
   "source": [
    "log_acess_over_time"
   ]
  },
  {
   "cell_type": "code",
   "execution_count": 85,
   "id": "08655368",
   "metadata": {},
   "outputs": [
    {
     "data": {
      "image/png": "[encoded data removed]",
      "text/plain": [
       "<Figure size 1224x432 with 1 Axes>"
      ]
     },
     "metadata": {
      "needs_background": "light"
     },
     "output_type": "display_data"
    }
   ],
   "source": [
    "plt.figure(figsize = (17,6))\n",
    "ax=sns.lineplot(x=log_acess_over_time['Date_Time'],y=log_acess_over_time['Counts'])\n",
    "plt.title('Access Trend Pattern Across Date')\n",
    "plt.xlabel('Date')\n",
    "plt.ylabel('Counts Distribution of Access')\n",
    "plt.xticks(rotation = 90);\n",
    "plt.show()"
   ]
  },
  {
   "cell_type": "code",
   "execution_count": 86,
   "id": "498796f0",
   "metadata": {},
   "outputs": [],
   "source": [
    "unique_IP_distribution = access_data.groupby('Ip_address')['Ip_address'].count().to_frame().rename(columns={'Ip_address':'Counts'}).reset_index().sort_values(\"Counts\", axis = 0, ascending = False, na_position ='last').reset_index(drop = True)"
   ]
  },
  {
   "cell_type": "code",
   "execution_count": 87,
   "id": "96b03ccf",
   "metadata": {},
   "outputs": [
    {
     "data": {
      "text/html": [
       "<div>\n",
       "<style scoped>\n",
       "    .dataframe tbody tr th:only-of-type {\n",
       "        vertical-align: middle;\n",
       "    }\n",
       "\n",
       "    .dataframe tbody tr th {\n",
       "        vertical-align: top;\n",
       "    }\n",
       "\n",
       "    .dataframe thead th {\n",
       "        text-align: right;\n",
       "    }\n",
       "</style>\n",
       "<table border=\"1\" class=\"dataframe\">\n",
       "  <thead>\n",
       "    <tr style=\"text-align: right;\">\n",
       "      <th></th>\n",
       "      <th>Ip_address</th>\n",
       "      <th>Counts</th>\n",
       "    </tr>\n",
       "  </thead>\n",
       "  <tbody>\n",
       "    <tr>\n",
       "      <th>0</th>\n",
       "      <td>192.168.10.18</td>\n",
       "      <td>146854</td>\n",
       "    </tr>\n",
       "    <tr>\n",
       "      <th>1</th>\n",
       "      <td>192.168.10.185</td>\n",
       "      <td>71334</td>\n",
       "    </tr>\n",
       "    <tr>\n",
       "      <th>2</th>\n",
       "      <td>192.168.10.190</td>\n",
       "      <td>60664</td>\n",
       "    </tr>\n",
       "    <tr>\n",
       "      <th>3</th>\n",
       "      <td>192.168.10.130</td>\n",
       "      <td>48548</td>\n",
       "    </tr>\n",
       "    <tr>\n",
       "      <th>4</th>\n",
       "      <td>192.168.10.81</td>\n",
       "      <td>40499</td>\n",
       "    </tr>\n",
       "    <tr>\n",
       "      <th>5</th>\n",
       "      <td>192.168.10.238</td>\n",
       "      <td>40248</td>\n",
       "    </tr>\n",
       "    <tr>\n",
       "      <th>6</th>\n",
       "      <td>192.168.10.4</td>\n",
       "      <td>28484</td>\n",
       "    </tr>\n",
       "    <tr>\n",
       "      <th>7</th>\n",
       "      <td>192.168.10.98</td>\n",
       "      <td>17798</td>\n",
       "    </tr>\n",
       "    <tr>\n",
       "      <th>8</th>\n",
       "      <td>192.168.10.200</td>\n",
       "      <td>12751</td>\n",
       "    </tr>\n",
       "    <tr>\n",
       "      <th>9</th>\n",
       "      <td>192.168.10.194</td>\n",
       "      <td>8642</td>\n",
       "    </tr>\n",
       "    <tr>\n",
       "      <th>10</th>\n",
       "      <td>192.168.10.161</td>\n",
       "      <td>8010</td>\n",
       "    </tr>\n",
       "  </tbody>\n",
       "</table>\n",
       "</div>"
      ],
      "text/plain": [
       "        Ip_address  Counts\n",
       "0    192.168.10.18  146854\n",
       "1   192.168.10.185   71334\n",
       "2   192.168.10.190   60664\n",
       "3   192.168.10.130   48548\n",
       "4    192.168.10.81   40499\n",
       "5   192.168.10.238   40248\n",
       "6     192.168.10.4   28484\n",
       "7    192.168.10.98   17798\n",
       "8   192.168.10.200   12751\n",
       "9   192.168.10.194    8642\n",
       "10  192.168.10.161    8010"
      ]
     },
     "execution_count": 87,
     "metadata": {},
     "output_type": "execute_result"
    }
   ],
   "source": [
    "unique_IP_distribution"
   ]
  },
  {
   "cell_type": "code",
   "execution_count": null,
   "id": "8711c378",
   "metadata": {},
   "outputs": [],
   "source": []
  },
  {
   "cell_type": "code",
   "execution_count": 88,
   "id": "8daeb712",
   "metadata": {},
   "outputs": [
    {
     "data": {
      "image/png": "[encoded data removed]",
      "text/plain": [
       "<Figure size 1224x432 with 1 Axes>"
      ]
     },
     "metadata": {
      "needs_background": "light"
     },
     "output_type": "display_data"
    }
   ],
   "source": [
    "plt.figure(figsize = (17,6))\n",
    "ax=sns.barplot(x=unique_IP_distribution['Ip_address'],y=unique_IP_distribution['Counts'])\n",
    "ax.bar_label(ax.containers[0])\n",
    "plt.title('IP Address Count Distribution')\n",
    "plt.xlabel('IP Addresses')\n",
    "plt.ylabel('Counts Distribution')\n",
    "plt.xticks(rotation = 90);\n",
    "plt.show()"
   ]
  },
  {
   "cell_type": "code",
   "execution_count": 89,
   "id": "3e3cf6cc",
   "metadata": {},
   "outputs": [],
   "source": [
    "request_method_df = access_data.groupby('Request_Method')['Request_Method'].count().to_frame().rename(columns={'Request_Method':'Counts'}).reset_index().sort_values(\"Counts\", axis = 0, ascending = False, na_position ='last').reset_index(drop = True)"
   ]
  },
  {
   "cell_type": "code",
   "execution_count": 90,
   "id": "73d5ca39",
   "metadata": {},
   "outputs": [
    {
     "data": {
      "text/html": [
       "<div>\n",
       "<style scoped>\n",
       "    .dataframe tbody tr th:only-of-type {\n",
       "        vertical-align: middle;\n",
       "    }\n",
       "\n",
       "    .dataframe tbody tr th {\n",
       "        vertical-align: top;\n",
       "    }\n",
       "\n",
       "    .dataframe thead th {\n",
       "        text-align: right;\n",
       "    }\n",
       "</style>\n",
       "<table border=\"1\" class=\"dataframe\">\n",
       "  <thead>\n",
       "    <tr style=\"text-align: right;\">\n",
       "      <th></th>\n",
       "      <th>Request_Method</th>\n",
       "      <th>Counts</th>\n",
       "    </tr>\n",
       "  </thead>\n",
       "  <tbody>\n",
       "    <tr>\n",
       "      <th>0</th>\n",
       "      <td>GET</td>\n",
       "      <td>326678</td>\n",
       "    </tr>\n",
       "    <tr>\n",
       "      <th>1</th>\n",
       "      <td>POST</td>\n",
       "      <td>157087</td>\n",
       "    </tr>\n",
       "    <tr>\n",
       "      <th>2</th>\n",
       "      <td>OPTIONS</td>\n",
       "      <td>12</td>\n",
       "    </tr>\n",
       "    <tr>\n",
       "      <th>3</th>\n",
       "      <td>HEAD</td>\n",
       "      <td>8</td>\n",
       "    </tr>\n",
       "    <tr>\n",
       "      <th>4</th>\n",
       "      <td>TRACE</td>\n",
       "      <td>8</td>\n",
       "    </tr>\n",
       "  </tbody>\n",
       "</table>\n",
       "</div>"
      ],
      "text/plain": [
       "  Request_Method  Counts\n",
       "0            GET  326678\n",
       "1           POST  157087\n",
       "2        OPTIONS      12\n",
       "3           HEAD       8\n",
       "4          TRACE       8"
      ]
     },
     "execution_count": 90,
     "metadata": {},
     "output_type": "execute_result"
    }
   ],
   "source": [
    "request_method_df.head()"
   ]
  },
  {
   "cell_type": "code",
   "execution_count": 91,
   "id": "6b1a3ebc",
   "metadata": {},
   "outputs": [
    {
     "data": {
      "image/png": "[encoded data removed]",
      "text/plain": [
       "<Figure size 1224x432 with 1 Axes>"
      ]
     },
     "metadata": {
      "needs_background": "light"
     },
     "output_type": "display_data"
    }
   ],
   "source": [
    "plt.figure(figsize = (17,6))\n",
    "ax=sns.barplot(x=request_method_df['Request_Method'],y=request_method_df['Counts'])\n",
    "ax.bar_label(ax.containers[0])\n",
    "plt.title('Request Method Count Distribution')\n",
    "plt.xlabel('Request Method')\n",
    "plt.ylabel('Counts Distribution')\n",
    "plt.xticks(rotation = 90);\n",
    "plt.show()"
   ]
  },
  {
   "cell_type": "code",
   "execution_count": null,
   "id": "4205366e",
   "metadata": {},
   "outputs": [],
   "source": []
  },
  {
   "cell_type": "code",
   "execution_count": 92,
   "id": "68ab44c3",
   "metadata": {},
   "outputs": [],
   "source": [
    "request_status_df=access_data.groupby('Request_status')['Request_status'].count().to_frame().rename(columns={'Request_status':'Counts'}).reset_index().sort_values(\"Counts\", axis = 0, ascending = False, na_position ='last').reset_index(drop = True)"
   ]
  },
  {
   "cell_type": "code",
   "execution_count": 93,
   "id": "9bbd5729",
   "metadata": {},
   "outputs": [
    {
     "data": {
      "text/html": [
       "<div>\n",
       "<style scoped>\n",
       "    .dataframe tbody tr th:only-of-type {\n",
       "        vertical-align: middle;\n",
       "    }\n",
       "\n",
       "    .dataframe tbody tr th {\n",
       "        vertical-align: top;\n",
       "    }\n",
       "\n",
       "    .dataframe thead th {\n",
       "        text-align: right;\n",
       "    }\n",
       "</style>\n",
       "<table border=\"1\" class=\"dataframe\">\n",
       "  <thead>\n",
       "    <tr style=\"text-align: right;\">\n",
       "      <th></th>\n",
       "      <th>Request_status</th>\n",
       "      <th>Counts</th>\n",
       "    </tr>\n",
       "  </thead>\n",
       "  <tbody>\n",
       "    <tr>\n",
       "      <th>0</th>\n",
       "      <td>200</td>\n",
       "      <td>424056</td>\n",
       "    </tr>\n",
       "    <tr>\n",
       "      <th>1</th>\n",
       "      <td>302</td>\n",
       "      <td>42630</td>\n",
       "    </tr>\n",
       "    <tr>\n",
       "      <th>2</th>\n",
       "      <td>400</td>\n",
       "      <td>12577</td>\n",
       "    </tr>\n",
       "    <tr>\n",
       "      <th>3</th>\n",
       "      <td>304</td>\n",
       "      <td>3889</td>\n",
       "    </tr>\n",
       "    <tr>\n",
       "      <th>4</th>\n",
       "      <td>&gt;&lt;s</td>\n",
       "      <td>164</td>\n",
       "    </tr>\n",
       "    <tr>\n",
       "      <th>5</th>\n",
       "      <td>403</td>\n",
       "      <td>160</td>\n",
       "    </tr>\n",
       "    <tr>\n",
       "      <th>6</th>\n",
       "      <td>404</td>\n",
       "      <td>103</td>\n",
       "    </tr>\n",
       "    <tr>\n",
       "      <th>7</th>\n",
       "      <td>./.</td>\n",
       "      <td>52</td>\n",
       "    </tr>\n",
       "    <tr>\n",
       "      <th>8</th>\n",
       "      <td>&lt;sc</td>\n",
       "      <td>40</td>\n",
       "    </tr>\n",
       "    <tr>\n",
       "      <th>9</th>\n",
       "      <td>Vul</td>\n",
       "      <td>36</td>\n",
       "    </tr>\n",
       "  </tbody>\n",
       "</table>\n",
       "</div>"
      ],
      "text/plain": [
       "  Request_status  Counts\n",
       "0            200  424056\n",
       "1            302   42630\n",
       "2            400   12577\n",
       "3            304    3889\n",
       "4            ><s     164\n",
       "5            403     160\n",
       "6            404     103\n",
       "7            ./.      52\n",
       "8            <sc      40\n",
       "9            Vul      36"
      ]
     },
     "execution_count": 93,
     "metadata": {},
     "output_type": "execute_result"
    }
   ],
   "source": [
    "request_status_df[:10]"
   ]
  },
  {
   "cell_type": "code",
   "execution_count": 94,
   "id": "1d24072b",
   "metadata": {},
   "outputs": [
    {
     "data": {
      "image/png": "[encoded data removed]",
      "text/plain": [
       "<Figure size 1224x432 with 1 Axes>"
      ]
     },
     "metadata": {
      "needs_background": "light"
     },
     "output_type": "display_data"
    }
   ],
   "source": [
    "plt.figure(figsize = (17,6))\n",
    "ax=sns.barplot(x=request_status_df['Request_status'][:10],y=request_status_df['Counts'][:10])\n",
    "ax.bar_label(ax.containers[0])\n",
    "plt.title('Request Status Count Distribution')\n",
    "plt.xlabel('Request Status')\n",
    "plt.ylabel('Counts Distribution')\n",
    "plt.xticks(rotation = 90);\n",
    "plt.show()"
   ]
  },
  {
   "cell_type": "code",
   "execution_count": 95,
   "id": "b252f9b5",
   "metadata": {},
   "outputs": [],
   "source": [
    "referer_header_df=access_data.groupby('Referer_Header')['Referer_Header'].count().to_frame().rename(columns={'Referer_Header':'Counts'}).reset_index().sort_values(\"Counts\", axis = 0, ascending = False, na_position ='last').reset_index(drop = True)"
   ]
  },
  {
   "cell_type": "code",
   "execution_count": 96,
   "id": "6328859b",
   "metadata": {},
   "outputs": [
    {
     "data": {
      "image/png": "[encoded data removed]",
      "text/plain": [
       "<Figure size 1224x432 with 1 Axes>"
      ]
     },
     "metadata": {
      "needs_background": "light"
     },
     "output_type": "display_data"
    }
   ],
   "source": [
    "plt.figure(figsize = (17,6))\n",
    "ax=sns.barplot(x=referer_header_df['Referer_Header'][:10],y=referer_header_df['Counts'][:10])\n",
    "ax.bar_label(ax.containers[0])\n",
    "plt.title('Referer Header Count Distribution')\n",
    "plt.xlabel('Referer Header')\n",
    "plt.ylabel('Counts Distribution')\n",
    "plt.xticks(rotation = 90);\n",
    "plt.show()"
   ]
  },
  {
   "cell_type": "markdown",
   "id": "dc30d0be",
   "metadata": {},
   "source": [
    "## Identifying Suspicious Activity\n",
    "- Check IP distribution: Identify IPs with the highest access frequency and flag those with abnormal behavior (e.g., too many requests in a short period).\n",
    "\n"
   ]
  },
  {
   "cell_type": "code",
   "execution_count": 97,
   "id": "ed5744bc",
   "metadata": {},
   "outputs": [],
   "source": [
    "access_data.Request_Method=access_data.Request_Method.apply(lambda x: x.upper())"
   ]
  },
  {
   "cell_type": "code",
   "execution_count": 98,
   "id": "bef58c03",
   "metadata": {},
   "outputs": [],
   "source": [
    "request_dict={'GET':'Safe', 'POST':'Safe', 'ANONYMOUS REFERER':'Suspected attack', 'HEAD':'Safe', 'PUT':'Malicious', 'OPTIONS':'Safe', 'DEBUG':'Malicious', 'PROPFIND':'Suspected attack', 'TRACE':'Suspected attack', 'TRACK':'Suspected attack', 'INDEX':'Suspected attack', 'SEARCH':'Suspected attack','<SCRIPT>ALERT(1)</SCRIPT>':'Suspected attack'}"
   ]
  },
  {
   "cell_type": "code",
   "execution_count": 99,
   "id": "adb47a9e",
   "metadata": {},
   "outputs": [],
   "source": [
    "access_data['Security_status']=access_data.Request_Method.map(request_dict)"
   ]
  },
  {
   "cell_type": "code",
   "execution_count": 100,
   "id": "6c42e473",
   "metadata": {},
   "outputs": [
    {
     "data": {
      "text/plain": [
       "array(['Safe', 'Suspected attack', 'Malicious'], dtype=object)"
      ]
     },
     "execution_count": 100,
     "metadata": {},
     "output_type": "execute_result"
    }
   ],
   "source": [
    "access_data.Security_status.unique()"
   ]
  },
  {
   "cell_type": "markdown",
   "id": "87074a56",
   "metadata": {},
   "source": [
    "- Check IP distribution: Identify IPs with the highest access frequency and flag those with abnormal behavior"
   ]
  },
  {
   "cell_type": "code",
   "execution_count": 101,
   "id": "de74ead7",
   "metadata": {},
   "outputs": [],
   "source": [
    "unsafe_stat =['Suspected attack','Malicious']\n",
    "unsafe_access=access_data[access_data.Security_status.isin(unsafe_stat)].reset_index(drop=True)"
   ]
  },
  {
   "cell_type": "code",
   "execution_count": 102,
   "id": "884c45cd",
   "metadata": {},
   "outputs": [],
   "source": [
    "ip_with_unsafe_access=unsafe_access.groupby(['Ip_address','Security_status'])['Ip_address'].count().to_frame().rename(columns={'Ip_address':'Counts'}).reset_index()"
   ]
  },
  {
   "cell_type": "code",
   "execution_count": 103,
   "id": "aea1eab1",
   "metadata": {},
   "outputs": [
    {
     "data": {
      "text/html": [
       "<div>\n",
       "<style scoped>\n",
       "    .dataframe tbody tr th:only-of-type {\n",
       "        vertical-align: middle;\n",
       "    }\n",
       "\n",
       "    .dataframe tbody tr th {\n",
       "        vertical-align: top;\n",
       "    }\n",
       "\n",
       "    .dataframe thead th {\n",
       "        text-align: right;\n",
       "    }\n",
       "</style>\n",
       "<table border=\"1\" class=\"dataframe\">\n",
       "  <thead>\n",
       "    <tr style=\"text-align: right;\">\n",
       "      <th></th>\n",
       "      <th>Ip_address</th>\n",
       "      <th>Security_status</th>\n",
       "      <th>Counts</th>\n",
       "    </tr>\n",
       "  </thead>\n",
       "  <tbody>\n",
       "    <tr>\n",
       "      <th>0</th>\n",
       "      <td>192.168.10.18</td>\n",
       "      <td>Malicious</td>\n",
       "      <td>2</td>\n",
       "    </tr>\n",
       "    <tr>\n",
       "      <th>1</th>\n",
       "      <td>192.168.10.18</td>\n",
       "      <td>Suspected attack</td>\n",
       "      <td>11</td>\n",
       "    </tr>\n",
       "    <tr>\n",
       "      <th>2</th>\n",
       "      <td>192.168.10.185</td>\n",
       "      <td>Malicious</td>\n",
       "      <td>2</td>\n",
       "    </tr>\n",
       "    <tr>\n",
       "      <th>3</th>\n",
       "      <td>192.168.10.185</td>\n",
       "      <td>Suspected attack</td>\n",
       "      <td>10</td>\n",
       "    </tr>\n",
       "    <tr>\n",
       "      <th>4</th>\n",
       "      <td>192.168.10.238</td>\n",
       "      <td>Malicious</td>\n",
       "      <td>2</td>\n",
       "    </tr>\n",
       "    <tr>\n",
       "      <th>5</th>\n",
       "      <td>192.168.10.238</td>\n",
       "      <td>Suspected attack</td>\n",
       "      <td>8</td>\n",
       "    </tr>\n",
       "    <tr>\n",
       "      <th>6</th>\n",
       "      <td>192.168.10.4</td>\n",
       "      <td>Suspected attack</td>\n",
       "      <td>2</td>\n",
       "    </tr>\n",
       "    <tr>\n",
       "      <th>7</th>\n",
       "      <td>192.168.10.81</td>\n",
       "      <td>Malicious</td>\n",
       "      <td>2</td>\n",
       "    </tr>\n",
       "    <tr>\n",
       "      <th>8</th>\n",
       "      <td>192.168.10.81</td>\n",
       "      <td>Suspected attack</td>\n",
       "      <td>8</td>\n",
       "    </tr>\n",
       "  </tbody>\n",
       "</table>\n",
       "</div>"
      ],
      "text/plain": [
       "       Ip_address   Security_status  Counts\n",
       "0   192.168.10.18         Malicious       2\n",
       "1   192.168.10.18  Suspected attack      11\n",
       "2  192.168.10.185         Malicious       2\n",
       "3  192.168.10.185  Suspected attack      10\n",
       "4  192.168.10.238         Malicious       2\n",
       "5  192.168.10.238  Suspected attack       8\n",
       "6    192.168.10.4  Suspected attack       2\n",
       "7   192.168.10.81         Malicious       2\n",
       "8   192.168.10.81  Suspected attack       8"
      ]
     },
     "execution_count": 103,
     "metadata": {},
     "output_type": "execute_result"
    }
   ],
   "source": [
    "ip_with_unsafe_access"
   ]
  },
  {
   "cell_type": "code",
   "execution_count": 104,
   "id": "b5e5e224",
   "metadata": {},
   "outputs": [
    {
     "data": {
      "text/html": [
       "<div>\n",
       "<style scoped>\n",
       "    .dataframe tbody tr th:only-of-type {\n",
       "        vertical-align: middle;\n",
       "    }\n",
       "\n",
       "    .dataframe tbody tr th {\n",
       "        vertical-align: top;\n",
       "    }\n",
       "\n",
       "    .dataframe thead th {\n",
       "        text-align: right;\n",
       "    }\n",
       "</style>\n",
       "<table border=\"1\" class=\"dataframe\">\n",
       "  <thead>\n",
       "    <tr style=\"text-align: right;\">\n",
       "      <th></th>\n",
       "      <th>Ip_address</th>\n",
       "      <th>Date_Time</th>\n",
       "      <th>Method_of_request</th>\n",
       "      <th>Request_Method</th>\n",
       "      <th>Request_status</th>\n",
       "      <th>Referer_Header</th>\n",
       "      <th>User_Header</th>\n",
       "      <th>Security_status</th>\n",
       "    </tr>\n",
       "  </thead>\n",
       "  <tbody>\n",
       "    <tr>\n",
       "      <th>0</th>\n",
       "      <td>192.168.10.4</td>\n",
       "      <td>2020-02-29</td>\n",
       "      <td>-</td>\n",
       "      <td>ANONYMOUS REFERER</td>\n",
       "      <td>408</td>\n",
       "      <td>Anonymous Referer</td>\n",
       "      <td>-</td>\n",
       "      <td>Suspected attack</td>\n",
       "    </tr>\n",
       "    <tr>\n",
       "      <th>1</th>\n",
       "      <td>192.168.10.4</td>\n",
       "      <td>2020-02-29</td>\n",
       "      <td>-</td>\n",
       "      <td>ANONYMOUS REFERER</td>\n",
       "      <td>408</td>\n",
       "      <td>Anonymous Referer</td>\n",
       "      <td>-</td>\n",
       "      <td>Suspected attack</td>\n",
       "    </tr>\n",
       "    <tr>\n",
       "      <th>2</th>\n",
       "      <td>192.168.10.238</td>\n",
       "      <td>2020-03-04</td>\n",
       "      <td>PUT /nikto-test-yAQbJ6Gp.html HTTP/1.1</td>\n",
       "      <td>PUT</td>\n",
       "      <td>400</td>\n",
       "      <td>Anonymous Referer</td>\n",
       "      <td>-</td>\n",
       "      <td>Malicious</td>\n",
       "    </tr>\n",
       "    <tr>\n",
       "      <th>3</th>\n",
       "      <td>192.168.10.238</td>\n",
       "      <td>2020-03-04</td>\n",
       "      <td>DEBUG / HTTP/1.1</td>\n",
       "      <td>DEBUG</td>\n",
       "      <td>400</td>\n",
       "      <td>Anonymous Referer</td>\n",
       "      <td>-</td>\n",
       "      <td>Malicious</td>\n",
       "    </tr>\n",
       "    <tr>\n",
       "      <th>4</th>\n",
       "      <td>192.168.10.238</td>\n",
       "      <td>2020-03-04</td>\n",
       "      <td>PROPFIND / HTTP/1.1</td>\n",
       "      <td>PROPFIND</td>\n",
       "      <td>400</td>\n",
       "      <td>Anonymous Referer</td>\n",
       "      <td>-</td>\n",
       "      <td>Suspected attack</td>\n",
       "    </tr>\n",
       "    <tr>\n",
       "      <th>5</th>\n",
       "      <td>192.168.10.238</td>\n",
       "      <td>2020-03-04</td>\n",
       "      <td>TRACE / HTTP/1.0</td>\n",
       "      <td>TRACE</td>\n",
       "      <td>400</td>\n",
       "      <td>Anonymous Referer</td>\n",
       "      <td>-</td>\n",
       "      <td>Suspected attack</td>\n",
       "    </tr>\n",
       "    <tr>\n",
       "      <th>6</th>\n",
       "      <td>192.168.10.238</td>\n",
       "      <td>2020-03-04</td>\n",
       "      <td>TRACE / HTTP/1.0</td>\n",
       "      <td>TRACE</td>\n",
       "      <td>400</td>\n",
       "      <td>Anonymous Referer</td>\n",
       "      <td>-</td>\n",
       "      <td>Suspected attack</td>\n",
       "    </tr>\n",
       "    <tr>\n",
       "      <th>7</th>\n",
       "      <td>192.168.10.238</td>\n",
       "      <td>2020-03-04</td>\n",
       "      <td>TRACK / HTTP/1.0</td>\n",
       "      <td>TRACK</td>\n",
       "      <td>400</td>\n",
       "      <td>Anonymous Referer</td>\n",
       "      <td>-</td>\n",
       "      <td>Suspected attack</td>\n",
       "    </tr>\n",
       "    <tr>\n",
       "      <th>8</th>\n",
       "      <td>192.168.10.238</td>\n",
       "      <td>2020-03-04</td>\n",
       "      <td>TRACK / HTTP/1.0</td>\n",
       "      <td>TRACK</td>\n",
       "      <td>400</td>\n",
       "      <td>Anonymous Referer</td>\n",
       "      <td>-</td>\n",
       "      <td>Suspected attack</td>\n",
       "    </tr>\n",
       "    <tr>\n",
       "      <th>9</th>\n",
       "      <td>192.168.10.238</td>\n",
       "      <td>2020-03-04</td>\n",
       "      <td>INDEX / HTTP/1.1</td>\n",
       "      <td>INDEX</td>\n",
       "      <td>400</td>\n",
       "      <td>Anonymous Referer</td>\n",
       "      <td>-</td>\n",
       "      <td>Suspected attack</td>\n",
       "    </tr>\n",
       "    <tr>\n",
       "      <th>10</th>\n",
       "      <td>192.168.10.238</td>\n",
       "      <td>2020-03-04</td>\n",
       "      <td>SEARCH / HTTP/1.1</td>\n",
       "      <td>SEARCH</td>\n",
       "      <td>400</td>\n",
       "      <td>Anonymous Referer</td>\n",
       "      <td>-</td>\n",
       "      <td>Suspected attack</td>\n",
       "    </tr>\n",
       "    <tr>\n",
       "      <th>11</th>\n",
       "      <td>192.168.10.238</td>\n",
       "      <td>2020-03-04</td>\n",
       "      <td>&lt;script&gt;alert(1)&lt;/script&gt; / HTTP/1.1</td>\n",
       "      <td>&lt;SCRIPT&gt;ALERT(1)&lt;/SCRIPT&gt;</td>\n",
       "      <td>400</td>\n",
       "      <td>Anonymous Referer</td>\n",
       "      <td>-</td>\n",
       "      <td>Suspected attack</td>\n",
       "    </tr>\n",
       "    <tr>\n",
       "      <th>12</th>\n",
       "      <td>192.168.10.18</td>\n",
       "      <td>2020-02-29</td>\n",
       "      <td>-</td>\n",
       "      <td>ANONYMOUS REFERER</td>\n",
       "      <td>408</td>\n",
       "      <td>Anonymous Referer</td>\n",
       "      <td>-</td>\n",
       "      <td>Suspected attack</td>\n",
       "    </tr>\n",
       "    <tr>\n",
       "      <th>13</th>\n",
       "      <td>192.168.10.18</td>\n",
       "      <td>2020-02-29</td>\n",
       "      <td>-</td>\n",
       "      <td>ANONYMOUS REFERER</td>\n",
       "      <td>408</td>\n",
       "      <td>Anonymous Referer</td>\n",
       "      <td>-</td>\n",
       "      <td>Suspected attack</td>\n",
       "    </tr>\n",
       "    <tr>\n",
       "      <th>14</th>\n",
       "      <td>192.168.10.18</td>\n",
       "      <td>2020-02-29</td>\n",
       "      <td>-</td>\n",
       "      <td>ANONYMOUS REFERER</td>\n",
       "      <td>408</td>\n",
       "      <td>Anonymous Referer</td>\n",
       "      <td>-</td>\n",
       "      <td>Suspected attack</td>\n",
       "    </tr>\n",
       "    <tr>\n",
       "      <th>15</th>\n",
       "      <td>192.168.10.18</td>\n",
       "      <td>2020-03-04</td>\n",
       "      <td>PUT /./nikto-test-ea4UKqHY.html HTTP/1.1</td>\n",
       "      <td>PUT</td>\n",
       "      <td>302</td>\n",
       "      <td>Anonymous Referer</td>\n",
       "      <td>Mozilla/5.00 (Nikto/2.1.5) (Evasions:2) (Test:...</td>\n",
       "      <td>Malicious</td>\n",
       "    </tr>\n",
       "    <tr>\n",
       "      <th>16</th>\n",
       "      <td>192.168.10.18</td>\n",
       "      <td>2020-03-04</td>\n",
       "      <td>DEBUG /./ HTTP/1.1</td>\n",
       "      <td>DEBUG</td>\n",
       "      <td>302</td>\n",
       "      <td>Anonymous Referer</td>\n",
       "      <td>Mozilla/5.00 (Nikto/2.1.5) (Evasions:2) (Test:...</td>\n",
       "      <td>Malicious</td>\n",
       "    </tr>\n",
       "    <tr>\n",
       "      <th>17</th>\n",
       "      <td>192.168.10.18</td>\n",
       "      <td>2020-03-04</td>\n",
       "      <td>PROPFIND /./ HTTP/1.1</td>\n",
       "      <td>PROPFIND</td>\n",
       "      <td>400</td>\n",
       "      <td>Anonymous Referer</td>\n",
       "      <td>Mozilla/5.00 (Nikto/2.1.5) (Evasions:2) (Test:...</td>\n",
       "      <td>Suspected attack</td>\n",
       "    </tr>\n",
       "    <tr>\n",
       "      <th>18</th>\n",
       "      <td>192.168.10.18</td>\n",
       "      <td>2020-03-04</td>\n",
       "      <td>TRACE /./ HTTP/1.0</td>\n",
       "      <td>TRACE</td>\n",
       "      <td>405</td>\n",
       "      <td>Anonymous Referer</td>\n",
       "      <td>Mozilla/5.00 (Nikto/2.1.5) (Evasions:2) (Test:...</td>\n",
       "      <td>Suspected attack</td>\n",
       "    </tr>\n",
       "    <tr>\n",
       "      <th>19</th>\n",
       "      <td>192.168.10.18</td>\n",
       "      <td>2020-03-04</td>\n",
       "      <td>TRACE /./ HTTP/1.0</td>\n",
       "      <td>TRACE</td>\n",
       "      <td>405</td>\n",
       "      <td>Anonymous Referer</td>\n",
       "      <td>Mozilla/5.00 (Nikto/2.1.5) (Evasions:2) (Test:...</td>\n",
       "      <td>Suspected attack</td>\n",
       "    </tr>\n",
       "    <tr>\n",
       "      <th>20</th>\n",
       "      <td>192.168.10.18</td>\n",
       "      <td>2020-03-04</td>\n",
       "      <td>TRACK /./ HTTP/1.0</td>\n",
       "      <td>TRACK</td>\n",
       "      <td>200</td>\n",
       "      <td>Anonymous Referer</td>\n",
       "      <td>Mozilla/5.00 (Nikto/2.1.5) (Evasions:2) (Test:...</td>\n",
       "      <td>Suspected attack</td>\n",
       "    </tr>\n",
       "    <tr>\n",
       "      <th>21</th>\n",
       "      <td>192.168.10.18</td>\n",
       "      <td>2020-03-04</td>\n",
       "      <td>TRACK /./ HTTP/1.0</td>\n",
       "      <td>TRACK</td>\n",
       "      <td>200</td>\n",
       "      <td>Anonymous Referer</td>\n",
       "      <td>Mozilla/5.00 (Nikto/2.1.5) (Evasions:2) (Test:...</td>\n",
       "      <td>Suspected attack</td>\n",
       "    </tr>\n",
       "    <tr>\n",
       "      <th>22</th>\n",
       "      <td>192.168.10.18</td>\n",
       "      <td>2020-03-04</td>\n",
       "      <td>INDEX /./ HTTP/1.1</td>\n",
       "      <td>INDEX</td>\n",
       "      <td>302</td>\n",
       "      <td>Anonymous Referer</td>\n",
       "      <td>Mozilla/5.00 (Nikto/2.1.5) (Evasions:2) (Test:...</td>\n",
       "      <td>Suspected attack</td>\n",
       "    </tr>\n",
       "    <tr>\n",
       "      <th>23</th>\n",
       "      <td>192.168.10.18</td>\n",
       "      <td>2020-03-04</td>\n",
       "      <td>SEARCH /./ HTTP/1.1</td>\n",
       "      <td>SEARCH</td>\n",
       "      <td>302</td>\n",
       "      <td>Anonymous Referer</td>\n",
       "      <td>Mozilla/5.00 (Nikto/2.1.5) (Evasions:2) (Test:...</td>\n",
       "      <td>Suspected attack</td>\n",
       "    </tr>\n",
       "    <tr>\n",
       "      <th>24</th>\n",
       "      <td>192.168.10.18</td>\n",
       "      <td>2020-03-04</td>\n",
       "      <td>&lt;script&gt;alert(1)&lt;/script&gt; /./ HTTP/1.1</td>\n",
       "      <td>&lt;SCRIPT&gt;ALERT(1)&lt;/SCRIPT&gt;</td>\n",
       "      <td>400</td>\n",
       "      <td>Anonymous Referer</td>\n",
       "      <td>-</td>\n",
       "      <td>Suspected attack</td>\n",
       "    </tr>\n",
       "    <tr>\n",
       "      <th>25</th>\n",
       "      <td>192.168.10.185</td>\n",
       "      <td>2020-03-01</td>\n",
       "      <td>-</td>\n",
       "      <td>ANONYMOUS REFERER</td>\n",
       "      <td>408</td>\n",
       "      <td>Anonymous Referer</td>\n",
       "      <td>-</td>\n",
       "      <td>Suspected attack</td>\n",
       "    </tr>\n",
       "    <tr>\n",
       "      <th>26</th>\n",
       "      <td>192.168.10.185</td>\n",
       "      <td>2020-03-04</td>\n",
       "      <td>PUT /nikto-test-RnOtenLA.html HTTP/1.1</td>\n",
       "      <td>PUT</td>\n",
       "      <td>400</td>\n",
       "      <td>Anonymous Referer</td>\n",
       "      <td>-</td>\n",
       "      <td>Malicious</td>\n",
       "    </tr>\n",
       "    <tr>\n",
       "      <th>27</th>\n",
       "      <td>192.168.10.185</td>\n",
       "      <td>2020-03-04</td>\n",
       "      <td>DEBUG / HTTP/1.1</td>\n",
       "      <td>DEBUG</td>\n",
       "      <td>400</td>\n",
       "      <td>Anonymous Referer</td>\n",
       "      <td>-</td>\n",
       "      <td>Malicious</td>\n",
       "    </tr>\n",
       "    <tr>\n",
       "      <th>28</th>\n",
       "      <td>192.168.10.185</td>\n",
       "      <td>2020-03-04</td>\n",
       "      <td>PROPFIND / HTTP/1.1</td>\n",
       "      <td>PROPFIND</td>\n",
       "      <td>400</td>\n",
       "      <td>Anonymous Referer</td>\n",
       "      <td>-</td>\n",
       "      <td>Suspected attack</td>\n",
       "    </tr>\n",
       "    <tr>\n",
       "      <th>29</th>\n",
       "      <td>192.168.10.185</td>\n",
       "      <td>2020-03-04</td>\n",
       "      <td>TRACE / HTTP/1.0</td>\n",
       "      <td>TRACE</td>\n",
       "      <td>400</td>\n",
       "      <td>Anonymous Referer</td>\n",
       "      <td>-</td>\n",
       "      <td>Suspected attack</td>\n",
       "    </tr>\n",
       "    <tr>\n",
       "      <th>30</th>\n",
       "      <td>192.168.10.185</td>\n",
       "      <td>2020-03-04</td>\n",
       "      <td>TRACE / HTTP/1.0</td>\n",
       "      <td>TRACE</td>\n",
       "      <td>400</td>\n",
       "      <td>Anonymous Referer</td>\n",
       "      <td>-</td>\n",
       "      <td>Suspected attack</td>\n",
       "    </tr>\n",
       "    <tr>\n",
       "      <th>31</th>\n",
       "      <td>192.168.10.185</td>\n",
       "      <td>2020-03-04</td>\n",
       "      <td>TRACK / HTTP/1.0</td>\n",
       "      <td>TRACK</td>\n",
       "      <td>400</td>\n",
       "      <td>Anonymous Referer</td>\n",
       "      <td>-</td>\n",
       "      <td>Suspected attack</td>\n",
       "    </tr>\n",
       "    <tr>\n",
       "      <th>32</th>\n",
       "      <td>192.168.10.185</td>\n",
       "      <td>2020-03-04</td>\n",
       "      <td>TRACK / HTTP/1.0</td>\n",
       "      <td>TRACK</td>\n",
       "      <td>400</td>\n",
       "      <td>Anonymous Referer</td>\n",
       "      <td>-</td>\n",
       "      <td>Suspected attack</td>\n",
       "    </tr>\n",
       "    <tr>\n",
       "      <th>33</th>\n",
       "      <td>192.168.10.185</td>\n",
       "      <td>2020-03-04</td>\n",
       "      <td>INDEX / HTTP/1.1</td>\n",
       "      <td>INDEX</td>\n",
       "      <td>400</td>\n",
       "      <td>Anonymous Referer</td>\n",
       "      <td>-</td>\n",
       "      <td>Suspected attack</td>\n",
       "    </tr>\n",
       "    <tr>\n",
       "      <th>34</th>\n",
       "      <td>192.168.10.185</td>\n",
       "      <td>2020-03-04</td>\n",
       "      <td>SEARCH / HTTP/1.1</td>\n",
       "      <td>SEARCH</td>\n",
       "      <td>400</td>\n",
       "      <td>Anonymous Referer</td>\n",
       "      <td>-</td>\n",
       "      <td>Suspected attack</td>\n",
       "    </tr>\n",
       "    <tr>\n",
       "      <th>35</th>\n",
       "      <td>192.168.10.185</td>\n",
       "      <td>2020-03-04</td>\n",
       "      <td>&lt;script&gt;alert(1)&lt;/script&gt; / HTTP/1.1</td>\n",
       "      <td>&lt;SCRIPT&gt;ALERT(1)&lt;/SCRIPT&gt;</td>\n",
       "      <td>400</td>\n",
       "      <td>Anonymous Referer</td>\n",
       "      <td>-</td>\n",
       "      <td>Suspected attack</td>\n",
       "    </tr>\n",
       "    <tr>\n",
       "      <th>36</th>\n",
       "      <td>192.168.10.185</td>\n",
       "      <td>2020-03-05</td>\n",
       "      <td>-</td>\n",
       "      <td>ANONYMOUS REFERER</td>\n",
       "      <td>408</td>\n",
       "      <td>Anonymous Referer</td>\n",
       "      <td>-</td>\n",
       "      <td>Suspected attack</td>\n",
       "    </tr>\n",
       "    <tr>\n",
       "      <th>37</th>\n",
       "      <td>192.168.10.81</td>\n",
       "      <td>2020-03-04</td>\n",
       "      <td>PUT /nikto-test-oYZkrRR9.html HTTP/1.1</td>\n",
       "      <td>PUT</td>\n",
       "      <td>302</td>\n",
       "      <td>Anonymous Referer</td>\n",
       "      <td>Mozilla/5.00 (Nikto/2.1.5) (Evasions:None) (Te...</td>\n",
       "      <td>Malicious</td>\n",
       "    </tr>\n",
       "    <tr>\n",
       "      <th>38</th>\n",
       "      <td>192.168.10.81</td>\n",
       "      <td>2020-03-04</td>\n",
       "      <td>DEBUG / HTTP/1.1</td>\n",
       "      <td>DEBUG</td>\n",
       "      <td>302</td>\n",
       "      <td>Anonymous Referer</td>\n",
       "      <td>Mozilla/5.00 (Nikto/2.1.5) (Evasions:None) (Te...</td>\n",
       "      <td>Malicious</td>\n",
       "    </tr>\n",
       "    <tr>\n",
       "      <th>39</th>\n",
       "      <td>192.168.10.81</td>\n",
       "      <td>2020-03-04</td>\n",
       "      <td>PROPFIND / HTTP/1.1</td>\n",
       "      <td>PROPFIND</td>\n",
       "      <td>400</td>\n",
       "      <td>Anonymous Referer</td>\n",
       "      <td>Mozilla/5.00 (Nikto/2.1.5) (Evasions:None) (Te...</td>\n",
       "      <td>Suspected attack</td>\n",
       "    </tr>\n",
       "    <tr>\n",
       "      <th>40</th>\n",
       "      <td>192.168.10.81</td>\n",
       "      <td>2020-03-04</td>\n",
       "      <td>TRACE / HTTP/1.0</td>\n",
       "      <td>TRACE</td>\n",
       "      <td>405</td>\n",
       "      <td>Anonymous Referer</td>\n",
       "      <td>Mozilla/5.00 (Nikto/2.1.5) (Evasions:None) (Te...</td>\n",
       "      <td>Suspected attack</td>\n",
       "    </tr>\n",
       "    <tr>\n",
       "      <th>41</th>\n",
       "      <td>192.168.10.81</td>\n",
       "      <td>2020-03-04</td>\n",
       "      <td>TRACE / HTTP/1.0</td>\n",
       "      <td>TRACE</td>\n",
       "      <td>405</td>\n",
       "      <td>Anonymous Referer</td>\n",
       "      <td>Mozilla/5.00 (Nikto/2.1.5) (Evasions:None) (Te...</td>\n",
       "      <td>Suspected attack</td>\n",
       "    </tr>\n",
       "    <tr>\n",
       "      <th>42</th>\n",
       "      <td>192.168.10.81</td>\n",
       "      <td>2020-03-04</td>\n",
       "      <td>TRACK / HTTP/1.0</td>\n",
       "      <td>TRACK</td>\n",
       "      <td>200</td>\n",
       "      <td>Anonymous Referer</td>\n",
       "      <td>Mozilla/5.00 (Nikto/2.1.5) (Evasions:None) (Te...</td>\n",
       "      <td>Suspected attack</td>\n",
       "    </tr>\n",
       "    <tr>\n",
       "      <th>43</th>\n",
       "      <td>192.168.10.81</td>\n",
       "      <td>2020-03-04</td>\n",
       "      <td>TRACK / HTTP/1.0</td>\n",
       "      <td>TRACK</td>\n",
       "      <td>200</td>\n",
       "      <td>Anonymous Referer</td>\n",
       "      <td>Mozilla/5.00 (Nikto/2.1.5) (Evasions:None) (Te...</td>\n",
       "      <td>Suspected attack</td>\n",
       "    </tr>\n",
       "    <tr>\n",
       "      <th>44</th>\n",
       "      <td>192.168.10.81</td>\n",
       "      <td>2020-03-04</td>\n",
       "      <td>INDEX / HTTP/1.1</td>\n",
       "      <td>INDEX</td>\n",
       "      <td>302</td>\n",
       "      <td>Anonymous Referer</td>\n",
       "      <td>Mozilla/5.00 (Nikto/2.1.5) (Evasions:None) (Te...</td>\n",
       "      <td>Suspected attack</td>\n",
       "    </tr>\n",
       "    <tr>\n",
       "      <th>45</th>\n",
       "      <td>192.168.10.81</td>\n",
       "      <td>2020-03-04</td>\n",
       "      <td>SEARCH / HTTP/1.1</td>\n",
       "      <td>SEARCH</td>\n",
       "      <td>302</td>\n",
       "      <td>Anonymous Referer</td>\n",
       "      <td>Mozilla/5.00 (Nikto/2.1.5) (Evasions:None) (Te...</td>\n",
       "      <td>Suspected attack</td>\n",
       "    </tr>\n",
       "    <tr>\n",
       "      <th>46</th>\n",
       "      <td>192.168.10.81</td>\n",
       "      <td>2020-03-04</td>\n",
       "      <td>&lt;script&gt;alert(1)&lt;/script&gt; / HTTP/1.1</td>\n",
       "      <td>&lt;SCRIPT&gt;ALERT(1)&lt;/SCRIPT&gt;</td>\n",
       "      <td>400</td>\n",
       "      <td>Anonymous Referer</td>\n",
       "      <td>-</td>\n",
       "      <td>Suspected attack</td>\n",
       "    </tr>\n",
       "  </tbody>\n",
       "</table>\n",
       "</div>"
      ],
      "text/plain": [
       "        Ip_address  Date_Time                         Method_of_request  \\\n",
       "0     192.168.10.4 2020-02-29                                         -   \n",
       "1     192.168.10.4 2020-02-29                                         -   \n",
       "2   192.168.10.238 2020-03-04    PUT /nikto-test-yAQbJ6Gp.html HTTP/1.1   \n",
       "3   192.168.10.238 2020-03-04                          DEBUG / HTTP/1.1   \n",
       "4   192.168.10.238 2020-03-04                       PROPFIND / HTTP/1.1   \n",
       "5   192.168.10.238 2020-03-04                          TRACE / HTTP/1.0   \n",
       "6   192.168.10.238 2020-03-04                          TRACE / HTTP/1.0   \n",
       "7   192.168.10.238 2020-03-04                          TRACK / HTTP/1.0   \n",
       "8   192.168.10.238 2020-03-04                          TRACK / HTTP/1.0   \n",
       "9   192.168.10.238 2020-03-04                          INDEX / HTTP/1.1   \n",
       "10  192.168.10.238 2020-03-04                         SEARCH / HTTP/1.1   \n",
       "11  192.168.10.238 2020-03-04      <script>alert(1)</script> / HTTP/1.1   \n",
       "12   192.168.10.18 2020-02-29                                         -   \n",
       "13   192.168.10.18 2020-02-29                                         -   \n",
       "14   192.168.10.18 2020-02-29                                         -   \n",
       "15   192.168.10.18 2020-03-04  PUT /./nikto-test-ea4UKqHY.html HTTP/1.1   \n",
       "16   192.168.10.18 2020-03-04                        DEBUG /./ HTTP/1.1   \n",
       "17   192.168.10.18 2020-03-04                     PROPFIND /./ HTTP/1.1   \n",
       "18   192.168.10.18 2020-03-04                        TRACE /./ HTTP/1.0   \n",
       "19   192.168.10.18 2020-03-04                        TRACE /./ HTTP/1.0   \n",
       "20   192.168.10.18 2020-03-04                        TRACK /./ HTTP/1.0   \n",
       "21   192.168.10.18 2020-03-04                        TRACK /./ HTTP/1.0   \n",
       "22   192.168.10.18 2020-03-04                        INDEX /./ HTTP/1.1   \n",
       "23   192.168.10.18 2020-03-04                       SEARCH /./ HTTP/1.1   \n",
       "24   192.168.10.18 2020-03-04    <script>alert(1)</script> /./ HTTP/1.1   \n",
       "25  192.168.10.185 2020-03-01                                         -   \n",
       "26  192.168.10.185 2020-03-04    PUT /nikto-test-RnOtenLA.html HTTP/1.1   \n",
       "27  192.168.10.185 2020-03-04                          DEBUG / HTTP/1.1   \n",
       "28  192.168.10.185 2020-03-04                       PROPFIND / HTTP/1.1   \n",
       "29  192.168.10.185 2020-03-04                          TRACE / HTTP/1.0   \n",
       "30  192.168.10.185 2020-03-04                          TRACE / HTTP/1.0   \n",
       "31  192.168.10.185 2020-03-04                          TRACK / HTTP/1.0   \n",
       "32  192.168.10.185 2020-03-04                          TRACK / HTTP/1.0   \n",
       "33  192.168.10.185 2020-03-04                          INDEX / HTTP/1.1   \n",
       "34  192.168.10.185 2020-03-04                         SEARCH / HTTP/1.1   \n",
       "35  192.168.10.185 2020-03-04      <script>alert(1)</script> / HTTP/1.1   \n",
       "36  192.168.10.185 2020-03-05                                         -   \n",
       "37   192.168.10.81 2020-03-04    PUT /nikto-test-oYZkrRR9.html HTTP/1.1   \n",
       "38   192.168.10.81 2020-03-04                          DEBUG / HTTP/1.1   \n",
       "39   192.168.10.81 2020-03-04                       PROPFIND / HTTP/1.1   \n",
       "40   192.168.10.81 2020-03-04                          TRACE / HTTP/1.0   \n",
       "41   192.168.10.81 2020-03-04                          TRACE / HTTP/1.0   \n",
       "42   192.168.10.81 2020-03-04                          TRACK / HTTP/1.0   \n",
       "43   192.168.10.81 2020-03-04                          TRACK / HTTP/1.0   \n",
       "44   192.168.10.81 2020-03-04                          INDEX / HTTP/1.1   \n",
       "45   192.168.10.81 2020-03-04                         SEARCH / HTTP/1.1   \n",
       "46   192.168.10.81 2020-03-04      <script>alert(1)</script> / HTTP/1.1   \n",
       "\n",
       "               Request_Method Request_status     Referer_Header  \\\n",
       "0           ANONYMOUS REFERER            408  Anonymous Referer   \n",
       "1           ANONYMOUS REFERER            408  Anonymous Referer   \n",
       "2                         PUT            400  Anonymous Referer   \n",
       "3                       DEBUG            400  Anonymous Referer   \n",
       "4                    PROPFIND            400  Anonymous Referer   \n",
       "5                       TRACE            400  Anonymous Referer   \n",
       "6                       TRACE            400  Anonymous Referer   \n",
       "7                       TRACK            400  Anonymous Referer   \n",
       "8                       TRACK            400  Anonymous Referer   \n",
       "9                       INDEX            400  Anonymous Referer   \n",
       "10                     SEARCH            400  Anonymous Referer   \n",
       "11  <SCRIPT>ALERT(1)</SCRIPT>            400  Anonymous Referer   \n",
       "12          ANONYMOUS REFERER            408  Anonymous Referer   \n",
       "13          ANONYMOUS REFERER            408  Anonymous Referer   \n",
       "14          ANONYMOUS REFERER            408  Anonymous Referer   \n",
       "15                        PUT            302  Anonymous Referer   \n",
       "16                      DEBUG            302  Anonymous Referer   \n",
       "17                   PROPFIND            400  Anonymous Referer   \n",
       "18                      TRACE            405  Anonymous Referer   \n",
       "19                      TRACE            405  Anonymous Referer   \n",
       "20                      TRACK            200  Anonymous Referer   \n",
       "21                      TRACK            200  Anonymous Referer   \n",
       "22                      INDEX            302  Anonymous Referer   \n",
       "23                     SEARCH            302  Anonymous Referer   \n",
       "24  <SCRIPT>ALERT(1)</SCRIPT>            400  Anonymous Referer   \n",
       "25          ANONYMOUS REFERER            408  Anonymous Referer   \n",
       "26                        PUT            400  Anonymous Referer   \n",
       "27                      DEBUG            400  Anonymous Referer   \n",
       "28                   PROPFIND            400  Anonymous Referer   \n",
       "29                      TRACE            400  Anonymous Referer   \n",
       "30                      TRACE            400  Anonymous Referer   \n",
       "31                      TRACK            400  Anonymous Referer   \n",
       "32                      TRACK            400  Anonymous Referer   \n",
       "33                      INDEX            400  Anonymous Referer   \n",
       "34                     SEARCH            400  Anonymous Referer   \n",
       "35  <SCRIPT>ALERT(1)</SCRIPT>            400  Anonymous Referer   \n",
       "36          ANONYMOUS REFERER            408  Anonymous Referer   \n",
       "37                        PUT            302  Anonymous Referer   \n",
       "38                      DEBUG            302  Anonymous Referer   \n",
       "39                   PROPFIND            400  Anonymous Referer   \n",
       "40                      TRACE            405  Anonymous Referer   \n",
       "41                      TRACE            405  Anonymous Referer   \n",
       "42                      TRACK            200  Anonymous Referer   \n",
       "43                      TRACK            200  Anonymous Referer   \n",
       "44                      INDEX            302  Anonymous Referer   \n",
       "45                     SEARCH            302  Anonymous Referer   \n",
       "46  <SCRIPT>ALERT(1)</SCRIPT>            400  Anonymous Referer   \n",
       "\n",
       "                                          User_Header   Security_status  \n",
       "0                                                   -  Suspected attack  \n",
       "1                                                   -  Suspected attack  \n",
       "2                                                   -         Malicious  \n",
       "3                                                   -         Malicious  \n",
       "4                                                   -  Suspected attack  \n",
       "5                                                   -  Suspected attack  \n",
       "6                                                   -  Suspected attack  \n",
       "7                                                   -  Suspected attack  \n",
       "8                                                   -  Suspected attack  \n",
       "9                                                   -  Suspected attack  \n",
       "10                                                  -  Suspected attack  \n",
       "11                                                  -  Suspected attack  \n",
       "12                                                  -  Suspected attack  \n",
       "13                                                  -  Suspected attack  \n",
       "14                                                  -  Suspected attack  \n",
       "15  Mozilla/5.00 (Nikto/2.1.5) (Evasions:2) (Test:...         Malicious  \n",
       "16  Mozilla/5.00 (Nikto/2.1.5) (Evasions:2) (Test:...         Malicious  \n",
       "17  Mozilla/5.00 (Nikto/2.1.5) (Evasions:2) (Test:...  Suspected attack  \n",
       "18  Mozilla/5.00 (Nikto/2.1.5) (Evasions:2) (Test:...  Suspected attack  \n",
       "19  Mozilla/5.00 (Nikto/2.1.5) (Evasions:2) (Test:...  Suspected attack  \n",
       "20  Mozilla/5.00 (Nikto/2.1.5) (Evasions:2) (Test:...  Suspected attack  \n",
       "21  Mozilla/5.00 (Nikto/2.1.5) (Evasions:2) (Test:...  Suspected attack  \n",
       "22  Mozilla/5.00 (Nikto/2.1.5) (Evasions:2) (Test:...  Suspected attack  \n",
       "23  Mozilla/5.00 (Nikto/2.1.5) (Evasions:2) (Test:...  Suspected attack  \n",
       "24                                                  -  Suspected attack  \n",
       "25                                                  -  Suspected attack  \n",
       "26                                                  -         Malicious  \n",
       "27                                                  -         Malicious  \n",
       "28                                                  -  Suspected attack  \n",
       "29                                                  -  Suspected attack  \n",
       "30                                                  -  Suspected attack  \n",
       "31                                                  -  Suspected attack  \n",
       "32                                                  -  Suspected attack  \n",
       "33                                                  -  Suspected attack  \n",
       "34                                                  -  Suspected attack  \n",
       "35                                                  -  Suspected attack  \n",
       "36                                                  -  Suspected attack  \n",
       "37  Mozilla/5.00 (Nikto/2.1.5) (Evasions:None) (Te...         Malicious  \n",
       "38  Mozilla/5.00 (Nikto/2.1.5) (Evasions:None) (Te...         Malicious  \n",
       "39  Mozilla/5.00 (Nikto/2.1.5) (Evasions:None) (Te...  Suspected attack  \n",
       "40  Mozilla/5.00 (Nikto/2.1.5) (Evasions:None) (Te...  Suspected attack  \n",
       "41  Mozilla/5.00 (Nikto/2.1.5) (Evasions:None) (Te...  Suspected attack  \n",
       "42  Mozilla/5.00 (Nikto/2.1.5) (Evasions:None) (Te...  Suspected attack  \n",
       "43  Mozilla/5.00 (Nikto/2.1.5) (Evasions:None) (Te...  Suspected attack  \n",
       "44  Mozilla/5.00 (Nikto/2.1.5) (Evasions:None) (Te...  Suspected attack  \n",
       "45  Mozilla/5.00 (Nikto/2.1.5) (Evasions:None) (Te...  Suspected attack  \n",
       "46                                                  -  Suspected attack  "
      ]
     },
     "execution_count": 104,
     "metadata": {},
     "output_type": "execute_result"
    }
   ],
   "source": [
    "unsafe_access"
   ]
  },
  {
   "cell_type": "code",
   "execution_count": 105,
   "id": "0e5e4e23",
   "metadata": {},
   "outputs": [
    {
     "data": {
      "image/png": "[encoded data removed]",
      "text/plain": [
       "<Figure size 1224x432 with 1 Axes>"
      ]
     },
     "metadata": {
      "needs_background": "light"
     },
     "output_type": "display_data"
    }
   ],
   "source": [
    "plt.figure(figsize = (17,6))\n",
    "ax=sns.countplot(x=unsafe_access['Ip_address'], hue=unsafe_access['Security_status'])\n",
    "ax.bar_label(ax.containers[0])\n",
    "ax.bar_label(ax.containers[1])\n",
    "plt.title('Unsafe access Count Distribution')\n",
    "plt.xlabel('Ip Address')\n",
    "plt.ylabel('Counts Distribution')\n",
    "plt.xticks(rotation = 90);\n",
    "plt.show()"
   ]
  },
  {
   "cell_type": "code",
   "execution_count": null,
   "id": "af0ada3e",
   "metadata": {},
   "outputs": [],
   "source": []
  },
  {
   "cell_type": "code",
   "execution_count": 106,
   "id": "a2d3a9ec",
   "metadata": {},
   "outputs": [],
   "source": [
    "valid_request=['200', '302', '408', '304', '400', '417', '405', '404','403','301']"
   ]
  },
  {
   "cell_type": "code",
   "execution_count": 107,
   "id": "469d3024",
   "metadata": {},
   "outputs": [],
   "source": [
    "valid_req_dict = {'200':'Successful', '302':'Found', '408':'Request Timeout:', '304':' Not Modified', '400':'Bad Request', '417':'Expectation Failed', '405':'Method Not Allowed', '404':'Not Found', '403':'Forbidden', '301':'Moved Permanently'}"
   ]
  },
  {
   "cell_type": "code",
   "execution_count": 108,
   "id": "a59bc902",
   "metadata": {},
   "outputs": [
    {
     "data": {
      "text/plain": [
       "'Successful'"
      ]
     },
     "execution_count": 108,
     "metadata": {},
     "output_type": "execute_result"
    }
   ],
   "source": [
    "valid_req_dict.get('200')"
   ]
  },
  {
   "cell_type": "code",
   "execution_count": 109,
   "id": "ab25dff5",
   "metadata": {},
   "outputs": [],
   "source": [
    "access_data['Class_of_Request_status']=access_data.Request_status.apply(lambda x: valid_req_dict.get(x) if x in valid_request else 'Suspicious Request' )"
   ]
  },
  {
   "cell_type": "code",
   "execution_count": 110,
   "id": "a7f96ebf",
   "metadata": {},
   "outputs": [
    {
     "data": {
      "text/plain": [
       "array(['Successful', 'Found', 'Request Timeout:', ' Not Modified',\n",
       "       'Bad Request', 'Suspicious Request', 'Expectation Failed',\n",
       "       'Method Not Allowed', 'Not Found', 'Forbidden',\n",
       "       'Moved Permanently'], dtype=object)"
      ]
     },
     "execution_count": 110,
     "metadata": {},
     "output_type": "execute_result"
    }
   ],
   "source": [
    "access_data.Class_of_Request_status.unique()"
   ]
  },
  {
   "cell_type": "code",
   "execution_count": 111,
   "id": "e3e3563d",
   "metadata": {},
   "outputs": [
    {
     "data": {
      "image/png": "[encoded data removed]",
      "text/plain": [
       "<Figure size 1224x432 with 1 Axes>"
      ]
     },
     "metadata": {
      "needs_background": "light"
     },
     "output_type": "display_data"
    }
   ],
   "source": [
    "plt.figure(figsize = (17,6))\n",
    "ax=sns.countplot(x=access_data['Class_of_Request_status'], order=access_data[\"Class_of_Request_status\"].value_counts().index)\n",
    "ax.bar_label(ax.containers[0])\n",
    "#ax.bar_label(ax.containers[1])\n",
    "plt.title(' Class of Request Status Code Count Distribution')\n",
    "plt.xlabel('Class of Status Code')\n",
    "plt.ylabel('Counts Distribution')\n",
    "plt.xticks(rotation = 90);\n",
    "plt.show()"
   ]
  },
  {
   "cell_type": "code",
   "execution_count": 112,
   "id": "fc7f5175",
   "metadata": {},
   "outputs": [
    {
     "data": {
      "image/png": "[encoded data removed]",
      "text/plain": [
       "<Figure size 1224x432 with 1 Axes>"
      ]
     },
     "metadata": {
      "needs_background": "light"
     },
     "output_type": "display_data"
    }
   ],
   "source": [
    "plt.figure(figsize = (17,6))\n",
    "ax=sns.countplot(x=access_data['Ip_address'], hue=access_data['Class_of_Request_status'])\n",
    "ax.bar_label(ax.containers[0])\n",
    "ax.bar_label(ax.containers[1])\n",
    "plt.title('Class of Request Status Code Count Distribution across IP Address')\n",
    "plt.xlabel('Ip Address')\n",
    "plt.ylabel('Counts Distribution')\n",
    "plt.xticks(rotation = 90);\n",
    "plt.show()"
   ]
  },
  {
   "cell_type": "markdown",
   "id": "9ab19c09",
   "metadata": {},
   "source": [
    "# Error data eda"
   ]
  },
  {
   "cell_type": "code",
   "execution_count": 113,
   "id": "ffdf8bc9",
   "metadata": {},
   "outputs": [
    {
     "data": {
      "text/html": [
       "<div>\n",
       "<style scoped>\n",
       "    .dataframe tbody tr th:only-of-type {\n",
       "        vertical-align: middle;\n",
       "    }\n",
       "\n",
       "    .dataframe tbody tr th {\n",
       "        vertical-align: top;\n",
       "    }\n",
       "\n",
       "    .dataframe thead th {\n",
       "        text-align: right;\n",
       "    }\n",
       "</style>\n",
       "<table border=\"1\" class=\"dataframe\">\n",
       "  <thead>\n",
       "    <tr style=\"text-align: right;\">\n",
       "      <th></th>\n",
       "      <th>Ip_address</th>\n",
       "      <th>Date_Time</th>\n",
       "      <th>PID</th>\n",
       "      <th>Referer_Header</th>\n",
       "    </tr>\n",
       "  </thead>\n",
       "  <tbody>\n",
       "    <tr>\n",
       "      <th>0</th>\n",
       "      <td>192.168.10.4</td>\n",
       "      <td>Sun Mar 01</td>\n",
       "      <td>32548</td>\n",
       "      <td>http://mail.cup.com/nag/\\n</td>\n",
       "    </tr>\n",
       "    <tr>\n",
       "      <th>1</th>\n",
       "      <td>192.168.10.4</td>\n",
       "      <td>Sun Mar 01</td>\n",
       "      <td>32548</td>\n",
       "      <td>http://mail.cup.com/nag/\\n</td>\n",
       "    </tr>\n",
       "    <tr>\n",
       "      <th>2</th>\n",
       "      <td>192.168.10.4</td>\n",
       "      <td>Sun Mar 01</td>\n",
       "      <td>32548</td>\n",
       "      <td>http://mail.cup.com/nag/\\n</td>\n",
       "    </tr>\n",
       "    <tr>\n",
       "      <th>3</th>\n",
       "      <td>192.168.10.4</td>\n",
       "      <td>Sun Mar 01</td>\n",
       "      <td>32548</td>\n",
       "      <td>http://mail.cup.com/nag/\\n</td>\n",
       "    </tr>\n",
       "    <tr>\n",
       "      <th>4</th>\n",
       "      <td>192.168.10.4</td>\n",
       "      <td>Sun Mar 01</td>\n",
       "      <td>32548</td>\n",
       "      <td>http://mail.cup.com/nag/\\n</td>\n",
       "    </tr>\n",
       "  </tbody>\n",
       "</table>\n",
       "</div>"
      ],
      "text/plain": [
       "     Ip_address     Date_Time     PID              Referer_Header\n",
       "0  192.168.10.4   Sun Mar 01   32548   http://mail.cup.com/nag/\\n\n",
       "1  192.168.10.4   Sun Mar 01   32548   http://mail.cup.com/nag/\\n\n",
       "2  192.168.10.4   Sun Mar 01   32548   http://mail.cup.com/nag/\\n\n",
       "3  192.168.10.4   Sun Mar 01   32548   http://mail.cup.com/nag/\\n\n",
       "4  192.168.10.4   Sun Mar 01   32548   http://mail.cup.com/nag/\\n"
      ]
     },
     "execution_count": 113,
     "metadata": {},
     "output_type": "execute_result"
    }
   ],
   "source": [
    "error_log_data.head()"
   ]
  },
  {
   "cell_type": "code",
   "execution_count": 114,
   "id": "8cc88734",
   "metadata": {},
   "outputs": [],
   "source": [
    "unique_IP_distribution_for_error_data = error_log_data.groupby('Ip_address')['Ip_address'].count().to_frame().rename(columns={'Ip_address':'Counts'}).reset_index()"
   ]
  },
  {
   "cell_type": "code",
   "execution_count": 115,
   "id": "c4fd3330",
   "metadata": {},
   "outputs": [
    {
     "data": {
      "text/html": [
       "<div>\n",
       "<style scoped>\n",
       "    .dataframe tbody tr th:only-of-type {\n",
       "        vertical-align: middle;\n",
       "    }\n",
       "\n",
       "    .dataframe tbody tr th {\n",
       "        vertical-align: top;\n",
       "    }\n",
       "\n",
       "    .dataframe thead th {\n",
       "        text-align: right;\n",
       "    }\n",
       "</style>\n",
       "<table border=\"1\" class=\"dataframe\">\n",
       "  <thead>\n",
       "    <tr style=\"text-align: right;\">\n",
       "      <th></th>\n",
       "      <th>Ip_address</th>\n",
       "      <th>Counts</th>\n",
       "    </tr>\n",
       "  </thead>\n",
       "  <tbody>\n",
       "    <tr>\n",
       "      <th>0</th>\n",
       "      <td>192.168.10.130</td>\n",
       "      <td>72</td>\n",
       "    </tr>\n",
       "    <tr>\n",
       "      <th>1</th>\n",
       "      <td>192.168.10.161</td>\n",
       "      <td>18</td>\n",
       "    </tr>\n",
       "    <tr>\n",
       "      <th>2</th>\n",
       "      <td>192.168.10.18</td>\n",
       "      <td>209</td>\n",
       "    </tr>\n",
       "    <tr>\n",
       "      <th>3</th>\n",
       "      <td>192.168.10.185</td>\n",
       "      <td>74</td>\n",
       "    </tr>\n",
       "    <tr>\n",
       "      <th>4</th>\n",
       "      <td>192.168.10.190</td>\n",
       "      <td>54</td>\n",
       "    </tr>\n",
       "    <tr>\n",
       "      <th>5</th>\n",
       "      <td>192.168.10.238</td>\n",
       "      <td>20</td>\n",
       "    </tr>\n",
       "    <tr>\n",
       "      <th>6</th>\n",
       "      <td>192.168.10.4</td>\n",
       "      <td>18</td>\n",
       "    </tr>\n",
       "    <tr>\n",
       "      <th>7</th>\n",
       "      <td>192.168.10.81</td>\n",
       "      <td>158</td>\n",
       "    </tr>\n",
       "    <tr>\n",
       "      <th>8</th>\n",
       "      <td>192.168.10.98</td>\n",
       "      <td>18</td>\n",
       "    </tr>\n",
       "  </tbody>\n",
       "</table>\n",
       "</div>"
      ],
      "text/plain": [
       "       Ip_address  Counts\n",
       "0  192.168.10.130      72\n",
       "1  192.168.10.161      18\n",
       "2   192.168.10.18     209\n",
       "3  192.168.10.185      74\n",
       "4  192.168.10.190      54\n",
       "5  192.168.10.238      20\n",
       "6    192.168.10.4      18\n",
       "7   192.168.10.81     158\n",
       "8   192.168.10.98      18"
      ]
     },
     "execution_count": 115,
     "metadata": {},
     "output_type": "execute_result"
    }
   ],
   "source": [
    "unique_IP_distribution_for_error_data"
   ]
  },
  {
   "cell_type": "code",
   "execution_count": 116,
   "id": "c365a4db",
   "metadata": {},
   "outputs": [
    {
     "data": {
      "image/png": "[encoded data removed]",
      "text/plain": [
       "<Figure size 1224x432 with 1 Axes>"
      ]
     },
     "metadata": {
      "needs_background": "light"
     },
     "output_type": "display_data"
    }
   ],
   "source": [
    "plt.figure(figsize = (17,6))\n",
    "ax=sns.countplot(x=error_log_data['Ip_address'],  order=error_log_data[\"Ip_address\"].value_counts().index)\n",
    "ax.bar_label(ax.containers[0])\n",
    "#ax.bar_label(ax.containers[1])\n",
    "plt.title('Error access Count Distribution')\n",
    "plt.xlabel('Ip Address')\n",
    "plt.ylabel('Counts Distribution')\n",
    "plt.xticks(rotation = 90);\n",
    "plt.show()"
   ]
  },
  {
   "cell_type": "markdown",
   "id": "b349a15f",
   "metadata": {},
   "source": [
    "## User log data"
   ]
  },
  {
   "cell_type": "code",
   "execution_count": 117,
   "id": "b534e29f",
   "metadata": {},
   "outputs": [
    {
     "data": {
      "text/html": [
       "<div>\n",
       "<style scoped>\n",
       "    .dataframe tbody tr th:only-of-type {\n",
       "        vertical-align: middle;\n",
       "    }\n",
       "\n",
       "    .dataframe tbody tr th {\n",
       "        vertical-align: top;\n",
       "    }\n",
       "\n",
       "    .dataframe thead th {\n",
       "        text-align: right;\n",
       "    }\n",
       "</style>\n",
       "<table border=\"1\" class=\"dataframe\">\n",
       "  <thead>\n",
       "    <tr style=\"text-align: right;\">\n",
       "      <th></th>\n",
       "      <th>Date_Time</th>\n",
       "      <th>Date_id</th>\n",
       "      <th>Next_State</th>\n",
       "      <th>User</th>\n",
       "    </tr>\n",
       "  </thead>\n",
       "  <tbody>\n",
       "    <tr>\n",
       "      <th>0</th>\n",
       "      <td>2020-02-28</td>\n",
       "      <td>123111</td>\n",
       "      <td>Login\\n</td>\n",
       "      <td>user-0</td>\n",
       "    </tr>\n",
       "    <tr>\n",
       "      <th>1</th>\n",
       "      <td>2020-02-28</td>\n",
       "      <td>244144</td>\n",
       "      <td>Personal Preferences\\n</td>\n",
       "      <td>user-0</td>\n",
       "    </tr>\n",
       "    <tr>\n",
       "      <th>2</th>\n",
       "      <td>2020-02-28</td>\n",
       "      <td>950956</td>\n",
       "      <td>Mail Delete Preferences\\n</td>\n",
       "      <td>user-0</td>\n",
       "    </tr>\n",
       "    <tr>\n",
       "      <th>3</th>\n",
       "      <td>2020-02-28</td>\n",
       "      <td>522902</td>\n",
       "      <td>Home\\n</td>\n",
       "      <td>user-0</td>\n",
       "    </tr>\n",
       "    <tr>\n",
       "      <th>4</th>\n",
       "      <td>2020-02-28</td>\n",
       "      <td>807088</td>\n",
       "      <td>MenuBarSelection\\n</td>\n",
       "      <td>user-0</td>\n",
       "    </tr>\n",
       "  </tbody>\n",
       "</table>\n",
       "</div>"
      ],
      "text/plain": [
       "   Date_Time Date_id                  Next_State    User\n",
       "0 2020-02-28  123111                     Login\\n  user-0\n",
       "1 2020-02-28  244144      Personal Preferences\\n  user-0\n",
       "2 2020-02-28  950956   Mail Delete Preferences\\n  user-0\n",
       "3 2020-02-28  522902                      Home\\n  user-0\n",
       "4 2020-02-28  807088          MenuBarSelection\\n  user-0"
      ]
     },
     "execution_count": 117,
     "metadata": {},
     "output_type": "execute_result"
    }
   ],
   "source": [
    "user_data.head()"
   ]
  },
  {
   "cell_type": "code",
   "execution_count": 118,
   "id": "8cce0e32",
   "metadata": {},
   "outputs": [
    {
     "data": {
      "image/png": "[encoded data removed]",
      "text/plain": [
       "<Figure size 1224x432 with 1 Axes>"
      ]
     },
     "metadata": {
      "needs_background": "light"
     },
     "output_type": "display_data"
    }
   ],
   "source": [
    "plt.figure(figsize = (17,6))\n",
    "ax=sns.countplot(x=user_data['Next_State'], order=user_data[\"Next_State\"].value_counts().index)\n",
    "ax.bar_label(ax.containers[0])\n",
    "#ax.bar_label(ax.containers[1])\n",
    "plt.title('User next State Count Distribution')\n",
    "plt.xlabel('User Next State')\n",
    "plt.ylabel('Counts Distribution')\n",
    "plt.xticks(rotation = 90);\n",
    "plt.show()"
   ]
  },
  {
   "cell_type": "code",
   "execution_count": 119,
   "id": "56c49056",
   "metadata": {},
   "outputs": [
    {
     "data": {
      "image/png": "[encoded data removed]",
      "text/plain": [
       "<Figure size 1224x432 with 1 Axes>"
      ]
     },
     "metadata": {
      "needs_background": "light"
     },
     "output_type": "display_data"
    }
   ],
   "source": [
    "plt.figure(figsize = (17,6))\n",
    "ax=sns.countplot(x=user_data['User'],  order=user_data[\"User\"].value_counts().index)\n",
    "ax.bar_label(ax.containers[0])\n",
    "#ax.bar_label(ax.containers[1])\n",
    "plt.title('User Count Distribution')\n",
    "plt.xlabel('User')\n",
    "plt.ylabel('Counts Distribution')\n",
    "plt.xticks(rotation = 90);\n",
    "plt.show()"
   ]
  },
  {
   "cell_type": "markdown",
   "id": "7fb90eef",
   "metadata": {},
   "source": [
    "## Exploring User Behavior:\n",
    "\n",
    "- Analyze next state frequencies: Calculate the frequency of each \"next state\" (web page) to identify the most visited pages.\n"
   ]
  },
  {
   "cell_type": "markdown",
   "id": "48234fbd",
   "metadata": {},
   "source": [
    "## Attack data eda"
   ]
  },
  {
   "cell_type": "code",
   "execution_count": 120,
   "id": "e7c47685",
   "metadata": {},
   "outputs": [
    {
     "data": {
      "text/html": [
       "<div>\n",
       "<style scoped>\n",
       "    .dataframe tbody tr th:only-of-type {\n",
       "        vertical-align: middle;\n",
       "    }\n",
       "\n",
       "    .dataframe tbody tr th {\n",
       "        vertical-align: top;\n",
       "    }\n",
       "\n",
       "    .dataframe thead th {\n",
       "        text-align: right;\n",
       "    }\n",
       "</style>\n",
       "<table border=\"1\" class=\"dataframe\">\n",
       "  <thead>\n",
       "    <tr style=\"text-align: right;\">\n",
       "      <th></th>\n",
       "      <th>Date_Time</th>\n",
       "      <th>Status</th>\n",
       "      <th>User</th>\n",
       "    </tr>\n",
       "  </thead>\n",
       "  <tbody>\n",
       "    <tr>\n",
       "      <th>0</th>\n",
       "      <td>Wed Mar 4 12:37:51</td>\n",
       "      <td>okay-upload-webshell\\n</td>\n",
       "      <td>user-4</td>\n",
       "    </tr>\n",
       "    <tr>\n",
       "      <th>1</th>\n",
       "      <td>Wed Mar 4 12:37:51</td>\n",
       "      <td>success\\n</td>\n",
       "      <td>user-4</td>\n",
       "    </tr>\n",
       "    <tr>\n",
       "      <th>2</th>\n",
       "      <td>Wed Mar 4 12:38:05</td>\n",
       "      <td>okay-curl\\n</td>\n",
       "      <td>user-4</td>\n",
       "    </tr>\n",
       "    <tr>\n",
       "      <th>3</th>\n",
       "      <td>Wed Mar 4 12:38:05</td>\n",
       "      <td>success\\n</td>\n",
       "      <td>user-4</td>\n",
       "    </tr>\n",
       "    <tr>\n",
       "      <th>4</th>\n",
       "      <td>Wed Mar 4 13:51:47</td>\n",
       "      <td>nmap\\n</td>\n",
       "      <td>user-4</td>\n",
       "    </tr>\n",
       "  </tbody>\n",
       "</table>\n",
       "</div>"
      ],
      "text/plain": [
       "             Date_Time                   Status    User\n",
       "0  Wed Mar 4 12:37:51    okay-upload-webshell\\n  user-4\n",
       "1  Wed Mar 4 12:37:51                 success\\n  user-4\n",
       "2  Wed Mar 4 12:38:05               okay-curl\\n  user-4\n",
       "3  Wed Mar 4 12:38:05                 success\\n  user-4\n",
       "4  Wed Mar 4 13:51:47                    nmap\\n  user-4"
      ]
     },
     "execution_count": 120,
     "metadata": {},
     "output_type": "execute_result"
    }
   ],
   "source": [
    "attack_data.head()"
   ]
  },
  {
   "cell_type": "code",
   "execution_count": 121,
   "id": "823bdf28",
   "metadata": {},
   "outputs": [
    {
     "data": {
      "text/plain": [
       "62"
      ]
     },
     "execution_count": 121,
     "metadata": {},
     "output_type": "execute_result"
    }
   ],
   "source": [
    "attack_data.Status.nunique()"
   ]
  },
  {
   "cell_type": "code",
   "execution_count": 122,
   "id": "b69188a2",
   "metadata": {},
   "outputs": [
    {
     "data": {
      "image/png": "[encoded data removed]",
      "text/plain": [
       "<Figure size 1224x432 with 1 Axes>"
      ]
     },
     "metadata": {
      "needs_background": "light"
     },
     "output_type": "display_data"
    }
   ],
   "source": [
    "plt.figure(figsize = (17,6))\n",
    "ax=sns.countplot(x=attack_data['Status'], order=attack_data[\"Status\"].value_counts().index)\n",
    "ax.bar_label(ax.containers[0])\n",
    "#ax.bar_label(ax.containers[1])\n",
    "plt.title('Attack Count Distribution')\n",
    "plt.xlabel('Attack Status')\n",
    "plt.ylabel('Counts Distribution')\n",
    "plt.xticks(rotation = 90);\n",
    "plt.show()"
   ]
  },
  {
   "cell_type": "code",
   "execution_count": 123,
   "id": "7cb6dfaa",
   "metadata": {},
   "outputs": [
    {
     "data": {
      "image/png": "[encoded data removed]",
      "text/plain": [
       "<Figure size 1224x432 with 1 Axes>"
      ]
     },
     "metadata": {
      "needs_background": "light"
     },
     "output_type": "display_data"
    }
   ],
   "source": [
    "plt.figure(figsize = (17,6))\n",
    "ax=sns.countplot(x=attack_data['User'], order=attack_data[\"User\"].value_counts().index)\n",
    "ax.bar_label(ax.containers[0])\n",
    "#ax.bar_label(ax.containers[1])\n",
    "plt.title('User Count Distribution on Attack Data')\n",
    "plt.xlabel('User')\n",
    "plt.ylabel('Counts Distribution')\n",
    "plt.xticks(rotation = 90);\n",
    "plt.show()"
   ]
  },
  {
   "cell_type": "markdown",
   "id": "bf3bd4ad",
   "metadata": {},
   "source": [
    "## Data for Dashboard"
   ]
  },
  {
   "cell_type": "code",
   "execution_count": 124,
   "id": "4e509cd5",
   "metadata": {},
   "outputs": [
    {
     "data": {
      "text/html": [
       "<div>\n",
       "<style scoped>\n",
       "    .dataframe tbody tr th:only-of-type {\n",
       "        vertical-align: middle;\n",
       "    }\n",
       "\n",
       "    .dataframe tbody tr th {\n",
       "        vertical-align: top;\n",
       "    }\n",
       "\n",
       "    .dataframe thead th {\n",
       "        text-align: right;\n",
       "    }\n",
       "</style>\n",
       "<table border=\"1\" class=\"dataframe\">\n",
       "  <thead>\n",
       "    <tr style=\"text-align: right;\">\n",
       "      <th></th>\n",
       "      <th>Ip_address</th>\n",
       "      <th>Date_Time</th>\n",
       "      <th>Method_of_request</th>\n",
       "      <th>Request_Method</th>\n",
       "      <th>Request_status</th>\n",
       "      <th>Referer_Header</th>\n",
       "      <th>User_Header</th>\n",
       "      <th>Security_status</th>\n",
       "      <th>Class_of_Request_status</th>\n",
       "    </tr>\n",
       "  </thead>\n",
       "  <tbody>\n",
       "    <tr>\n",
       "      <th>0</th>\n",
       "      <td>192.168.10.190</td>\n",
       "      <td>2020-02-29</td>\n",
       "      <td>GET /login.php HTTP/1.1</td>\n",
       "      <td>GET</td>\n",
       "      <td>200</td>\n",
       "      <td>Anonymous Referer</td>\n",
       "      <td>Mozilla/5.0 (X11; Ubuntu; Linux x86_64; rv:73....</td>\n",
       "      <td>Safe</td>\n",
       "      <td>Successful</td>\n",
       "    </tr>\n",
       "    <tr>\n",
       "      <th>1</th>\n",
       "      <td>192.168.10.4</td>\n",
       "      <td>2020-02-29</td>\n",
       "      <td>POST /services/ajax.php/kronolith/listTopTags ...</td>\n",
       "      <td>POST</td>\n",
       "      <td>200</td>\n",
       "      <td>http://mail.cup.com/kronolith/</td>\n",
       "      <td>Mozilla/5.0 (X11; Linux x86_64) AppleWebKit/53...</td>\n",
       "      <td>Safe</td>\n",
       "      <td>Successful</td>\n",
       "    </tr>\n",
       "    <tr>\n",
       "      <th>2</th>\n",
       "      <td>192.168.10.190</td>\n",
       "      <td>2020-02-29</td>\n",
       "      <td>POST /login.php HTTP/1.1</td>\n",
       "      <td>POST</td>\n",
       "      <td>302</td>\n",
       "      <td>http://mail.cup.com/login.php</td>\n",
       "      <td>Mozilla/5.0 (X11; Ubuntu; Linux x86_64; rv:73....</td>\n",
       "      <td>Safe</td>\n",
       "      <td>Found</td>\n",
       "    </tr>\n",
       "    <tr>\n",
       "      <th>3</th>\n",
       "      <td>192.168.10.190</td>\n",
       "      <td>2020-02-29</td>\n",
       "      <td>GET /services/portal/ HTTP/1.1</td>\n",
       "      <td>GET</td>\n",
       "      <td>200</td>\n",
       "      <td>http://mail.cup.com/login.php</td>\n",
       "      <td>Mozilla/5.0 (X11; Ubuntu; Linux x86_64; rv:73....</td>\n",
       "      <td>Safe</td>\n",
       "      <td>Successful</td>\n",
       "    </tr>\n",
       "    <tr>\n",
       "      <th>4</th>\n",
       "      <td>192.168.10.190</td>\n",
       "      <td>2020-02-29</td>\n",
       "      <td>GET /themes/default/graphics/head-bg.png HTTP/1.1</td>\n",
       "      <td>GET</td>\n",
       "      <td>200</td>\n",
       "      <td>http://mail.cup.com/themes/default/screen.css</td>\n",
       "      <td>Mozilla/5.0 (X11; Ubuntu; Linux x86_64; rv:73....</td>\n",
       "      <td>Safe</td>\n",
       "      <td>Successful</td>\n",
       "    </tr>\n",
       "  </tbody>\n",
       "</table>\n",
       "</div>"
      ],
      "text/plain": [
       "       Ip_address  Date_Time  \\\n",
       "0  192.168.10.190 2020-02-29   \n",
       "1    192.168.10.4 2020-02-29   \n",
       "2  192.168.10.190 2020-02-29   \n",
       "3  192.168.10.190 2020-02-29   \n",
       "4  192.168.10.190 2020-02-29   \n",
       "\n",
       "                                   Method_of_request Request_Method  \\\n",
       "0                            GET /login.php HTTP/1.1            GET   \n",
       "1  POST /services/ajax.php/kronolith/listTopTags ...           POST   \n",
       "2                           POST /login.php HTTP/1.1           POST   \n",
       "3                     GET /services/portal/ HTTP/1.1            GET   \n",
       "4  GET /themes/default/graphics/head-bg.png HTTP/1.1            GET   \n",
       "\n",
       "  Request_status                                 Referer_Header  \\\n",
       "0            200                              Anonymous Referer   \n",
       "1            200                 http://mail.cup.com/kronolith/   \n",
       "2            302                  http://mail.cup.com/login.php   \n",
       "3            200                  http://mail.cup.com/login.php   \n",
       "4            200  http://mail.cup.com/themes/default/screen.css   \n",
       "\n",
       "                                         User_Header Security_status  \\\n",
       "0  Mozilla/5.0 (X11; Ubuntu; Linux x86_64; rv:73....            Safe   \n",
       "1  Mozilla/5.0 (X11; Linux x86_64) AppleWebKit/53...            Safe   \n",
       "2  Mozilla/5.0 (X11; Ubuntu; Linux x86_64; rv:73....            Safe   \n",
       "3  Mozilla/5.0 (X11; Ubuntu; Linux x86_64; rv:73....            Safe   \n",
       "4  Mozilla/5.0 (X11; Ubuntu; Linux x86_64; rv:73....            Safe   \n",
       "\n",
       "  Class_of_Request_status  \n",
       "0              Successful  \n",
       "1              Successful  \n",
       "2                   Found  \n",
       "3              Successful  \n",
       "4              Successful  "
      ]
     },
     "execution_count": 124,
     "metadata": {},
     "output_type": "execute_result"
    }
   ],
   "source": [
    "access_data.head()"
   ]
  },
  {
   "cell_type": "code",
   "execution_count": 125,
   "id": "85c37f0a",
   "metadata": {},
   "outputs": [],
   "source": [
    "access_data.to_csv('access_data.csv')"
   ]
  },
  {
   "cell_type": "code",
   "execution_count": 126,
   "id": "45a1ffa3",
   "metadata": {},
   "outputs": [
    {
     "data": {
      "text/html": [
       "<div>\n",
       "<style scoped>\n",
       "    .dataframe tbody tr th:only-of-type {\n",
       "        vertical-align: middle;\n",
       "    }\n",
       "\n",
       "    .dataframe tbody tr th {\n",
       "        vertical-align: top;\n",
       "    }\n",
       "\n",
       "    .dataframe thead th {\n",
       "        text-align: right;\n",
       "    }\n",
       "</style>\n",
       "<table border=\"1\" class=\"dataframe\">\n",
       "  <thead>\n",
       "    <tr style=\"text-align: right;\">\n",
       "      <th></th>\n",
       "      <th>Ip_address</th>\n",
       "      <th>Date_Time</th>\n",
       "      <th>PID</th>\n",
       "      <th>Referer_Header</th>\n",
       "    </tr>\n",
       "  </thead>\n",
       "  <tbody>\n",
       "    <tr>\n",
       "      <th>0</th>\n",
       "      <td>192.168.10.4</td>\n",
       "      <td>Sun Mar 01</td>\n",
       "      <td>32548</td>\n",
       "      <td>http://mail.cup.com/nag/\\n</td>\n",
       "    </tr>\n",
       "    <tr>\n",
       "      <th>1</th>\n",
       "      <td>192.168.10.4</td>\n",
       "      <td>Sun Mar 01</td>\n",
       "      <td>32548</td>\n",
       "      <td>http://mail.cup.com/nag/\\n</td>\n",
       "    </tr>\n",
       "    <tr>\n",
       "      <th>2</th>\n",
       "      <td>192.168.10.4</td>\n",
       "      <td>Sun Mar 01</td>\n",
       "      <td>32548</td>\n",
       "      <td>http://mail.cup.com/nag/\\n</td>\n",
       "    </tr>\n",
       "    <tr>\n",
       "      <th>3</th>\n",
       "      <td>192.168.10.4</td>\n",
       "      <td>Sun Mar 01</td>\n",
       "      <td>32548</td>\n",
       "      <td>http://mail.cup.com/nag/\\n</td>\n",
       "    </tr>\n",
       "    <tr>\n",
       "      <th>4</th>\n",
       "      <td>192.168.10.4</td>\n",
       "      <td>Sun Mar 01</td>\n",
       "      <td>32548</td>\n",
       "      <td>http://mail.cup.com/nag/\\n</td>\n",
       "    </tr>\n",
       "  </tbody>\n",
       "</table>\n",
       "</div>"
      ],
      "text/plain": [
       "     Ip_address     Date_Time     PID              Referer_Header\n",
       "0  192.168.10.4   Sun Mar 01   32548   http://mail.cup.com/nag/\\n\n",
       "1  192.168.10.4   Sun Mar 01   32548   http://mail.cup.com/nag/\\n\n",
       "2  192.168.10.4   Sun Mar 01   32548   http://mail.cup.com/nag/\\n\n",
       "3  192.168.10.4   Sun Mar 01   32548   http://mail.cup.com/nag/\\n\n",
       "4  192.168.10.4   Sun Mar 01   32548   http://mail.cup.com/nag/\\n"
      ]
     },
     "execution_count": 126,
     "metadata": {},
     "output_type": "execute_result"
    }
   ],
   "source": [
    "error_log_data.head()"
   ]
  },
  {
   "cell_type": "code",
   "execution_count": 127,
   "id": "7cec06b9",
   "metadata": {},
   "outputs": [],
   "source": [
    "error_log_data.to_csv('error_log_data.csv')"
   ]
  },
  {
   "cell_type": "code",
   "execution_count": 128,
   "id": "714890ad",
   "metadata": {},
   "outputs": [
    {
     "data": {
      "text/html": [
       "<div>\n",
       "<style scoped>\n",
       "    .dataframe tbody tr th:only-of-type {\n",
       "        vertical-align: middle;\n",
       "    }\n",
       "\n",
       "    .dataframe tbody tr th {\n",
       "        vertical-align: top;\n",
       "    }\n",
       "\n",
       "    .dataframe thead th {\n",
       "        text-align: right;\n",
       "    }\n",
       "</style>\n",
       "<table border=\"1\" class=\"dataframe\">\n",
       "  <thead>\n",
       "    <tr style=\"text-align: right;\">\n",
       "      <th></th>\n",
       "      <th>Date_Time</th>\n",
       "      <th>Date_id</th>\n",
       "      <th>Next_State</th>\n",
       "      <th>User</th>\n",
       "    </tr>\n",
       "  </thead>\n",
       "  <tbody>\n",
       "    <tr>\n",
       "      <th>0</th>\n",
       "      <td>2020-02-28</td>\n",
       "      <td>123111</td>\n",
       "      <td>Login\\n</td>\n",
       "      <td>user-0</td>\n",
       "    </tr>\n",
       "    <tr>\n",
       "      <th>1</th>\n",
       "      <td>2020-02-28</td>\n",
       "      <td>244144</td>\n",
       "      <td>Personal Preferences\\n</td>\n",
       "      <td>user-0</td>\n",
       "    </tr>\n",
       "    <tr>\n",
       "      <th>2</th>\n",
       "      <td>2020-02-28</td>\n",
       "      <td>950956</td>\n",
       "      <td>Mail Delete Preferences\\n</td>\n",
       "      <td>user-0</td>\n",
       "    </tr>\n",
       "    <tr>\n",
       "      <th>3</th>\n",
       "      <td>2020-02-28</td>\n",
       "      <td>522902</td>\n",
       "      <td>Home\\n</td>\n",
       "      <td>user-0</td>\n",
       "    </tr>\n",
       "    <tr>\n",
       "      <th>4</th>\n",
       "      <td>2020-02-28</td>\n",
       "      <td>807088</td>\n",
       "      <td>MenuBarSelection\\n</td>\n",
       "      <td>user-0</td>\n",
       "    </tr>\n",
       "  </tbody>\n",
       "</table>\n",
       "</div>"
      ],
      "text/plain": [
       "   Date_Time Date_id                  Next_State    User\n",
       "0 2020-02-28  123111                     Login\\n  user-0\n",
       "1 2020-02-28  244144      Personal Preferences\\n  user-0\n",
       "2 2020-02-28  950956   Mail Delete Preferences\\n  user-0\n",
       "3 2020-02-28  522902                      Home\\n  user-0\n",
       "4 2020-02-28  807088          MenuBarSelection\\n  user-0"
      ]
     },
     "execution_count": 128,
     "metadata": {},
     "output_type": "execute_result"
    }
   ],
   "source": [
    "user_data.head()"
   ]
  },
  {
   "cell_type": "code",
   "execution_count": 129,
   "id": "22c2430b",
   "metadata": {},
   "outputs": [],
   "source": [
    "user_data.to_csv('user_data.csv')"
   ]
  },
  {
   "cell_type": "code",
   "execution_count": 130,
   "id": "fea22eb4",
   "metadata": {},
   "outputs": [
    {
     "data": {
      "text/html": [
       "<div>\n",
       "<style scoped>\n",
       "    .dataframe tbody tr th:only-of-type {\n",
       "        vertical-align: middle;\n",
       "    }\n",
       "\n",
       "    .dataframe tbody tr th {\n",
       "        vertical-align: top;\n",
       "    }\n",
       "\n",
       "    .dataframe thead th {\n",
       "        text-align: right;\n",
       "    }\n",
       "</style>\n",
       "<table border=\"1\" class=\"dataframe\">\n",
       "  <thead>\n",
       "    <tr style=\"text-align: right;\">\n",
       "      <th></th>\n",
       "      <th>Date_Time</th>\n",
       "      <th>Status</th>\n",
       "      <th>User</th>\n",
       "    </tr>\n",
       "  </thead>\n",
       "  <tbody>\n",
       "    <tr>\n",
       "      <th>0</th>\n",
       "      <td>Wed Mar 4 12:37:51</td>\n",
       "      <td>okay-upload-webshell\\n</td>\n",
       "      <td>user-4</td>\n",
       "    </tr>\n",
       "    <tr>\n",
       "      <th>1</th>\n",
       "      <td>Wed Mar 4 12:37:51</td>\n",
       "      <td>success\\n</td>\n",
       "      <td>user-4</td>\n",
       "    </tr>\n",
       "    <tr>\n",
       "      <th>2</th>\n",
       "      <td>Wed Mar 4 12:38:05</td>\n",
       "      <td>okay-curl\\n</td>\n",
       "      <td>user-4</td>\n",
       "    </tr>\n",
       "    <tr>\n",
       "      <th>3</th>\n",
       "      <td>Wed Mar 4 12:38:05</td>\n",
       "      <td>success\\n</td>\n",
       "      <td>user-4</td>\n",
       "    </tr>\n",
       "    <tr>\n",
       "      <th>4</th>\n",
       "      <td>Wed Mar 4 13:51:47</td>\n",
       "      <td>nmap\\n</td>\n",
       "      <td>user-4</td>\n",
       "    </tr>\n",
       "  </tbody>\n",
       "</table>\n",
       "</div>"
      ],
      "text/plain": [
       "             Date_Time                   Status    User\n",
       "0  Wed Mar 4 12:37:51    okay-upload-webshell\\n  user-4\n",
       "1  Wed Mar 4 12:37:51                 success\\n  user-4\n",
       "2  Wed Mar 4 12:38:05               okay-curl\\n  user-4\n",
       "3  Wed Mar 4 12:38:05                 success\\n  user-4\n",
       "4  Wed Mar 4 13:51:47                    nmap\\n  user-4"
      ]
     },
     "execution_count": 130,
     "metadata": {},
     "output_type": "execute_result"
    }
   ],
   "source": [
    "attack_data.head()"
   ]
  },
  {
   "cell_type": "code",
   "execution_count": 131,
   "id": "96cd045b",
   "metadata": {},
   "outputs": [],
   "source": [
    "attack_data.to_csv('attack_data.csv')"
   ]
  },
  {
   "cell_type": "code",
   "execution_count": null,
   "id": "371e944d",
   "metadata": {},
   "outputs": [],
   "source": []
  }
 ],
 "metadata": {
  "kernelspec": {
   "display_name": "Python 3 (ipykernel)",
   "language": "python",
   "name": "python3"
  },
  "language_info": {
   "codemirror_mode": {
    "name": "ipython",
    "version": 3
   },
   "file_extension": ".py",
   "mimetype": "text/x-python",
   "name": "python",
   "nbconvert_exporter": "python",
   "pygments_lexer": "ipython3",
   "version": "3.9.12"
  }
 },
 "nbformat": 4,
 "nbformat_minor": 5
}
