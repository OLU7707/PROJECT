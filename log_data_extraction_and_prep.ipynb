{
 "cells": [
  {
   "cell_type": "code",
   "execution_count": 75,
   "id": "a78a4a07",
   "metadata": {},
   "outputs": [],
   "source": [
    "import os\n",
    "import pandas as pd\n",
    "import datetime"
   ]
  },
  {
   "cell_type": "markdown",
   "id": "eb84cc3a",
   "metadata": {},
   "source": [
    "# Log Data Extraction"
   ]
  },
  {
   "cell_type": "markdown",
   "id": "d201d61a",
   "metadata": {},
   "source": [
    "## server_access log"
   ]
  },
  {
   "cell_type": "code",
   "execution_count": 2,
   "id": "63354816",
   "metadata": {},
   "outputs": [],
   "source": [
    "# Extract the IP address.\n",
    "def extract_ip_address(log_line):\n",
    "    if \"::1 - -\"  not in log_line:\n",
    "        ip_address = log_line.split(' - -')[0]\n",
    "        return ip_address\n",
    "    else:\n",
    "        return 'request was made from the same machine'"
   ]
  },
  {
   "cell_type": "code",
   "execution_count": 3,
   "id": "26dd509e",
   "metadata": {},
   "outputs": [],
   "source": [
    "# Extract date and time.\n",
    "def extract_date_time(log_line):\n",
    "    if \"::1 - -\"  not in log_line:\n",
    "        date_time = log_line.split(' - -')[1].split('\"')[0]\n",
    "        return date_time\n",
    "    else:\n",
    "        return 'request was made from the same machine'"
   ]
  },
  {
   "cell_type": "code",
   "execution_count": 4,
   "id": "a18109c0",
   "metadata": {},
   "outputs": [],
   "source": [
    "# Extract method of request.\n",
    "def extract_method_of_request(log_line):\n",
    "    if \"::1 - -\"  not in log_line:\n",
    "        method_of_request = log_line.split('\"')[1]\n",
    "        return method_of_request\n",
    "    else:\n",
    "        return 'request was made from the same machine'"
   ]
  },
  {
   "cell_type": "code",
   "execution_count": 5,
   "id": "94aff510",
   "metadata": {},
   "outputs": [],
   "source": [
    "# Extract url of request.\n",
    "def extract_url(log_line):\n",
    "    if \"::1 - -\"  not in log_line:\n",
    "        request_url = log_line.split('\"')[1].split(' ')[1]\n",
    "        return request_url\n",
    "    else:\n",
    "        return 'request was made from the same machine'"
   ]
  },
  {
   "cell_type": "code",
   "execution_count": 6,
   "id": "7f42a9c4",
   "metadata": {},
   "outputs": [],
   "source": [
    "# Extract http status code of request.\n",
    "def extract_http_status_code(log_line):\n",
    "    if \"::1 - -\"  not in log_line:\n",
    "        status_code = log_line.split('\"')[2]\n",
    "        return status_code\n",
    "    else:\n",
    "        return 'request was made from the same machine'"
   ]
  },
  {
   "cell_type": "code",
   "execution_count": 7,
   "id": "f7b7008a",
   "metadata": {},
   "outputs": [],
   "source": [
    "# Extract number of bytes send in response\n",
    "def extract_number_of_bytes_send_in_response(log_line):\n",
    "    if \"::1 - -\"  not in i:\n",
    "        number_of_bytes_send_in_respond = log_line.split(' - -')[1].split('\"')[2].split(' ')[2]\n",
    "        return number_of_bytes_send_in_respond\n",
    "    else:\n",
    "        return 'request was made from the same machine'"
   ]
  },
  {
   "cell_type": "code",
   "execution_count": 8,
   "id": "503b72f9",
   "metadata": {},
   "outputs": [],
   "source": [
    "# Extract referer header.\n",
    "def extract_referer_header(log_line):\n",
    "    if \"::1 - -\"  not in log_line:\n",
    "        referer_header = log_line.split(' - -')[1].split('\"')[3]\n",
    "        return referer_header\n",
    "    else:\n",
    "        return 'request was made from the same machine'"
   ]
  },
  {
   "cell_type": "code",
   "execution_count": 9,
   "id": "d8d7a393",
   "metadata": {},
   "outputs": [],
   "source": [
    "# Extract user agent header.\n",
    "def extract_user_agent_header(log_line):\n",
    "    if \"::1 - -\"  not in log_line:\n",
    "        user_agent_header = log_line.split(' - -')[1].split('\"')[-2]\n",
    "        return user_agent_header\n",
    "    else:\n",
    "        return 'request was made from the same machine'"
   ]
  },
  {
   "cell_type": "code",
   "execution_count": 10,
   "id": "46d5fd6a",
   "metadata": {},
   "outputs": [],
   "source": [
    "def get_access_log_data(data_dir):\n",
    "    sub_dir_list=[]\n",
    "    ip_address=[]\n",
    "    date_time = []\n",
    "    request_method=[]\n",
    "    #request_url = []\n",
    "    request_http_status_code = []\n",
    "    #num_of_bytes_in_response = []\n",
    "    referer_head=[]\n",
    "    user_head = []\n",
    "    for sub_dir in os.listdir(data_dir):\n",
    "        sub_dir_path = os.path.join(data_dir,sub_dir)\n",
    "        sub_dir_list.append(sub_dir_path)\n",
    "    for file_path in sub_dir_list:\n",
    "        with open(file_path, 'r') as f:\n",
    "            data= f.readlines()\n",
    "            ip_addrs=[extract_ip_address(i) for i in data]\n",
    "            date_list=[extract_date_time(i) for i in data]\n",
    "            request_methd=[extract_method_of_request(i) for i in data]\n",
    "            #request_url_list=[extract_url(i) for i in data]\n",
    "            request_status_code=[extract_http_status_code(i) for i in data ]\n",
    "            #num_of_bytes=[extract_number_of_bytes_send_in_response(i) for i in data]\n",
    "            referer=[extract_referer_header(i) for i in data]\n",
    "            user_header=[extract_user_agent_header(i) for i in data]\n",
    "            ip_address.append(ip_addrs)\n",
    "            date_time.append(date_list)\n",
    "            request_method.append(request_methd)\n",
    "            #request_url.append(request_url_list)\n",
    "            request_http_status_code.append(request_status_code)\n",
    "            #num_of_bytes_in_response.append(num_of_bytes)\n",
    "            referer_head.append(referer)\n",
    "            user_head.append(user_header)\n",
    "    ip=[ip for i in ip_address for ip in i]\n",
    "    dt = [date for i in date_time for date in i]\n",
    "    r_method=[rmethod for i in request_method for rmethod in i]\n",
    "    r_status=[status for i in request_http_status_code for status in i]\n",
    "    referer_agent=[refer for i in referer_head for refer in i ]\n",
    "    user_agent = [ user for i in user_head for user in i]\n",
    "    data= {'Ip_address':ip, 'Date_Time':dt,'Method_of_request':r_method,'Status_of_request': r_status, 'Referer_Header':referer_agent, 'User_Header':user_agent}\n",
    "    df=pd.DataFrame(data)\n",
    "    return df\n",
    "\n",
    "        \n",
    "            \n",
    "        "
   ]
  },
  {
   "cell_type": "code",
   "execution_count": 11,
   "id": "459631b0",
   "metadata": {},
   "outputs": [],
   "source": [
    "access_data_dir='C:\\\\Users\\\\User\\\\Desktop\\\\cyber\\\\data\\\\access_log_data'"
   ]
  },
  {
   "cell_type": "code",
   "execution_count": 12,
   "id": "4ee283c1",
   "metadata": {},
   "outputs": [],
   "source": [
    "access_log_data=get_access_log_data(access_data_dir)"
   ]
  },
  {
   "cell_type": "code",
   "execution_count": 13,
   "id": "38b773f7",
   "metadata": {},
   "outputs": [
    {
     "data": {
      "text/html": [
       "<div>\n",
       "<style scoped>\n",
       "    .dataframe tbody tr th:only-of-type {\n",
       "        vertical-align: middle;\n",
       "    }\n",
       "\n",
       "    .dataframe tbody tr th {\n",
       "        vertical-align: top;\n",
       "    }\n",
       "\n",
       "    .dataframe thead th {\n",
       "        text-align: right;\n",
       "    }\n",
       "</style>\n",
       "<table border=\"1\" class=\"dataframe\">\n",
       "  <thead>\n",
       "    <tr style=\"text-align: right;\">\n",
       "      <th></th>\n",
       "      <th>Ip_address</th>\n",
       "      <th>Date_Time</th>\n",
       "      <th>Method_of_request</th>\n",
       "      <th>Status_of_request</th>\n",
       "      <th>Referer_Header</th>\n",
       "      <th>User_Header</th>\n",
       "    </tr>\n",
       "  </thead>\n",
       "  <tbody>\n",
       "    <tr>\n",
       "      <th>0</th>\n",
       "      <td>192.168.10.190</td>\n",
       "      <td>[29/Feb/2020:00:00:02 +0000]</td>\n",
       "      <td>GET /login.php HTTP/1.1</td>\n",
       "      <td>200 2532</td>\n",
       "      <td>-</td>\n",
       "      <td>Mozilla/5.0 (X11; Ubuntu; Linux x86_64; rv:73....</td>\n",
       "    </tr>\n",
       "    <tr>\n",
       "      <th>1</th>\n",
       "      <td>192.168.10.4</td>\n",
       "      <td>[29/Feb/2020:00:00:09 +0000]</td>\n",
       "      <td>POST /services/ajax.php/kronolith/listTopTags ...</td>\n",
       "      <td>200 402</td>\n",
       "      <td>http://mail.cup.com/kronolith/</td>\n",
       "      <td>Mozilla/5.0 (X11; Linux x86_64) AppleWebKit/53...</td>\n",
       "    </tr>\n",
       "    <tr>\n",
       "      <th>2</th>\n",
       "      <td>192.168.10.190</td>\n",
       "      <td>[29/Feb/2020:00:00:12 +0000]</td>\n",
       "      <td>POST /login.php HTTP/1.1</td>\n",
       "      <td>302 601</td>\n",
       "      <td>http://mail.cup.com/login.php</td>\n",
       "      <td>Mozilla/5.0 (X11; Ubuntu; Linux x86_64; rv:73....</td>\n",
       "    </tr>\n",
       "    <tr>\n",
       "      <th>3</th>\n",
       "      <td>192.168.10.190</td>\n",
       "      <td>[29/Feb/2020:00:00:13 +0000]</td>\n",
       "      <td>GET /services/portal/ HTTP/1.1</td>\n",
       "      <td>200 7696</td>\n",
       "      <td>http://mail.cup.com/login.php</td>\n",
       "      <td>Mozilla/5.0 (X11; Ubuntu; Linux x86_64; rv:73....</td>\n",
       "    </tr>\n",
       "    <tr>\n",
       "      <th>4</th>\n",
       "      <td>192.168.10.190</td>\n",
       "      <td>[29/Feb/2020:00:00:14 +0000]</td>\n",
       "      <td>GET /themes/default/graphics/head-bg.png HTTP/1.1</td>\n",
       "      <td>200 380</td>\n",
       "      <td>http://mail.cup.com/themes/default/screen.css</td>\n",
       "      <td>Mozilla/5.0 (X11; Ubuntu; Linux x86_64; rv:73....</td>\n",
       "    </tr>\n",
       "  </tbody>\n",
       "</table>\n",
       "</div>"
      ],
      "text/plain": [
       "       Ip_address                       Date_Time  \\\n",
       "0  192.168.10.190   [29/Feb/2020:00:00:02 +0000]    \n",
       "1    192.168.10.4   [29/Feb/2020:00:00:09 +0000]    \n",
       "2  192.168.10.190   [29/Feb/2020:00:00:12 +0000]    \n",
       "3  192.168.10.190   [29/Feb/2020:00:00:13 +0000]    \n",
       "4  192.168.10.190   [29/Feb/2020:00:00:14 +0000]    \n",
       "\n",
       "                                   Method_of_request Status_of_request  \\\n",
       "0                            GET /login.php HTTP/1.1         200 2532    \n",
       "1  POST /services/ajax.php/kronolith/listTopTags ...          200 402    \n",
       "2                           POST /login.php HTTP/1.1          302 601    \n",
       "3                     GET /services/portal/ HTTP/1.1         200 7696    \n",
       "4  GET /themes/default/graphics/head-bg.png HTTP/1.1          200 380    \n",
       "\n",
       "                                  Referer_Header  \\\n",
       "0                                              -   \n",
       "1                 http://mail.cup.com/kronolith/   \n",
       "2                  http://mail.cup.com/login.php   \n",
       "3                  http://mail.cup.com/login.php   \n",
       "4  http://mail.cup.com/themes/default/screen.css   \n",
       "\n",
       "                                         User_Header  \n",
       "0  Mozilla/5.0 (X11; Ubuntu; Linux x86_64; rv:73....  \n",
       "1  Mozilla/5.0 (X11; Linux x86_64) AppleWebKit/53...  \n",
       "2  Mozilla/5.0 (X11; Ubuntu; Linux x86_64; rv:73....  \n",
       "3  Mozilla/5.0 (X11; Ubuntu; Linux x86_64; rv:73....  \n",
       "4  Mozilla/5.0 (X11; Ubuntu; Linux x86_64; rv:73....  "
      ]
     },
     "execution_count": 13,
     "metadata": {},
     "output_type": "execute_result"
    }
   ],
   "source": [
    "access_log_data.head()"
   ]
  },
  {
   "cell_type": "markdown",
   "id": "79be1ea7",
   "metadata": {},
   "source": [
    "## Error log"
   ]
  },
  {
   "cell_type": "code",
   "execution_count": 14,
   "id": "b6395b4e",
   "metadata": {},
   "outputs": [],
   "source": [
    " # Get the timestamp.\n",
    "def get_time_stamp(log_line):\n",
    "    time_stamp = log_line.split('[:error]')[0]\n",
    "    return time_stamp"
   ]
  },
  {
   "cell_type": "code",
   "execution_count": 15,
   "id": "8e896053",
   "metadata": {},
   "outputs": [],
   "source": [
    " # Get the ip_address.\n",
    "def get_ip_address(log_line):\n",
    "    ip_address = log_line.split(' ')[9]\n",
    "    return ip_address"
   ]
  },
  {
   "cell_type": "code",
   "execution_count": 16,
   "id": "f1f195e1",
   "metadata": {},
   "outputs": [],
   "source": [
    " # Get the Process ID.\n",
    "def get_PID(log_line):\n",
    "    pid = log_line.split(' ')[7]\n",
    "    return pid"
   ]
  },
  {
   "cell_type": "code",
   "execution_count": 17,
   "id": "ad5b1c4a",
   "metadata": {},
   "outputs": [],
   "source": [
    " # Get the referer.\n",
    "def get_referer(log_line):\n",
    "    referer = log_line.split(' ')[-1]\n",
    "    return referer"
   ]
  },
  {
   "cell_type": "code",
   "execution_count": 18,
   "id": "5d34a638",
   "metadata": {},
   "outputs": [],
   "source": [
    "def get_error_log_data(data_dir):\n",
    "    sub_dir_list=[]\n",
    "    ip_address=[]\n",
    "    date_time = []\n",
    "    progress_id=[]\n",
    "    referer_head=[]\n",
    "    for sub_dir in os.listdir(data_dir):\n",
    "        sub_dir_path = os.path.join(data_dir,sub_dir)\n",
    "        sub_dir_list.append(sub_dir_path)\n",
    "    for file_path in sub_dir_list:\n",
    "        with open(file_path, 'r') as f:\n",
    "            data= f.readlines()\n",
    "            ip_addrs=[get_ip_address(i) for i in data]\n",
    "            date_list=[get_time_stamp(i) for i in data]\n",
    "            pid=[get_PID(i) for i in data]\n",
    "            referer=[get_referer(i) for i in data]\n",
    "            ip_address.append(ip_addrs)\n",
    "            date_time.append(date_list)\n",
    "            progress_id.append(pid)\n",
    "            referer_head.append(referer)\n",
    "    ip=[ip for i in ip_address for ip in i]\n",
    "    dt = [date for i in date_time for date in i]\n",
    "    p_id=[pi_d for i in progress_id for pi_d in i]\n",
    "    referer_agent=[refer for i in referer_head for refer in i ]\n",
    "    data= {'Ip_address':ip, 'Date_Time':dt,'PID':p_id,'Referer_Header':referer_agent}\n",
    "    df=pd.DataFrame(data)\n",
    "    return df\n",
    "\n",
    "        \n",
    "            \n",
    "        "
   ]
  },
  {
   "cell_type": "code",
   "execution_count": 19,
   "id": "fc1f7f3f",
   "metadata": {},
   "outputs": [],
   "source": [
    "error_data_dir='C:\\\\Users\\\\User\\\\Desktop\\\\cyber\\\\data\\\\error_log_data'"
   ]
  },
  {
   "cell_type": "code",
   "execution_count": 20,
   "id": "96a4d717",
   "metadata": {},
   "outputs": [],
   "source": [
    "error_log_data=get_error_log_data(error_data_dir)"
   ]
  },
  {
   "cell_type": "code",
   "execution_count": 21,
   "id": "eefff8f3",
   "metadata": {},
   "outputs": [
    {
     "data": {
      "text/html": [
       "<div>\n",
       "<style scoped>\n",
       "    .dataframe tbody tr th:only-of-type {\n",
       "        vertical-align: middle;\n",
       "    }\n",
       "\n",
       "    .dataframe tbody tr th {\n",
       "        vertical-align: top;\n",
       "    }\n",
       "\n",
       "    .dataframe thead th {\n",
       "        text-align: right;\n",
       "    }\n",
       "</style>\n",
       "<table border=\"1\" class=\"dataframe\">\n",
       "  <thead>\n",
       "    <tr style=\"text-align: right;\">\n",
       "      <th></th>\n",
       "      <th>Ip_address</th>\n",
       "      <th>Date_Time</th>\n",
       "      <th>PID</th>\n",
       "      <th>Referer_Header</th>\n",
       "    </tr>\n",
       "  </thead>\n",
       "  <tbody>\n",
       "    <tr>\n",
       "      <th>0</th>\n",
       "      <td>192.168.10.4:55308]</td>\n",
       "      <td>[Sun Mar 01 06:28:15.983231 2020]</td>\n",
       "      <td>32548]</td>\n",
       "      <td>http://mail.cup.com/nag/\\n</td>\n",
       "    </tr>\n",
       "    <tr>\n",
       "      <th>1</th>\n",
       "      <td>192.168.10.4:55308]</td>\n",
       "      <td>[Sun Mar 01 06:28:15.984200 2020]</td>\n",
       "      <td>32548]</td>\n",
       "      <td>http://mail.cup.com/nag/\\n</td>\n",
       "    </tr>\n",
       "    <tr>\n",
       "      <th>2</th>\n",
       "      <td>192.168.10.4:55308]</td>\n",
       "      <td>[Sun Mar 01 06:28:15.984863 2020]</td>\n",
       "      <td>32548]</td>\n",
       "      <td>http://mail.cup.com/nag/\\n</td>\n",
       "    </tr>\n",
       "    <tr>\n",
       "      <th>3</th>\n",
       "      <td>192.168.10.4:55308]</td>\n",
       "      <td>[Sun Mar 01 06:28:15.985763 2020]</td>\n",
       "      <td>32548]</td>\n",
       "      <td>http://mail.cup.com/nag/\\n</td>\n",
       "    </tr>\n",
       "    <tr>\n",
       "      <th>4</th>\n",
       "      <td>192.168.10.4:55308]</td>\n",
       "      <td>[Sun Mar 01 06:28:15.986326 2020]</td>\n",
       "      <td>32548]</td>\n",
       "      <td>http://mail.cup.com/nag/\\n</td>\n",
       "    </tr>\n",
       "  </tbody>\n",
       "</table>\n",
       "</div>"
      ],
      "text/plain": [
       "            Ip_address                           Date_Time     PID  \\\n",
       "0  192.168.10.4:55308]  [Sun Mar 01 06:28:15.983231 2020]   32548]   \n",
       "1  192.168.10.4:55308]  [Sun Mar 01 06:28:15.984200 2020]   32548]   \n",
       "2  192.168.10.4:55308]  [Sun Mar 01 06:28:15.984863 2020]   32548]   \n",
       "3  192.168.10.4:55308]  [Sun Mar 01 06:28:15.985763 2020]   32548]   \n",
       "4  192.168.10.4:55308]  [Sun Mar 01 06:28:15.986326 2020]   32548]   \n",
       "\n",
       "               Referer_Header  \n",
       "0  http://mail.cup.com/nag/\\n  \n",
       "1  http://mail.cup.com/nag/\\n  \n",
       "2  http://mail.cup.com/nag/\\n  \n",
       "3  http://mail.cup.com/nag/\\n  \n",
       "4  http://mail.cup.com/nag/\\n  "
      ]
     },
     "execution_count": 21,
     "metadata": {},
     "output_type": "execute_result"
    }
   ],
   "source": [
    "error_log_data.head()"
   ]
  },
  {
   "cell_type": "markdown",
   "id": "ad40629e",
   "metadata": {},
   "source": [
    "## User log"
   ]
  },
  {
   "cell_type": "code",
   "execution_count": 22,
   "id": "5bc8b4aa",
   "metadata": {},
   "outputs": [],
   "source": [
    "def extract_date(log_line):\n",
    "    if not log_line.startswith(tuple([' <_','Message:'])):\n",
    "        if 'Next state:' in log_line:\n",
    "            date=log_line.split('.')[0]\n",
    "            return date\n",
    "        else:\n",
    "            pass\n",
    "    else:\n",
    "        pass"
   ]
  },
  {
   "cell_type": "code",
   "execution_count": 23,
   "id": "780a806e",
   "metadata": {},
   "outputs": [],
   "source": [
    "def extract_id(log_line):\n",
    "    if not log_line.startswith(tuple([' <_','Message:'])):\n",
    "        if 'Next state:' in log_line:\n",
    "            time_id=log_line.split('.')[1].split(' ')[0]\n",
    "            return time_id\n",
    "        else:\n",
    "            pass\n",
    "    else:\n",
    "        pass"
   ]
  },
  {
   "cell_type": "code",
   "execution_count": 24,
   "id": "089e3326",
   "metadata": {},
   "outputs": [],
   "source": [
    "def extract_next_state(log_line):\n",
    "    if not log_line.startswith(tuple([' <_','Message:'])):\n",
    "         if 'Next state:' in log_line:\n",
    "            nt_state=log_line.split('Next state:')[-1]\n",
    "            return nt_state\n",
    "         else:\n",
    "            pass\n",
    "    else:\n",
    "        pass"
   ]
  },
  {
   "cell_type": "code",
   "execution_count": 25,
   "id": "94bd5b16",
   "metadata": {},
   "outputs": [],
   "source": [
    "def extract_user(sub_dir,log_line):\n",
    "    if not log_line.startswith(tuple([' <_','Message:'])):\n",
    "        if 'Next state:' in log_line:\n",
    "            user=sub_dir\n",
    "            return user\n",
    "        else:\n",
    "            pass\n",
    "    else:\n",
    "        pass\n",
    "    "
   ]
  },
  {
   "cell_type": "code",
   "execution_count": 26,
   "id": "5f5bfbb1",
   "metadata": {},
   "outputs": [],
   "source": [
    "def get_user_data(data_dir):\n",
    "    date_lg= []\n",
    "    timeid = []\n",
    "    nxt_state = []\n",
    "    user_list = []\n",
    "    for sub_dir in os.listdir(data_dir):\n",
    "        date_log= []\n",
    "        time_id = []\n",
    "        nxt_stage = []\n",
    "        us_er=[]\n",
    "        user=sub_dir\n",
    "        sub_dir_path = os.path.join(data_dir,sub_dir)\n",
    "        for file in os.listdir(sub_dir_path):\n",
    "            file_path = os.path.join(sub_dir_path,file)\n",
    "            with open(file_path, 'r') as f:\n",
    "                data= f.readlines()\n",
    "                date=[extract_date(i) for i in data]\n",
    "                date_id=[extract_id(i) for i in data]\n",
    "                next_state=[extract_next_state(i) for i in data]\n",
    "                userlist=[extract_user(sub_dir,i) for i in data]\n",
    "                date_log.append(date)\n",
    "                time_id.append(date_id)\n",
    "                nxt_stage.append(next_state)\n",
    "                us_er.append(userlist)\n",
    "\n",
    "        dt = [d for i in date_log for d in i]\n",
    "        dt_id=[d_id for i in time_id for d_id in i]\n",
    "        nx_state=[ns for i in nxt_stage for ns in i]\n",
    "        web_user=[us for i in us_er for us in i]\n",
    "        date_lg.append(dt)\n",
    "        timeid.append(dt_id)\n",
    "        nxt_state.append(nx_state)\n",
    "        user_list.append(web_user)\n",
    "    date_lg = [d for i in date_lg for d in i]\n",
    "    timeid=[d_id for i in timeid for d_id in i]\n",
    "    nxt_state=[ns for i in nxt_state for ns in i]\n",
    "    user_list=[u for i in user_list for u in i]\n",
    "\n",
    "    user_data= {'Date_Time':date_lg,'Date_id':timeid,'Next_State': nxt_state,'User':user_list}\n",
    "    df=pd.DataFrame(user_data)\n",
    "    return df\n",
    "    #len(date_lg),len(timeid),len(nxt_state)\n",
    "   "
   ]
  },
  {
   "cell_type": "code",
   "execution_count": 27,
   "id": "fd0dac23",
   "metadata": {},
   "outputs": [],
   "source": [
    "user_data_dir='C:\\\\Users\\\\User\\\\Desktop\\\\cyber\\\\data\\\\user_data'"
   ]
  },
  {
   "cell_type": "code",
   "execution_count": 28,
   "id": "ae9dcad5",
   "metadata": {},
   "outputs": [],
   "source": [
    "user_data = get_user_data(user_data_dir)"
   ]
  },
  {
   "cell_type": "code",
   "execution_count": 36,
   "id": "bfac25c3",
   "metadata": {},
   "outputs": [
    {
     "data": {
      "text/html": [
       "<div>\n",
       "<style scoped>\n",
       "    .dataframe tbody tr th:only-of-type {\n",
       "        vertical-align: middle;\n",
       "    }\n",
       "\n",
       "    .dataframe tbody tr th {\n",
       "        vertical-align: top;\n",
       "    }\n",
       "\n",
       "    .dataframe thead th {\n",
       "        text-align: right;\n",
       "    }\n",
       "</style>\n",
       "<table border=\"1\" class=\"dataframe\">\n",
       "  <thead>\n",
       "    <tr style=\"text-align: right;\">\n",
       "      <th></th>\n",
       "      <th>Date_Time</th>\n",
       "      <th>Date_id</th>\n",
       "      <th>Next_State</th>\n",
       "      <th>User</th>\n",
       "    </tr>\n",
       "  </thead>\n",
       "  <tbody>\n",
       "    <tr>\n",
       "      <th>0</th>\n",
       "      <td>None</td>\n",
       "      <td>None</td>\n",
       "      <td>None</td>\n",
       "      <td>None</td>\n",
       "    </tr>\n",
       "    <tr>\n",
       "      <th>1</th>\n",
       "      <td>2020-02-28 19:14:41</td>\n",
       "      <td>123111</td>\n",
       "      <td>Login\\n</td>\n",
       "      <td>user-0</td>\n",
       "    </tr>\n",
       "    <tr>\n",
       "      <th>2</th>\n",
       "      <td>2020-02-28 19:14:57</td>\n",
       "      <td>244144</td>\n",
       "      <td>Personal Preferences\\n</td>\n",
       "      <td>user-0</td>\n",
       "    </tr>\n",
       "    <tr>\n",
       "      <th>3</th>\n",
       "      <td>2020-02-28 19:15:12</td>\n",
       "      <td>950956</td>\n",
       "      <td>Mail Delete Preferences\\n</td>\n",
       "      <td>user-0</td>\n",
       "    </tr>\n",
       "    <tr>\n",
       "      <th>4</th>\n",
       "      <td>2020-02-28 19:16:43</td>\n",
       "      <td>522902</td>\n",
       "      <td>Home\\n</td>\n",
       "      <td>user-0</td>\n",
       "    </tr>\n",
       "  </tbody>\n",
       "</table>\n",
       "</div>"
      ],
      "text/plain": [
       "             Date_Time Date_id                  Next_State    User\n",
       "0                 None    None                        None    None\n",
       "1  2020-02-28 19:14:41  123111                     Login\\n  user-0\n",
       "2  2020-02-28 19:14:57  244144      Personal Preferences\\n  user-0\n",
       "3  2020-02-28 19:15:12  950956   Mail Delete Preferences\\n  user-0\n",
       "4  2020-02-28 19:16:43  522902                      Home\\n  user-0"
      ]
     },
     "execution_count": 36,
     "metadata": {},
     "output_type": "execute_result"
    }
   ],
   "source": [
    "user_data.head()"
   ]
  },
  {
   "cell_type": "markdown",
   "id": "a3e9872d",
   "metadata": {},
   "source": [
    "## Attack log"
   ]
  },
  {
   "cell_type": "code",
   "execution_count": 29,
   "id": "7684327b",
   "metadata": {},
   "outputs": [],
   "source": [
    "def extract_attack_date(log_line):\n",
    "    date=log_line.split('UTC 2020')[0]\n",
    "    return date"
   ]
  },
  {
   "cell_type": "code",
   "execution_count": 30,
   "id": "4a47f51c",
   "metadata": {},
   "outputs": [],
   "source": [
    "def extract_attack_status(log_line):\n",
    "    status=log_line.split('UTC 2020')[1]\n",
    "    return status"
   ]
  },
  {
   "cell_type": "code",
   "execution_count": 31,
   "id": "4fddab49",
   "metadata": {},
   "outputs": [],
   "source": [
    "def extract_attack_user(sub_dir,log_line):\n",
    "    user=sub_dir\n",
    "    return user"
   ]
  },
  {
   "cell_type": "code",
   "execution_count": 32,
   "id": "22644885",
   "metadata": {},
   "outputs": [],
   "source": [
    "def get_attack_data(data_dir):\n",
    "    date_lg= []\n",
    "    status = []\n",
    "    user_list = []\n",
    "    for sub_dir in os.listdir(data_dir):\n",
    "        date_log= []\n",
    "        stat = []\n",
    "        us_er=[]\n",
    "        user=sub_dir\n",
    "        sub_dir_path = os.path.join(data_dir,sub_dir)\n",
    "        for file in os.listdir(sub_dir_path):\n",
    "            file_path = os.path.join(sub_dir_path,file)\n",
    "            with open(file_path, 'r') as f:\n",
    "                data= f.readlines()\n",
    "                date=[extract_attack_date(i) for i in data]\n",
    "                attack_stat=[extract_attack_status(i) for i in data]\n",
    "                userlist=[extract_attack_user(sub_dir,i) for i in data]\n",
    "                date_log.append(date)\n",
    "                stat.append(attack_stat)\n",
    "                us_er.append(userlist)\n",
    "\n",
    "        dt = [d for i in date_log for d in i]\n",
    "        attk_stat=[s for i in stat for s in i]\n",
    "        web_user=[us for i in us_er for us in i]\n",
    "        date_lg.append(dt)\n",
    "        status.append(attk_stat)\n",
    "        user_list.append(web_user)\n",
    "    date_lg = [d for i in date_lg for d in i]\n",
    "    status=[s for i in status for s in i]\n",
    "    user_list=[u for i in user_list for u in i]\n",
    "    user_data= {'Date_Time':date_lg,'Status':status,'User':user_list}\n",
    "    df=pd.DataFrame(user_data)\n",
    "    return df\n",
    "    #len(date_lg),len(timeid),len(nxt_state)\n",
    "   "
   ]
  },
  {
   "cell_type": "code",
   "execution_count": 33,
   "id": "a33ad5c1",
   "metadata": {},
   "outputs": [],
   "source": [
    "attack_data_dir='C:\\\\Users\\\\User\\\\Desktop\\\\cyber\\\\data\\\\attack_data'"
   ]
  },
  {
   "cell_type": "code",
   "execution_count": 34,
   "id": "058f26b4",
   "metadata": {},
   "outputs": [],
   "source": [
    "attack_data=get_attack_data(attack_data_dir)"
   ]
  },
  {
   "cell_type": "code",
   "execution_count": 35,
   "id": "c25341af",
   "metadata": {},
   "outputs": [
    {
     "data": {
      "text/html": [
       "<div>\n",
       "<style scoped>\n",
       "    .dataframe tbody tr th:only-of-type {\n",
       "        vertical-align: middle;\n",
       "    }\n",
       "\n",
       "    .dataframe tbody tr th {\n",
       "        vertical-align: top;\n",
       "    }\n",
       "\n",
       "    .dataframe thead th {\n",
       "        text-align: right;\n",
       "    }\n",
       "</style>\n",
       "<table border=\"1\" class=\"dataframe\">\n",
       "  <thead>\n",
       "    <tr style=\"text-align: right;\">\n",
       "      <th></th>\n",
       "      <th>Date_Time</th>\n",
       "      <th>Status</th>\n",
       "      <th>User</th>\n",
       "    </tr>\n",
       "  </thead>\n",
       "  <tbody>\n",
       "    <tr>\n",
       "      <th>0</th>\n",
       "      <td>Wed Mar 4 12:37:51</td>\n",
       "      <td>okay-upload-webshell\\n</td>\n",
       "      <td>user-4</td>\n",
       "    </tr>\n",
       "    <tr>\n",
       "      <th>1</th>\n",
       "      <td>Wed Mar 4 12:37:51</td>\n",
       "      <td>success\\n</td>\n",
       "      <td>user-4</td>\n",
       "    </tr>\n",
       "    <tr>\n",
       "      <th>2</th>\n",
       "      <td>Wed Mar 4 12:38:05</td>\n",
       "      <td>okay-curl\\n</td>\n",
       "      <td>user-4</td>\n",
       "    </tr>\n",
       "    <tr>\n",
       "      <th>3</th>\n",
       "      <td>Wed Mar 4 12:38:05</td>\n",
       "      <td>success\\n</td>\n",
       "      <td>user-4</td>\n",
       "    </tr>\n",
       "    <tr>\n",
       "      <th>4</th>\n",
       "      <td>Wed Mar 4 13:51:47</td>\n",
       "      <td>nmap\\n</td>\n",
       "      <td>user-4</td>\n",
       "    </tr>\n",
       "  </tbody>\n",
       "</table>\n",
       "</div>"
      ],
      "text/plain": [
       "             Date_Time                   Status    User\n",
       "0  Wed Mar 4 12:37:51    okay-upload-webshell\\n  user-4\n",
       "1  Wed Mar 4 12:37:51                 success\\n  user-4\n",
       "2  Wed Mar 4 12:38:05               okay-curl\\n  user-4\n",
       "3  Wed Mar 4 12:38:05                 success\\n  user-4\n",
       "4  Wed Mar 4 13:51:47                    nmap\\n  user-4"
      ]
     },
     "execution_count": 35,
     "metadata": {},
     "output_type": "execute_result"
    }
   ],
   "source": [
    "attack_data.head()"
   ]
  },
  {
   "cell_type": "markdown",
   "id": "b4eba5d5",
   "metadata": {},
   "source": [
    "# Log Data Cleaning and Preparation"
   ]
  },
  {
   "cell_type": "markdown",
   "id": "5aa594fe",
   "metadata": {},
   "source": [
    "## server_access log"
   ]
  },
  {
   "cell_type": "code",
   "execution_count": 37,
   "id": "b4c19b57",
   "metadata": {},
   "outputs": [
    {
     "data": {
      "text/html": [
       "<div>\n",
       "<style scoped>\n",
       "    .dataframe tbody tr th:only-of-type {\n",
       "        vertical-align: middle;\n",
       "    }\n",
       "\n",
       "    .dataframe tbody tr th {\n",
       "        vertical-align: top;\n",
       "    }\n",
       "\n",
       "    .dataframe thead th {\n",
       "        text-align: right;\n",
       "    }\n",
       "</style>\n",
       "<table border=\"1\" class=\"dataframe\">\n",
       "  <thead>\n",
       "    <tr style=\"text-align: right;\">\n",
       "      <th></th>\n",
       "      <th>Ip_address</th>\n",
       "      <th>Date_Time</th>\n",
       "      <th>Method_of_request</th>\n",
       "      <th>Status_of_request</th>\n",
       "      <th>Referer_Header</th>\n",
       "      <th>User_Header</th>\n",
       "    </tr>\n",
       "  </thead>\n",
       "  <tbody>\n",
       "    <tr>\n",
       "      <th>0</th>\n",
       "      <td>192.168.10.190</td>\n",
       "      <td>[29/Feb/2020:00:00:02 +0000]</td>\n",
       "      <td>GET /login.php HTTP/1.1</td>\n",
       "      <td>200 2532</td>\n",
       "      <td>-</td>\n",
       "      <td>Mozilla/5.0 (X11; Ubuntu; Linux x86_64; rv:73....</td>\n",
       "    </tr>\n",
       "    <tr>\n",
       "      <th>1</th>\n",
       "      <td>192.168.10.4</td>\n",
       "      <td>[29/Feb/2020:00:00:09 +0000]</td>\n",
       "      <td>POST /services/ajax.php/kronolith/listTopTags ...</td>\n",
       "      <td>200 402</td>\n",
       "      <td>http://mail.cup.com/kronolith/</td>\n",
       "      <td>Mozilla/5.0 (X11; Linux x86_64) AppleWebKit/53...</td>\n",
       "    </tr>\n",
       "    <tr>\n",
       "      <th>2</th>\n",
       "      <td>192.168.10.190</td>\n",
       "      <td>[29/Feb/2020:00:00:12 +0000]</td>\n",
       "      <td>POST /login.php HTTP/1.1</td>\n",
       "      <td>302 601</td>\n",
       "      <td>http://mail.cup.com/login.php</td>\n",
       "      <td>Mozilla/5.0 (X11; Ubuntu; Linux x86_64; rv:73....</td>\n",
       "    </tr>\n",
       "    <tr>\n",
       "      <th>3</th>\n",
       "      <td>192.168.10.190</td>\n",
       "      <td>[29/Feb/2020:00:00:13 +0000]</td>\n",
       "      <td>GET /services/portal/ HTTP/1.1</td>\n",
       "      <td>200 7696</td>\n",
       "      <td>http://mail.cup.com/login.php</td>\n",
       "      <td>Mozilla/5.0 (X11; Ubuntu; Linux x86_64; rv:73....</td>\n",
       "    </tr>\n",
       "    <tr>\n",
       "      <th>4</th>\n",
       "      <td>192.168.10.190</td>\n",
       "      <td>[29/Feb/2020:00:00:14 +0000]</td>\n",
       "      <td>GET /themes/default/graphics/head-bg.png HTTP/1.1</td>\n",
       "      <td>200 380</td>\n",
       "      <td>http://mail.cup.com/themes/default/screen.css</td>\n",
       "      <td>Mozilla/5.0 (X11; Ubuntu; Linux x86_64; rv:73....</td>\n",
       "    </tr>\n",
       "  </tbody>\n",
       "</table>\n",
       "</div>"
      ],
      "text/plain": [
       "       Ip_address                       Date_Time  \\\n",
       "0  192.168.10.190   [29/Feb/2020:00:00:02 +0000]    \n",
       "1    192.168.10.4   [29/Feb/2020:00:00:09 +0000]    \n",
       "2  192.168.10.190   [29/Feb/2020:00:00:12 +0000]    \n",
       "3  192.168.10.190   [29/Feb/2020:00:00:13 +0000]    \n",
       "4  192.168.10.190   [29/Feb/2020:00:00:14 +0000]    \n",
       "\n",
       "                                   Method_of_request Status_of_request  \\\n",
       "0                            GET /login.php HTTP/1.1         200 2532    \n",
       "1  POST /services/ajax.php/kronolith/listTopTags ...          200 402    \n",
       "2                           POST /login.php HTTP/1.1          302 601    \n",
       "3                     GET /services/portal/ HTTP/1.1         200 7696    \n",
       "4  GET /themes/default/graphics/head-bg.png HTTP/1.1          200 380    \n",
       "\n",
       "                                  Referer_Header  \\\n",
       "0                                              -   \n",
       "1                 http://mail.cup.com/kronolith/   \n",
       "2                  http://mail.cup.com/login.php   \n",
       "3                  http://mail.cup.com/login.php   \n",
       "4  http://mail.cup.com/themes/default/screen.css   \n",
       "\n",
       "                                         User_Header  \n",
       "0  Mozilla/5.0 (X11; Ubuntu; Linux x86_64; rv:73....  \n",
       "1  Mozilla/5.0 (X11; Linux x86_64) AppleWebKit/53...  \n",
       "2  Mozilla/5.0 (X11; Ubuntu; Linux x86_64; rv:73....  \n",
       "3  Mozilla/5.0 (X11; Ubuntu; Linux x86_64; rv:73....  \n",
       "4  Mozilla/5.0 (X11; Ubuntu; Linux x86_64; rv:73....  "
      ]
     },
     "execution_count": 37,
     "metadata": {},
     "output_type": "execute_result"
    }
   ],
   "source": [
    "access_log_data.head()"
   ]
  },
  {
   "cell_type": "code",
   "execution_count": 43,
   "id": "57ed125e",
   "metadata": {},
   "outputs": [
    {
     "data": {
      "text/plain": [
       "array(['192.168.10.190', '192.168.10.4',\n",
       "       'request was made from the same machine', '192.168.10.238',\n",
       "       '192.168.10.200', '192.168.10.18', '192.168.10.98',\n",
       "       '192.168.10.161', '192.168.10.185', '192.168.10.81',\n",
       "       '192.168.10.130', '192.168.10.194'], dtype=object)"
      ]
     },
     "execution_count": 43,
     "metadata": {},
     "output_type": "execute_result"
    }
   ],
   "source": [
    "access_log_data.Ip_address.unique()"
   ]
  },
  {
   "cell_type": "code",
   "execution_count": 175,
   "id": "c5b2fb73",
   "metadata": {},
   "outputs": [],
   "source": [
    "access_data=access_log_data[access_log_data.Ip_address!='request was made from the same machine'].reset_index(drop=True)"
   ]
  },
  {
   "cell_type": "code",
   "execution_count": 176,
   "id": "c74c6d13",
   "metadata": {},
   "outputs": [
    {
     "data": {
      "text/plain": [
       "['', '200', '8808', '']"
      ]
     },
     "execution_count": 176,
     "metadata": {},
     "output_type": "execute_result"
    }
   ],
   "source": [
    "access_data.Status_of_request[11].split(' ')\n"
   ]
  },
  {
   "cell_type": "code",
   "execution_count": 177,
   "id": "b79bb91c",
   "metadata": {},
   "outputs": [],
   "source": [
    "def status_code(data):\n",
    "    status=data[:3]\n",
    "    return status"
   ]
  },
  {
   "cell_type": "code",
   "execution_count": 178,
   "id": "20b2ae36",
   "metadata": {},
   "outputs": [],
   "source": [
    "def respond_byte(data):\n",
    "    res_byte=data[3:]\n",
    "    return res_byte"
   ]
  },
  {
   "cell_type": "code",
   "execution_count": 179,
   "id": "18fe6754",
   "metadata": {},
   "outputs": [],
   "source": [
    "def request_method(data):\n",
    "    request_method=data.split(' ')[0]\n",
    "    return request_method"
   ]
  },
  {
   "cell_type": "code",
   "execution_count": 180,
   "id": "19aa110e",
   "metadata": {},
   "outputs": [],
   "source": [
    "def request_url(data):\n",
    "    url=data.split(' ')[-2]\n",
    "    return url"
   ]
  },
  {
   "cell_type": "code",
   "execution_count": null,
   "id": "cbd5a8dc",
   "metadata": {},
   "outputs": [],
   "source": []
  },
  {
   "cell_type": "code",
   "execution_count": 181,
   "id": "f4eeafe9",
   "metadata": {},
   "outputs": [],
   "source": [
    "def remove_bracket(data):\n",
    "    data=data.replace('[',' ')\n",
    "    data=data.replace(']',' ')\n",
    "    return data\n",
    "    "
   ]
  },
  {
   "cell_type": "code",
   "execution_count": 182,
   "id": "42d49100",
   "metadata": {},
   "outputs": [
    {
     "data": {
      "text/plain": [
       "12737"
      ]
     },
     "execution_count": 182,
     "metadata": {},
     "output_type": "execute_result"
    }
   ],
   "source": [
    "access_data.Status_of_request.nunique()"
   ]
  },
  {
   "cell_type": "code",
   "execution_count": 183,
   "id": "a3b96985",
   "metadata": {},
   "outputs": [
    {
     "data": {
      "text/html": [
       "<div>\n",
       "<style scoped>\n",
       "    .dataframe tbody tr th:only-of-type {\n",
       "        vertical-align: middle;\n",
       "    }\n",
       "\n",
       "    .dataframe tbody tr th {\n",
       "        vertical-align: top;\n",
       "    }\n",
       "\n",
       "    .dataframe thead th {\n",
       "        text-align: right;\n",
       "    }\n",
       "</style>\n",
       "<table border=\"1\" class=\"dataframe\">\n",
       "  <thead>\n",
       "    <tr style=\"text-align: right;\">\n",
       "      <th></th>\n",
       "      <th>Ip_address</th>\n",
       "      <th>Date_Time</th>\n",
       "      <th>Method_of_request</th>\n",
       "      <th>Status_of_request</th>\n",
       "      <th>Referer_Header</th>\n",
       "      <th>User_Header</th>\n",
       "    </tr>\n",
       "  </thead>\n",
       "  <tbody>\n",
       "  </tbody>\n",
       "</table>\n",
       "</div>"
      ],
      "text/plain": [
       "Empty DataFrame\n",
       "Columns: [Ip_address, Date_Time, Method_of_request, Status_of_request, Referer_Header, User_Header]\n",
       "Index: []"
      ]
     },
     "execution_count": 183,
     "metadata": {},
     "output_type": "execute_result"
    }
   ],
   "source": [
    "access_data[access_data.Method_of_request=='<script>alert(1)</script>']"
   ]
  },
  {
   "cell_type": "code",
   "execution_count": 184,
   "id": "dd77f235",
   "metadata": {},
   "outputs": [
    {
     "data": {
      "text/plain": [
       "0           200 2532 \n",
       "1            200 402 \n",
       "2            302 601 \n",
       "3           200 7696 \n",
       "4            200 380 \n",
       "             ...     \n",
       "483827     200 19513 \n",
       "483828       302 492 \n",
       "483829     200 21290 \n",
       "483830     200 10442 \n",
       "483831      200 3843 \n",
       "Name: Status_of_request, Length: 483832, dtype: object"
      ]
     },
     "execution_count": 184,
     "metadata": {},
     "output_type": "execute_result"
    }
   ],
   "source": [
    "access_data.Status_of_request"
   ]
  },
  {
   "cell_type": "code",
   "execution_count": 185,
   "id": "03acf63e",
   "metadata": {},
   "outputs": [],
   "source": [
    "def remove_space(data):\n",
    "    data=data.replace('  ',\"\")\n",
    "    data=data.replace(' ',\"\")\n",
    "    return data"
   ]
  },
  {
   "cell_type": "code",
   "execution_count": 186,
   "id": "b680b1e7",
   "metadata": {},
   "outputs": [],
   "source": [
    "access_data.Date_Time=access_data.Date_Time.apply(lambda x:remove_bracket(x))\n",
    "access_data.Date_Time=access_data.Date_Time.apply(lambda x:remove_space(x))"
   ]
  },
  {
   "cell_type": "code",
   "execution_count": 187,
   "id": "d8492934",
   "metadata": {},
   "outputs": [],
   "source": [
    "access_data['Request_Method']=access_data.Method_of_request.apply(lambda x:request_method(x))\n",
    "access_data['Request_status']=access_data.Status_of_request.apply(lambda x:remove_space(x))\n",
    "access_data.Request_status=access_data.Request_status.apply(lambda x:status_code(x))\n",
    "access_data['Response_byte']=access_data.Status_of_request.apply(lambda x:remove_space(x))\n",
    "access_data.Response_byte=access_data.Response_byte.apply(lambda x:respond_byte(x))\n"
   ]
  },
  {
   "cell_type": "code",
   "execution_count": 188,
   "id": "6eed1303",
   "metadata": {},
   "outputs": [
    {
     "data": {
      "text/html": [
       "<div>\n",
       "<style scoped>\n",
       "    .dataframe tbody tr th:only-of-type {\n",
       "        vertical-align: middle;\n",
       "    }\n",
       "\n",
       "    .dataframe tbody tr th {\n",
       "        vertical-align: top;\n",
       "    }\n",
       "\n",
       "    .dataframe thead th {\n",
       "        text-align: right;\n",
       "    }\n",
       "</style>\n",
       "<table border=\"1\" class=\"dataframe\">\n",
       "  <thead>\n",
       "    <tr style=\"text-align: right;\">\n",
       "      <th></th>\n",
       "      <th>Ip_address</th>\n",
       "      <th>Date_Time</th>\n",
       "      <th>Method_of_request</th>\n",
       "      <th>Status_of_request</th>\n",
       "      <th>Referer_Header</th>\n",
       "      <th>User_Header</th>\n",
       "      <th>Request_Method</th>\n",
       "      <th>Request_status</th>\n",
       "      <th>Response_byte</th>\n",
       "    </tr>\n",
       "  </thead>\n",
       "  <tbody>\n",
       "    <tr>\n",
       "      <th>0</th>\n",
       "      <td>192.168.10.190</td>\n",
       "      <td>29/Feb/2020:00:00:02+0000</td>\n",
       "      <td>GET /login.php HTTP/1.1</td>\n",
       "      <td>200 2532</td>\n",
       "      <td>-</td>\n",
       "      <td>Mozilla/5.0 (X11; Ubuntu; Linux x86_64; rv:73....</td>\n",
       "      <td>GET</td>\n",
       "      <td>200</td>\n",
       "      <td>2532</td>\n",
       "    </tr>\n",
       "    <tr>\n",
       "      <th>1</th>\n",
       "      <td>192.168.10.4</td>\n",
       "      <td>29/Feb/2020:00:00:09+0000</td>\n",
       "      <td>POST /services/ajax.php/kronolith/listTopTags ...</td>\n",
       "      <td>200 402</td>\n",
       "      <td>http://mail.cup.com/kronolith/</td>\n",
       "      <td>Mozilla/5.0 (X11; Linux x86_64) AppleWebKit/53...</td>\n",
       "      <td>POST</td>\n",
       "      <td>200</td>\n",
       "      <td>402</td>\n",
       "    </tr>\n",
       "    <tr>\n",
       "      <th>2</th>\n",
       "      <td>192.168.10.190</td>\n",
       "      <td>29/Feb/2020:00:00:12+0000</td>\n",
       "      <td>POST /login.php HTTP/1.1</td>\n",
       "      <td>302 601</td>\n",
       "      <td>http://mail.cup.com/login.php</td>\n",
       "      <td>Mozilla/5.0 (X11; Ubuntu; Linux x86_64; rv:73....</td>\n",
       "      <td>POST</td>\n",
       "      <td>302</td>\n",
       "      <td>601</td>\n",
       "    </tr>\n",
       "    <tr>\n",
       "      <th>3</th>\n",
       "      <td>192.168.10.190</td>\n",
       "      <td>29/Feb/2020:00:00:13+0000</td>\n",
       "      <td>GET /services/portal/ HTTP/1.1</td>\n",
       "      <td>200 7696</td>\n",
       "      <td>http://mail.cup.com/login.php</td>\n",
       "      <td>Mozilla/5.0 (X11; Ubuntu; Linux x86_64; rv:73....</td>\n",
       "      <td>GET</td>\n",
       "      <td>200</td>\n",
       "      <td>7696</td>\n",
       "    </tr>\n",
       "    <tr>\n",
       "      <th>4</th>\n",
       "      <td>192.168.10.190</td>\n",
       "      <td>29/Feb/2020:00:00:14+0000</td>\n",
       "      <td>GET /themes/default/graphics/head-bg.png HTTP/1.1</td>\n",
       "      <td>200 380</td>\n",
       "      <td>http://mail.cup.com/themes/default/screen.css</td>\n",
       "      <td>Mozilla/5.0 (X11; Ubuntu; Linux x86_64; rv:73....</td>\n",
       "      <td>GET</td>\n",
       "      <td>200</td>\n",
       "      <td>380</td>\n",
       "    </tr>\n",
       "  </tbody>\n",
       "</table>\n",
       "</div>"
      ],
      "text/plain": [
       "       Ip_address                  Date_Time  \\\n",
       "0  192.168.10.190  29/Feb/2020:00:00:02+0000   \n",
       "1    192.168.10.4  29/Feb/2020:00:00:09+0000   \n",
       "2  192.168.10.190  29/Feb/2020:00:00:12+0000   \n",
       "3  192.168.10.190  29/Feb/2020:00:00:13+0000   \n",
       "4  192.168.10.190  29/Feb/2020:00:00:14+0000   \n",
       "\n",
       "                                   Method_of_request Status_of_request  \\\n",
       "0                            GET /login.php HTTP/1.1         200 2532    \n",
       "1  POST /services/ajax.php/kronolith/listTopTags ...          200 402    \n",
       "2                           POST /login.php HTTP/1.1          302 601    \n",
       "3                     GET /services/portal/ HTTP/1.1         200 7696    \n",
       "4  GET /themes/default/graphics/head-bg.png HTTP/1.1          200 380    \n",
       "\n",
       "                                  Referer_Header  \\\n",
       "0                                              -   \n",
       "1                 http://mail.cup.com/kronolith/   \n",
       "2                  http://mail.cup.com/login.php   \n",
       "3                  http://mail.cup.com/login.php   \n",
       "4  http://mail.cup.com/themes/default/screen.css   \n",
       "\n",
       "                                         User_Header Request_Method  \\\n",
       "0  Mozilla/5.0 (X11; Ubuntu; Linux x86_64; rv:73....            GET   \n",
       "1  Mozilla/5.0 (X11; Linux x86_64) AppleWebKit/53...           POST   \n",
       "2  Mozilla/5.0 (X11; Ubuntu; Linux x86_64; rv:73....           POST   \n",
       "3  Mozilla/5.0 (X11; Ubuntu; Linux x86_64; rv:73....            GET   \n",
       "4  Mozilla/5.0 (X11; Ubuntu; Linux x86_64; rv:73....            GET   \n",
       "\n",
       "  Request_status Response_byte  \n",
       "0            200          2532  \n",
       "1            200           402  \n",
       "2            302           601  \n",
       "3            200          7696  \n",
       "4            200           380  "
      ]
     },
     "execution_count": 188,
     "metadata": {},
     "output_type": "execute_result"
    }
   ],
   "source": [
    "access_data.head()"
   ]
  },
  {
   "cell_type": "code",
   "execution_count": 189,
   "id": "90fddef6",
   "metadata": {},
   "outputs": [
    {
     "data": {
      "text/plain": [
       "Index(['Ip_address', 'Date_Time', 'Method_of_request', 'Status_of_request',\n",
       "       'Referer_Header', 'User_Header', 'Request_Method', 'Request_status',\n",
       "       'Response_byte'],\n",
       "      dtype='object')"
      ]
     },
     "execution_count": 189,
     "metadata": {},
     "output_type": "execute_result"
    }
   ],
   "source": [
    "access_data.columns"
   ]
  },
  {
   "cell_type": "code",
   "execution_count": 200,
   "id": "50d74907",
   "metadata": {},
   "outputs": [],
   "source": [
    "access_data=access_data[['Ip_address', 'Date_Time', 'Method_of_request', 'Request_Method', 'Request_status','Referer_Header', 'User_Header']]"
   ]
  },
  {
   "cell_type": "code",
   "execution_count": 202,
   "id": "518193c4",
   "metadata": {},
   "outputs": [],
   "source": [
    "#access_data.Date_Time=access_data.Date_Time.apply(lambda x:x.split(':')[0])"
   ]
  },
  {
   "cell_type": "code",
   "execution_count": null,
   "id": "0c365ef0",
   "metadata": {},
   "outputs": [],
   "source": []
  },
  {
   "cell_type": "code",
   "execution_count": 203,
   "id": "496945d9",
   "metadata": {},
   "outputs": [
    {
     "name": "stderr",
     "output_type": "stream",
     "text": [
      "C:\\Users\\User\\AppData\\Local\\Temp\\ipykernel_5292\\2237950982.py:1: SettingWithCopyWarning: \n",
      "A value is trying to be set on a copy of a slice from a DataFrame.\n",
      "Try using .loc[row_indexer,col_indexer] = value instead\n",
      "\n",
      "See the caveats in the documentation: https://pandas.pydata.org/pandas-docs/stable/user_guide/indexing.html#returning-a-view-versus-a-copy\n",
      "  access_data['Date_Time']=pd.to_datetime(access_data['Date_Time'])\n"
     ]
    }
   ],
   "source": [
    "access_data['Date_Time']=pd.to_datetime(access_data['Date_Time'])"
   ]
  },
  {
   "cell_type": "code",
   "execution_count": 213,
   "id": "7bdc1cb9",
   "metadata": {},
   "outputs": [
    {
     "data": {
      "text/plain": [
       "array(['GET', 'POST', '-', 'HEAD', 'PUT', 'OPTIONS', 'DEBUG', 'PROPFIND',\n",
       "       'TRACE', 'TRACK', 'get', 'INDEX', 'SEARCH',\n",
       "       '<script>alert(1)</script>'], dtype=object)"
      ]
     },
     "execution_count": 213,
     "metadata": {},
     "output_type": "execute_result"
    }
   ],
   "source": [
    "access_data.Request_Method.unique()"
   ]
  },
  {
   "cell_type": "code",
   "execution_count": 218,
   "id": "abc03078",
   "metadata": {},
   "outputs": [
    {
     "data": {
      "text/html": [
       "<div>\n",
       "<style scoped>\n",
       "    .dataframe tbody tr th:only-of-type {\n",
       "        vertical-align: middle;\n",
       "    }\n",
       "\n",
       "    .dataframe tbody tr th {\n",
       "        vertical-align: top;\n",
       "    }\n",
       "\n",
       "    .dataframe thead th {\n",
       "        text-align: right;\n",
       "    }\n",
       "</style>\n",
       "<table border=\"1\" class=\"dataframe\">\n",
       "  <thead>\n",
       "    <tr style=\"text-align: right;\">\n",
       "      <th></th>\n",
       "      <th>Ip_address</th>\n",
       "      <th>Date_Time</th>\n",
       "      <th>Method_of_request</th>\n",
       "      <th>Request_Method</th>\n",
       "      <th>Request_status</th>\n",
       "      <th>Referer_Header</th>\n",
       "      <th>User_Header</th>\n",
       "    </tr>\n",
       "  </thead>\n",
       "  <tbody>\n",
       "    <tr>\n",
       "      <th>0</th>\n",
       "      <td>192.168.10.190</td>\n",
       "      <td>2020-02-29</td>\n",
       "      <td>GET /login.php HTTP/1.1</td>\n",
       "      <td>GET</td>\n",
       "      <td>200</td>\n",
       "      <td>-</td>\n",
       "      <td>Mozilla/5.0 (X11; Ubuntu; Linux x86_64; rv:73....</td>\n",
       "    </tr>\n",
       "    <tr>\n",
       "      <th>1</th>\n",
       "      <td>192.168.10.4</td>\n",
       "      <td>2020-02-29</td>\n",
       "      <td>POST /services/ajax.php/kronolith/listTopTags ...</td>\n",
       "      <td>POST</td>\n",
       "      <td>200</td>\n",
       "      <td>http://mail.cup.com/kronolith/</td>\n",
       "      <td>Mozilla/5.0 (X11; Linux x86_64) AppleWebKit/53...</td>\n",
       "    </tr>\n",
       "    <tr>\n",
       "      <th>2</th>\n",
       "      <td>192.168.10.190</td>\n",
       "      <td>2020-02-29</td>\n",
       "      <td>POST /login.php HTTP/1.1</td>\n",
       "      <td>POST</td>\n",
       "      <td>302</td>\n",
       "      <td>http://mail.cup.com/login.php</td>\n",
       "      <td>Mozilla/5.0 (X11; Ubuntu; Linux x86_64; rv:73....</td>\n",
       "    </tr>\n",
       "    <tr>\n",
       "      <th>3</th>\n",
       "      <td>192.168.10.190</td>\n",
       "      <td>2020-02-29</td>\n",
       "      <td>GET /services/portal/ HTTP/1.1</td>\n",
       "      <td>GET</td>\n",
       "      <td>200</td>\n",
       "      <td>http://mail.cup.com/login.php</td>\n",
       "      <td>Mozilla/5.0 (X11; Ubuntu; Linux x86_64; rv:73....</td>\n",
       "    </tr>\n",
       "    <tr>\n",
       "      <th>4</th>\n",
       "      <td>192.168.10.190</td>\n",
       "      <td>2020-02-29</td>\n",
       "      <td>GET /themes/default/graphics/head-bg.png HTTP/1.1</td>\n",
       "      <td>GET</td>\n",
       "      <td>200</td>\n",
       "      <td>http://mail.cup.com/themes/default/screen.css</td>\n",
       "      <td>Mozilla/5.0 (X11; Ubuntu; Linux x86_64; rv:73....</td>\n",
       "    </tr>\n",
       "  </tbody>\n",
       "</table>\n",
       "</div>"
      ],
      "text/plain": [
       "       Ip_address  Date_Time  \\\n",
       "0  192.168.10.190 2020-02-29   \n",
       "1    192.168.10.4 2020-02-29   \n",
       "2  192.168.10.190 2020-02-29   \n",
       "3  192.168.10.190 2020-02-29   \n",
       "4  192.168.10.190 2020-02-29   \n",
       "\n",
       "                                   Method_of_request Request_Method  \\\n",
       "0                            GET /login.php HTTP/1.1            GET   \n",
       "1  POST /services/ajax.php/kronolith/listTopTags ...           POST   \n",
       "2                           POST /login.php HTTP/1.1           POST   \n",
       "3                     GET /services/portal/ HTTP/1.1            GET   \n",
       "4  GET /themes/default/graphics/head-bg.png HTTP/1.1            GET   \n",
       "\n",
       "  Request_status                                 Referer_Header  \\\n",
       "0            200                                              -   \n",
       "1            200                 http://mail.cup.com/kronolith/   \n",
       "2            302                  http://mail.cup.com/login.php   \n",
       "3            200                  http://mail.cup.com/login.php   \n",
       "4            200  http://mail.cup.com/themes/default/screen.css   \n",
       "\n",
       "                                         User_Header  \n",
       "0  Mozilla/5.0 (X11; Ubuntu; Linux x86_64; rv:73....  \n",
       "1  Mozilla/5.0 (X11; Linux x86_64) AppleWebKit/53...  \n",
       "2  Mozilla/5.0 (X11; Ubuntu; Linux x86_64; rv:73....  \n",
       "3  Mozilla/5.0 (X11; Ubuntu; Linux x86_64; rv:73....  \n",
       "4  Mozilla/5.0 (X11; Ubuntu; Linux x86_64; rv:73....  "
      ]
     },
     "execution_count": 218,
     "metadata": {},
     "output_type": "execute_result"
    }
   ],
   "source": [
    "access_data.head()"
   ]
  },
  {
   "cell_type": "markdown",
   "id": "4df7d71b",
   "metadata": {},
   "source": [
    "## Error data log"
   ]
  },
  {
   "cell_type": "code",
   "execution_count": 219,
   "id": "79d4dd3c",
   "metadata": {},
   "outputs": [
    {
     "data": {
      "text/html": [
       "<div>\n",
       "<style scoped>\n",
       "    .dataframe tbody tr th:only-of-type {\n",
       "        vertical-align: middle;\n",
       "    }\n",
       "\n",
       "    .dataframe tbody tr th {\n",
       "        vertical-align: top;\n",
       "    }\n",
       "\n",
       "    .dataframe thead th {\n",
       "        text-align: right;\n",
       "    }\n",
       "</style>\n",
       "<table border=\"1\" class=\"dataframe\">\n",
       "  <thead>\n",
       "    <tr style=\"text-align: right;\">\n",
       "      <th></th>\n",
       "      <th>Ip_address</th>\n",
       "      <th>Date_Time</th>\n",
       "      <th>PID</th>\n",
       "      <th>Referer_Header</th>\n",
       "    </tr>\n",
       "  </thead>\n",
       "  <tbody>\n",
       "    <tr>\n",
       "      <th>0</th>\n",
       "      <td>192.168.10.4:55308]</td>\n",
       "      <td>[Sun Mar 01 06:28:15.983231 2020]</td>\n",
       "      <td>32548]</td>\n",
       "      <td>http://mail.cup.com/nag/\\n</td>\n",
       "    </tr>\n",
       "    <tr>\n",
       "      <th>1</th>\n",
       "      <td>192.168.10.4:55308]</td>\n",
       "      <td>[Sun Mar 01 06:28:15.984200 2020]</td>\n",
       "      <td>32548]</td>\n",
       "      <td>http://mail.cup.com/nag/\\n</td>\n",
       "    </tr>\n",
       "    <tr>\n",
       "      <th>2</th>\n",
       "      <td>192.168.10.4:55308]</td>\n",
       "      <td>[Sun Mar 01 06:28:15.984863 2020]</td>\n",
       "      <td>32548]</td>\n",
       "      <td>http://mail.cup.com/nag/\\n</td>\n",
       "    </tr>\n",
       "    <tr>\n",
       "      <th>3</th>\n",
       "      <td>192.168.10.4:55308]</td>\n",
       "      <td>[Sun Mar 01 06:28:15.985763 2020]</td>\n",
       "      <td>32548]</td>\n",
       "      <td>http://mail.cup.com/nag/\\n</td>\n",
       "    </tr>\n",
       "    <tr>\n",
       "      <th>4</th>\n",
       "      <td>192.168.10.4:55308]</td>\n",
       "      <td>[Sun Mar 01 06:28:15.986326 2020]</td>\n",
       "      <td>32548]</td>\n",
       "      <td>http://mail.cup.com/nag/\\n</td>\n",
       "    </tr>\n",
       "  </tbody>\n",
       "</table>\n",
       "</div>"
      ],
      "text/plain": [
       "            Ip_address                           Date_Time     PID  \\\n",
       "0  192.168.10.4:55308]  [Sun Mar 01 06:28:15.983231 2020]   32548]   \n",
       "1  192.168.10.4:55308]  [Sun Mar 01 06:28:15.984200 2020]   32548]   \n",
       "2  192.168.10.4:55308]  [Sun Mar 01 06:28:15.984863 2020]   32548]   \n",
       "3  192.168.10.4:55308]  [Sun Mar 01 06:28:15.985763 2020]   32548]   \n",
       "4  192.168.10.4:55308]  [Sun Mar 01 06:28:15.986326 2020]   32548]   \n",
       "\n",
       "               Referer_Header  \n",
       "0  http://mail.cup.com/nag/\\n  \n",
       "1  http://mail.cup.com/nag/\\n  \n",
       "2  http://mail.cup.com/nag/\\n  \n",
       "3  http://mail.cup.com/nag/\\n  \n",
       "4  http://mail.cup.com/nag/\\n  "
      ]
     },
     "execution_count": 219,
     "metadata": {},
     "output_type": "execute_result"
    }
   ],
   "source": [
    "error_log_data.head()"
   ]
  },
  {
   "cell_type": "code",
   "execution_count": 222,
   "id": "fb860a86",
   "metadata": {},
   "outputs": [],
   "source": [
    "error_log_data.Ip_address=error_log_data.Ip_address.apply(lambda x:remove_bracket(x))\n",
    "error_log_data.Ip_address=error_log_data.Ip_address.apply(lambda x:x.split(':')[0])"
   ]
  },
  {
   "cell_type": "code",
   "execution_count": 231,
   "id": "514884ab",
   "metadata": {},
   "outputs": [],
   "source": [
    "error_log_data.Date_Time=error_log_data.Date_Time.apply(lambda x:remove_bracket(x))\n",
    "error_log_data.Date_Time=error_log_data.Date_Time.apply(lambda x:x.split('06:')[0])"
   ]
  },
  {
   "cell_type": "code",
   "execution_count": 232,
   "id": "8d10afb5",
   "metadata": {},
   "outputs": [],
   "source": [
    "error_log_data.PID=error_log_data.PID.apply(lambda x:remove_bracket(x))"
   ]
  },
  {
   "cell_type": "code",
   "execution_count": 233,
   "id": "dadc0195",
   "metadata": {},
   "outputs": [
    {
     "data": {
      "text/html": [
       "<div>\n",
       "<style scoped>\n",
       "    .dataframe tbody tr th:only-of-type {\n",
       "        vertical-align: middle;\n",
       "    }\n",
       "\n",
       "    .dataframe tbody tr th {\n",
       "        vertical-align: top;\n",
       "    }\n",
       "\n",
       "    .dataframe thead th {\n",
       "        text-align: right;\n",
       "    }\n",
       "</style>\n",
       "<table border=\"1\" class=\"dataframe\">\n",
       "  <thead>\n",
       "    <tr style=\"text-align: right;\">\n",
       "      <th></th>\n",
       "      <th>Ip_address</th>\n",
       "      <th>Date_Time</th>\n",
       "      <th>PID</th>\n",
       "      <th>Referer_Header</th>\n",
       "    </tr>\n",
       "  </thead>\n",
       "  <tbody>\n",
       "    <tr>\n",
       "      <th>0</th>\n",
       "      <td>192.168.10.4</td>\n",
       "      <td>Sun Mar 01</td>\n",
       "      <td>32548</td>\n",
       "      <td>http://mail.cup.com/nag/\\n</td>\n",
       "    </tr>\n",
       "    <tr>\n",
       "      <th>1</th>\n",
       "      <td>192.168.10.4</td>\n",
       "      <td>Sun Mar 01</td>\n",
       "      <td>32548</td>\n",
       "      <td>http://mail.cup.com/nag/\\n</td>\n",
       "    </tr>\n",
       "    <tr>\n",
       "      <th>2</th>\n",
       "      <td>192.168.10.4</td>\n",
       "      <td>Sun Mar 01</td>\n",
       "      <td>32548</td>\n",
       "      <td>http://mail.cup.com/nag/\\n</td>\n",
       "    </tr>\n",
       "    <tr>\n",
       "      <th>3</th>\n",
       "      <td>192.168.10.4</td>\n",
       "      <td>Sun Mar 01</td>\n",
       "      <td>32548</td>\n",
       "      <td>http://mail.cup.com/nag/\\n</td>\n",
       "    </tr>\n",
       "    <tr>\n",
       "      <th>4</th>\n",
       "      <td>192.168.10.4</td>\n",
       "      <td>Sun Mar 01</td>\n",
       "      <td>32548</td>\n",
       "      <td>http://mail.cup.com/nag/\\n</td>\n",
       "    </tr>\n",
       "    <tr>\n",
       "      <th>...</th>\n",
       "      <td>...</td>\n",
       "      <td>...</td>\n",
       "      <td>...</td>\n",
       "      <td>...</td>\n",
       "    </tr>\n",
       "    <tr>\n",
       "      <th>636</th>\n",
       "      <td>192.168.10.130</td>\n",
       "      <td>Thu Mar 05</td>\n",
       "      <td>14982</td>\n",
       "      <td>http://mail.spiral.com/turba/\\n</td>\n",
       "    </tr>\n",
       "    <tr>\n",
       "      <th>637</th>\n",
       "      <td>192.168.10.130</td>\n",
       "      <td>Thu Mar 05</td>\n",
       "      <td>14982</td>\n",
       "      <td>http://mail.spiral.com/turba/\\n</td>\n",
       "    </tr>\n",
       "    <tr>\n",
       "      <th>638</th>\n",
       "      <td>192.168.10.130</td>\n",
       "      <td>Thu Mar 05</td>\n",
       "      <td>14982</td>\n",
       "      <td>http://mail.spiral.com/turba/\\n</td>\n",
       "    </tr>\n",
       "    <tr>\n",
       "      <th>639</th>\n",
       "      <td>192.168.10.130</td>\n",
       "      <td>Thu Mar 05</td>\n",
       "      <td>14982</td>\n",
       "      <td>http://mail.spiral.com/turba/\\n</td>\n",
       "    </tr>\n",
       "    <tr>\n",
       "      <th>640</th>\n",
       "      <td>192.168.10.130</td>\n",
       "      <td>Thu Mar 05</td>\n",
       "      <td>14982</td>\n",
       "      <td>http://mail.spiral.com/turba/\\n</td>\n",
       "    </tr>\n",
       "  </tbody>\n",
       "</table>\n",
       "<p>641 rows × 4 columns</p>\n",
       "</div>"
      ],
      "text/plain": [
       "         Ip_address     Date_Time     PID                   Referer_Header\n",
       "0      192.168.10.4   Sun Mar 01   32548        http://mail.cup.com/nag/\\n\n",
       "1      192.168.10.4   Sun Mar 01   32548        http://mail.cup.com/nag/\\n\n",
       "2      192.168.10.4   Sun Mar 01   32548        http://mail.cup.com/nag/\\n\n",
       "3      192.168.10.4   Sun Mar 01   32548        http://mail.cup.com/nag/\\n\n",
       "4      192.168.10.4   Sun Mar 01   32548        http://mail.cup.com/nag/\\n\n",
       "..              ...           ...     ...                              ...\n",
       "636  192.168.10.130   Thu Mar 05   14982   http://mail.spiral.com/turba/\\n\n",
       "637  192.168.10.130   Thu Mar 05   14982   http://mail.spiral.com/turba/\\n\n",
       "638  192.168.10.130   Thu Mar 05   14982   http://mail.spiral.com/turba/\\n\n",
       "639  192.168.10.130   Thu Mar 05   14982   http://mail.spiral.com/turba/\\n\n",
       "640  192.168.10.130   Thu Mar 05   14982   http://mail.spiral.com/turba/\\n\n",
       "\n",
       "[641 rows x 4 columns]"
      ]
     },
     "execution_count": 233,
     "metadata": {},
     "output_type": "execute_result"
    }
   ],
   "source": [
    "error_log_data"
   ]
  },
  {
   "cell_type": "markdown",
   "id": "4d653533",
   "metadata": {},
   "source": [
    "## user_data "
   ]
  },
  {
   "cell_type": "code",
   "execution_count": 252,
   "id": "ddd8b8f2",
   "metadata": {},
   "outputs": [
    {
     "data": {
      "text/plain": [
       "0"
      ]
     },
     "execution_count": 252,
     "metadata": {},
     "output_type": "execute_result"
    }
   ],
   "source": [
    "user_data.Date_Time[0]"
   ]
  },
  {
   "cell_type": "code",
   "execution_count": 251,
   "id": "d35213fe",
   "metadata": {},
   "outputs": [],
   "source": [
    "user_data=user_data.fillna(0)"
   ]
  },
  {
   "cell_type": "code",
   "execution_count": 261,
   "id": "3962b346",
   "metadata": {},
   "outputs": [],
   "source": [
    "user_data=user_data[user_data.Date_Time!=0].reset_index(drop=True)"
   ]
  },
  {
   "cell_type": "code",
   "execution_count": 262,
   "id": "195024e1",
   "metadata": {},
   "outputs": [
    {
     "data": {
      "text/plain": [
       "'2020-02-28'"
      ]
     },
     "execution_count": 262,
     "metadata": {},
     "output_type": "execute_result"
    }
   ],
   "source": [
    "user_data.Date_Time[0]"
   ]
  },
  {
   "cell_type": "code",
   "execution_count": 263,
   "id": "46796fd1",
   "metadata": {},
   "outputs": [],
   "source": [
    "user_data.Date_Time=user_data.Date_Time.apply(lambda x:x.split(' ')[0])"
   ]
  },
  {
   "cell_type": "code",
   "execution_count": 264,
   "id": "b7bb57ef",
   "metadata": {},
   "outputs": [
    {
     "data": {
      "text/html": [
       "<div>\n",
       "<style scoped>\n",
       "    .dataframe tbody tr th:only-of-type {\n",
       "        vertical-align: middle;\n",
       "    }\n",
       "\n",
       "    .dataframe tbody tr th {\n",
       "        vertical-align: top;\n",
       "    }\n",
       "\n",
       "    .dataframe thead th {\n",
       "        text-align: right;\n",
       "    }\n",
       "</style>\n",
       "<table border=\"1\" class=\"dataframe\">\n",
       "  <thead>\n",
       "    <tr style=\"text-align: right;\">\n",
       "      <th></th>\n",
       "      <th>index</th>\n",
       "      <th>Date_Time</th>\n",
       "      <th>Date_id</th>\n",
       "      <th>Next_State</th>\n",
       "      <th>User</th>\n",
       "    </tr>\n",
       "  </thead>\n",
       "  <tbody>\n",
       "    <tr>\n",
       "      <th>0</th>\n",
       "      <td>1</td>\n",
       "      <td>2020-02-28</td>\n",
       "      <td>123111</td>\n",
       "      <td>Login\\n</td>\n",
       "      <td>user-0</td>\n",
       "    </tr>\n",
       "    <tr>\n",
       "      <th>1</th>\n",
       "      <td>2</td>\n",
       "      <td>2020-02-28</td>\n",
       "      <td>244144</td>\n",
       "      <td>Personal Preferences\\n</td>\n",
       "      <td>user-0</td>\n",
       "    </tr>\n",
       "    <tr>\n",
       "      <th>2</th>\n",
       "      <td>3</td>\n",
       "      <td>2020-02-28</td>\n",
       "      <td>950956</td>\n",
       "      <td>Mail Delete Preferences\\n</td>\n",
       "      <td>user-0</td>\n",
       "    </tr>\n",
       "    <tr>\n",
       "      <th>3</th>\n",
       "      <td>4</td>\n",
       "      <td>2020-02-28</td>\n",
       "      <td>522902</td>\n",
       "      <td>Home\\n</td>\n",
       "      <td>user-0</td>\n",
       "    </tr>\n",
       "    <tr>\n",
       "      <th>4</th>\n",
       "      <td>5</td>\n",
       "      <td>2020-02-28</td>\n",
       "      <td>807088</td>\n",
       "      <td>MenuBarSelection\\n</td>\n",
       "      <td>user-0</td>\n",
       "    </tr>\n",
       "    <tr>\n",
       "      <th>...</th>\n",
       "      <td>...</td>\n",
       "      <td>...</td>\n",
       "      <td>...</td>\n",
       "      <td>...</td>\n",
       "      <td>...</td>\n",
       "    </tr>\n",
       "    <tr>\n",
       "      <th>476453</th>\n",
       "      <td>646231</td>\n",
       "      <td>2020-03-06</td>\n",
       "      <td>632661</td>\n",
       "      <td>NewCalendarEvent\\n</td>\n",
       "      <td>user-9</td>\n",
       "    </tr>\n",
       "    <tr>\n",
       "      <th>476454</th>\n",
       "      <td>646232</td>\n",
       "      <td>2020-03-06</td>\n",
       "      <td>658098</td>\n",
       "      <td>Home\\n</td>\n",
       "      <td>user-9</td>\n",
       "    </tr>\n",
       "    <tr>\n",
       "      <th>476455</th>\n",
       "      <td>646233</td>\n",
       "      <td>2020-03-06</td>\n",
       "      <td>526480</td>\n",
       "      <td>MenuBarSelection\\n</td>\n",
       "      <td>user-9</td>\n",
       "    </tr>\n",
       "    <tr>\n",
       "      <th>476456</th>\n",
       "      <td>646234</td>\n",
       "      <td>2020-03-06</td>\n",
       "      <td>526653</td>\n",
       "      <td>Logout\\n</td>\n",
       "      <td>user-9</td>\n",
       "    </tr>\n",
       "    <tr>\n",
       "      <th>476457</th>\n",
       "      <td>646235</td>\n",
       "      <td>2020-03-06</td>\n",
       "      <td>773555</td>\n",
       "      <td>Idle\\n</td>\n",
       "      <td>user-9</td>\n",
       "    </tr>\n",
       "  </tbody>\n",
       "</table>\n",
       "<p>476458 rows × 5 columns</p>\n",
       "</div>"
      ],
      "text/plain": [
       "         index   Date_Time Date_id                  Next_State    User\n",
       "0            1  2020-02-28  123111                     Login\\n  user-0\n",
       "1            2  2020-02-28  244144      Personal Preferences\\n  user-0\n",
       "2            3  2020-02-28  950956   Mail Delete Preferences\\n  user-0\n",
       "3            4  2020-02-28  522902                      Home\\n  user-0\n",
       "4            5  2020-02-28  807088          MenuBarSelection\\n  user-0\n",
       "...        ...         ...     ...                         ...     ...\n",
       "476453  646231  2020-03-06  632661          NewCalendarEvent\\n  user-9\n",
       "476454  646232  2020-03-06  658098                      Home\\n  user-9\n",
       "476455  646233  2020-03-06  526480          MenuBarSelection\\n  user-9\n",
       "476456  646234  2020-03-06  526653                    Logout\\n  user-9\n",
       "476457  646235  2020-03-06  773555                      Idle\\n  user-9\n",
       "\n",
       "[476458 rows x 5 columns]"
      ]
     },
     "execution_count": 264,
     "metadata": {},
     "output_type": "execute_result"
    }
   ],
   "source": [
    "user_data"
   ]
  },
  {
   "cell_type": "code",
   "execution_count": 265,
   "id": "048d6f70",
   "metadata": {},
   "outputs": [],
   "source": [
    "user_data['Date_Time']=pd.to_datetime(user_data['Date_Time'])"
   ]
  },
  {
   "cell_type": "code",
   "execution_count": 267,
   "id": "7ff9bcfd",
   "metadata": {},
   "outputs": [
    {
     "data": {
      "text/html": [
       "<div>\n",
       "<style scoped>\n",
       "    .dataframe tbody tr th:only-of-type {\n",
       "        vertical-align: middle;\n",
       "    }\n",
       "\n",
       "    .dataframe tbody tr th {\n",
       "        vertical-align: top;\n",
       "    }\n",
       "\n",
       "    .dataframe thead th {\n",
       "        text-align: right;\n",
       "    }\n",
       "</style>\n",
       "<table border=\"1\" class=\"dataframe\">\n",
       "  <thead>\n",
       "    <tr style=\"text-align: right;\">\n",
       "      <th></th>\n",
       "      <th>index</th>\n",
       "      <th>Date_Time</th>\n",
       "      <th>Date_id</th>\n",
       "      <th>Next_State</th>\n",
       "      <th>User</th>\n",
       "    </tr>\n",
       "  </thead>\n",
       "  <tbody>\n",
       "    <tr>\n",
       "      <th>0</th>\n",
       "      <td>1</td>\n",
       "      <td>2020-02-28</td>\n",
       "      <td>123111</td>\n",
       "      <td>Login\\n</td>\n",
       "      <td>user-0</td>\n",
       "    </tr>\n",
       "    <tr>\n",
       "      <th>1</th>\n",
       "      <td>2</td>\n",
       "      <td>2020-02-28</td>\n",
       "      <td>244144</td>\n",
       "      <td>Personal Preferences\\n</td>\n",
       "      <td>user-0</td>\n",
       "    </tr>\n",
       "    <tr>\n",
       "      <th>2</th>\n",
       "      <td>3</td>\n",
       "      <td>2020-02-28</td>\n",
       "      <td>950956</td>\n",
       "      <td>Mail Delete Preferences\\n</td>\n",
       "      <td>user-0</td>\n",
       "    </tr>\n",
       "    <tr>\n",
       "      <th>3</th>\n",
       "      <td>4</td>\n",
       "      <td>2020-02-28</td>\n",
       "      <td>522902</td>\n",
       "      <td>Home\\n</td>\n",
       "      <td>user-0</td>\n",
       "    </tr>\n",
       "    <tr>\n",
       "      <th>4</th>\n",
       "      <td>5</td>\n",
       "      <td>2020-02-28</td>\n",
       "      <td>807088</td>\n",
       "      <td>MenuBarSelection\\n</td>\n",
       "      <td>user-0</td>\n",
       "    </tr>\n",
       "  </tbody>\n",
       "</table>\n",
       "</div>"
      ],
      "text/plain": [
       "   index  Date_Time Date_id                  Next_State    User\n",
       "0      1 2020-02-28  123111                     Login\\n  user-0\n",
       "1      2 2020-02-28  244144      Personal Preferences\\n  user-0\n",
       "2      3 2020-02-28  950956   Mail Delete Preferences\\n  user-0\n",
       "3      4 2020-02-28  522902                      Home\\n  user-0\n",
       "4      5 2020-02-28  807088          MenuBarSelection\\n  user-0"
      ]
     },
     "execution_count": 267,
     "metadata": {},
     "output_type": "execute_result"
    }
   ],
   "source": [
    "user_data.head()"
   ]
  },
  {
   "cell_type": "code",
   "execution_count": 268,
   "id": "b4bb2e09",
   "metadata": {},
   "outputs": [],
   "source": [
    "## Attack Data"
   ]
  },
  {
   "cell_type": "code",
   "execution_count": 269,
   "id": "66393c0a",
   "metadata": {},
   "outputs": [
    {
     "data": {
      "text/html": [
       "<div>\n",
       "<style scoped>\n",
       "    .dataframe tbody tr th:only-of-type {\n",
       "        vertical-align: middle;\n",
       "    }\n",
       "\n",
       "    .dataframe tbody tr th {\n",
       "        vertical-align: top;\n",
       "    }\n",
       "\n",
       "    .dataframe thead th {\n",
       "        text-align: right;\n",
       "    }\n",
       "</style>\n",
       "<table border=\"1\" class=\"dataframe\">\n",
       "  <thead>\n",
       "    <tr style=\"text-align: right;\">\n",
       "      <th></th>\n",
       "      <th>Date_Time</th>\n",
       "      <th>Status</th>\n",
       "      <th>User</th>\n",
       "    </tr>\n",
       "  </thead>\n",
       "  <tbody>\n",
       "    <tr>\n",
       "      <th>0</th>\n",
       "      <td>Wed Mar 4 12:37:51</td>\n",
       "      <td>okay-upload-webshell\\n</td>\n",
       "      <td>user-4</td>\n",
       "    </tr>\n",
       "    <tr>\n",
       "      <th>1</th>\n",
       "      <td>Wed Mar 4 12:37:51</td>\n",
       "      <td>success\\n</td>\n",
       "      <td>user-4</td>\n",
       "    </tr>\n",
       "    <tr>\n",
       "      <th>2</th>\n",
       "      <td>Wed Mar 4 12:38:05</td>\n",
       "      <td>okay-curl\\n</td>\n",
       "      <td>user-4</td>\n",
       "    </tr>\n",
       "    <tr>\n",
       "      <th>3</th>\n",
       "      <td>Wed Mar 4 12:38:05</td>\n",
       "      <td>success\\n</td>\n",
       "      <td>user-4</td>\n",
       "    </tr>\n",
       "    <tr>\n",
       "      <th>4</th>\n",
       "      <td>Wed Mar 4 13:51:47</td>\n",
       "      <td>nmap\\n</td>\n",
       "      <td>user-4</td>\n",
       "    </tr>\n",
       "  </tbody>\n",
       "</table>\n",
       "</div>"
      ],
      "text/plain": [
       "             Date_Time                   Status    User\n",
       "0  Wed Mar 4 12:37:51    okay-upload-webshell\\n  user-4\n",
       "1  Wed Mar 4 12:37:51                 success\\n  user-4\n",
       "2  Wed Mar 4 12:38:05               okay-curl\\n  user-4\n",
       "3  Wed Mar 4 12:38:05                 success\\n  user-4\n",
       "4  Wed Mar 4 13:51:47                    nmap\\n  user-4"
      ]
     },
     "execution_count": 269,
     "metadata": {},
     "output_type": "execute_result"
    }
   ],
   "source": [
    "attack_data.head()"
   ]
  },
  {
   "cell_type": "markdown",
   "id": "7eec1119",
   "metadata": {},
   "source": [
    "# Exploratory Data Analysis"
   ]
  },
  {
   "cell_type": "code",
   "execution_count": null,
   "id": "84c85730",
   "metadata": {},
   "outputs": [],
   "source": []
  }
 ],
 "metadata": {
  "kernelspec": {
   "display_name": "Python 3 (ipykernel)",
   "language": "python",
   "name": "python3"
  },
  "language_info": {
   "codemirror_mode": {
    "name": "ipython",
    "version": 3
   },
   "file_extension": ".py",
   "mimetype": "text/x-python",
   "name": "python",
   "nbconvert_exporter": "python",
   "pygments_lexer": "ipython3",
   "version": "3.9.12"
  }
 },
 "nbformat": 4,
 "nbformat_minor": 5
}
